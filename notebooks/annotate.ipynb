{
 "cells": [
  {
   "cell_type": "markdown",
   "metadata": {},
   "source": [
    "Road map:\n",
    "\n",
    "[ ] Create a prompt to annotate automatically parts of the text that are navigation instruction from Dan Cruickshank's book.\n",
    "[ ] Baseline on my eval.\n",
    "[ ] Feed the instructions to the model to fine tune it.\n",
    "[ ] Run it on held out dataset.\n",
    "# Extra things for the prompt:\n",
    "[ ] Later extract not just nav instructions but all kinds of tags, this could train a bunch of special or interesting tasks like: \"Identify narration\", \"Identify Historical Places\", \"Identify Historical Events tied to places\"\n",
    "and train them jointly.\n"
   ]
  },
  {
   "cell_type": "code",
   "execution_count": 44,
   "metadata": {},
   "outputs": [],
   "source": [
    "NAV_TYPES = (\n",
    "    \"\"\"\n",
    "T1. Navigation instructions always imply to walk one way or another with phrases.\n",
    "\n",
    "One example of T1\n",
    "```\n",
    "One of the more charming sections stands round the corner from Tooley Street, in St Thomas Street and Crucifix Lane.\n",
    "```\n",
    "Another example is:\n",
    "```\n",
    "Fitting, then, that at the time the neighbouring 191 Bermondsey Street was the rectory for St Mary Magdalen church, which stands a little down the road.\n",
    "```\n",
    "\n",
    "\"\"\",\n",
    "    \"\"\"\n",
    "T2. Navigation instructions are of different lengths and range over several\n",
    "sentences. Make sure you capture the entirity of these sentence within the `Nav\n",
    "Tags`.\n",
    "\"\"\",\n",
    "    \"\"\"\n",
    "T4. Often the instructions mix North, South East, West along with the other Types. These are valid and should be included in the `Nav Tags`. \n",
    "\n",
    "An example is:\n",
    "```\n",
    "From the south-western end of Shad Thames, go west along Tooley Street and cross Tower Bridge Road.\n",
    "```\n",
    "\"\"\",\n",
    "    \"\"\"\n",
    "T5. Often the instructions include traveling across other streets, buildings or\n",
    "junctions. These should be included in the `Nav Tags`. An example is:\n",
    "```\n",
    "Leave the churchyard by the gate on Abbey Street, which runs perpendicular to Bermondsey Street.\n",
    "```\n",
    "\"\"\",\n",
    "    \"\"\"\n",
    "\n",
    "T3. *If and ONLY if* you find a valid navigation in T1,2,4,5,6 above, you may have a visual markers or features specified with the navigation instructions that can help a user but are useless in of themselves. Include these in those `Nav Tags`.\n",
    "\n",
    "So an example of combination of T2 and T3:\n",
    "```\n",
    "The route to take, though, is the thoroughfare that intersects with Wheler\n",
    "Street.  This is Quaker Street.  On the north side is a row of gabled former\n",
    "railway warehouses dating from the late nineteenth century and now gutted and\n",
    "being converted into an economy hotel; on the south side is an early\n",
    "twentieth-century block of industrial dwellings, portions of the former Truman’s\n",
    "Brewery, and a large interwar public-housing block named Wheler House.\n",
    "```\n",
    "The `gabled former railway warehouses dating from the late nineteenth century and now gutted and\n",
    "being converted into an economy hotel` is the snippet that is a visual marker and should be included in the `Nav Tag`.\n",
    "\n",
    "\"\"\",\n",
    ")\n",
    "START_TAG = \"[NAV]\"\n",
    "END_TAG = \"[/NAV]\"\n",
    "NUM_TYPES = len(NAV_TYPES)\n",
    "NL = \"\\n\"\n",
    "LANGUAGE = \"English\"\n",
    "REASON_START_TAG = \"[REASON]\"\n",
    "REASON_END_TAG = \"[/REASON]\"\n",
    "NUM_INSTRUCTIONS = 9\n",
    "\n",
    "PROMPT = f\"\"\"\n",
    "You are an expert at annotating {LANGUAGE} natural language text I give you with tags per my instructions below. \n",
    "\n",
    "\n",
    "# Context\n",
    "I will give you some text from a Walking tour book referring to a specific route through the city of London. \n",
    "The task is to annotate parts of the text that describe specific navigation instructions.\n",
    "\n",
    "\n",
    "# Instructions:\n",
    "I want you to follow these instructions to do this:\n",
    "1. Place a start and end tag {START_TAG}, {END_TAG} delimiting the navigation instruction. lets call these `Nav Tags` for future reference.\n",
    "\n",
    "2.  Below are the Types of navigation tags that you need to use to annotate the text I provide.  The types are defined between the `----` delims for clarity:\n",
    "----\n",
    "{NL.join(NAV_TYPES)}\n",
    "----\n",
    "\n",
    "Lets call them `T1`, `T2`... `TN` for N navigation types - above we have N={NUM_TYPES}  -  I will use these to refer in the examples below.\n",
    "\n",
    "3. The types of navigation instructions are not mutually exclusive. You may find multiple types in a single navigation instruction.\n",
    "\n",
    "4. If the text only talks about a place but not how to get there or what to do there, it is not a navigation instruction and should not be annotated.\n",
    "\n",
    "5. There are likely several of `Nav Tags` in the text so try your best to find them all.\n",
    "\n",
    "6. Output the EXACT text that is between the `Nav Tags` including any punctuation, capitalization, and line breaks. DO NOT SUMMARIZE IT.\n",
    "\n",
    "7. You MUST include a reason for each `Nav Tag` in the response be one of the {NUM_TYPES} types of navigation instructions and that the text between the `Nav Tags` satisfies that criteria.\n",
    "\n",
    "8. Make sure each NAV tag delimited text is followed by its individual REASON tag. So if you output, say, N {START_TAG}...{END_TAG} pairs you should have N {REASON_START_TAG}...{REASON_END_TAG} pairs as well.\n",
    "\n",
    "9. When you phrase the reason text don't mention T1, T2.. T{NUM_TYPES} instead just expand those reasons inline.\n",
    "\n",
    "Make sure 200% that you follow **all** the {NUM_INSTRUCTIONS} instructions above to the letter. \n",
    "\n",
    "\n",
    "# Total examples of input and output to be given to you:\n",
    "\n",
    "Here are the kind of input `Example text` the the Output I will expect from you.\n",
    "Example text 1:\n",
    "```\n",
    "From the south-western end of Shad Thames, go west along Tooley Street and cross\n",
    "Tower Bridge Road. This portion of the walk takes us through the mercantile hub\n",
    "of Victorian Bermondsey – from London Bridge station, via the warehouses of\n",
    "Bermondsey Street district, to the centre of London’s leather industry. Our\n",
    "first port of call is the doleful wastes of Potters Field Park, now a windswept\n",
    "and unlovely public space including a somewhat trampled lawn and ‘amphitheatre’.\n",
    "\n",
    "```\n",
    "Output:\n",
    "```\n",
    "{START_TAG}From the south-western end of Shad Thames, go west along Tooley Street and cross\n",
    "Tower Bridge Road.{END_TAG}  \n",
    "{REASON_START_TAG} The annotation was done  because it seems to have directions (N, S, E, W) and T5 as well where \"cross Tower Bridge\" follows the pattern of crossing a street. {REASON_END_TAG}\n",
    "{START_TAG} Our first port of call is the doleful wastes of Potters Field Park, {END_TAG} \n",
    "{REASON_START_TAG}  The  annotation was done because it has an implicit walk direction to follow and stop at Potters field. {REASON_END_TAG}\n",
    "```\n",
    "Note how the each NAV tag was followed by its REASON tag.\n",
    "Note that the second sentence in the Example text: above:\n",
    "    > This portion of the walk takes us through the mercantile hub\n",
    "      of Victorian Bermondsey – from London Bridge station, via the \n",
    "      warehouses of Bermondsey Street district, to the centre of London’s leather industry.\n",
    "\n",
    "does not follow type T3 close enough and thus does not have the `Nav Tags`. \n",
    "\n",
    "\n",
    "\n",
    "Example text 2:\n",
    "```\n",
    "Walk south-west along More London Place, a geometrical and not unpleasing sliver\n",
    "of a passage, which leads back to Tooley Street and the remains of a more\n",
    "vigorous and muscular world. Tooley Street was a great mercantile thoroughfare\n",
    "in the nineteenth century, lined with ware-houses, offices and railway\n",
    "structures related to London Bridge station which sits, at high level,\n",
    "immediately to its south.\n",
    "```\n",
    "Output:\n",
    "```\n",
    "{START_TAG}Walk south-west along More London Place, a geometrical and not unpleasing sliver\n",
    "of a passage, which leads back to Tooley Street and the remains of a more\n",
    "vigorous and muscular world.{END_TAG}\n",
    "{REASON_START_TAG} This was annotated because it asks you to walk south-west towards tooly steet and \n",
    " there is also a visual feature: `unpleasing sliver of a passage`  to guide you there{REASON_END_TAG}\n",
    "```\n",
    "Note that sentence 2 in the Example text is not telling you how to get to Tooley Street but instead is descibing something about offices\n",
    "and railway structures and the London Bridge station; Even though it says \"immediately to its south.\" its something to \n",
    "be seen but not a navigation instruction.\n",
    "\n",
    "# Examples that will have no valid `Nav Tags`:\n",
    "\n",
    "Example text 1:\n",
    "```\n",
    "When faced with a bomb packed with explosives, the relatively thin brickwork is\n",
    "horribly vulnerable and easily penetrated; on the night of 25 October 1940,\n",
    "during the Blitz, a bomb crashed through the roof a little to the east of this\n",
    "spot, at the intersection of Tanner Street and Druid Street. Seventy-seven of\n",
    "the people sheltering inside were killed.\n",
    "```\n",
    "\n",
    "Example text 2: \n",
    "```\n",
    "Samuel Beazley, born 1786, was one of the most famed and productive individuals\n",
    "in London theatre, writing nearly a hundred plays and designing and enlarging a\n",
    "number of theatres, including two notable structures of the 1830s: the long-lost\n",
    "neoclassical City of London Theatre in Norton Folgate, Spitalfields, and the\n",
    "cast-iron Ionic colonnade that still embellishes the Drury Lane Theatre in\n",
    "Covent Garden.\n",
    "```\n",
    "\n",
    "In BOTH the above examples the Output is empty because they match no navigation Types in the text satisfying \n",
    "the T1-T{NUM_TYPES} types mentioned. SKIP TEXT SNIPPETS and don't add delimiters to them.\n",
    "\"\"\""
   ]
  },
  {
   "cell_type": "code",
   "execution_count": 45,
   "metadata": {},
   "outputs": [
    {
     "name": "stdout",
     "output_type": "stream",
     "text": [
      "\n",
      "You are an expert at annotating English natural language text I give you with tags per my instructions below. \n",
      "\n",
      "\n",
      "# Context\n",
      "I will give you some text from a Walking tour book referring to a specific route through the city of London. \n",
      "The task is to annotate parts of the text that describe specific navigation instructions.\n",
      "\n",
      "\n",
      "# Instructions:\n",
      "I want you to follow these instructions to do this:\n",
      "1. Place a start and end tag [NAV], [/NAV] delimiting the navigation instruction. lets call these `Nav Tags` for future reference.\n",
      "\n",
      "2.  Below are the Types of navigation tags that you need to use to annotate the text I provide.  The types are defined between the `----` delims for clarity:\n",
      "----\n",
      "\n",
      "T1. Navigation instructions always imply to walk one way or another with phrases.\n",
      "\n",
      "One example of T1\n",
      "```\n",
      "One of the more charming sections stands round the corner from Tooley Street, in St Thomas Street and Crucifix Lane.\n",
      "```\n",
      "Another example is:\n",
      "```\n",
      "Fitting, then, that at the time the neighbouring 191 Bermondsey Street was the rectory for St Mary Magdalen church, which stands a little down the road.\n",
      "```\n",
      "\n",
      "\n",
      "\n",
      "T2. Navigation instructions are of different lengths and range over several\n",
      "sentences. Make sure you capture the entirity of these sentence within the `Nav\n",
      "Tags`.\n",
      "\n",
      "\n",
      "T4. Often the instructions mix North, South East, West along with the other Types. These are valid and should be included in the `Nav Tags`. \n",
      "\n",
      "An example is:\n",
      "```\n",
      "From the south-western end of Shad Thames, go west along Tooley Street and cross Tower Bridge Road.\n",
      "```\n",
      "\n",
      "\n",
      "T5. Often the instructions include traveling across other streets, buildings or\n",
      "junctions. These should be included in the `Nav Tags`. An example is:\n",
      "```\n",
      "Leave the churchyard by the gate on Abbey Street, which runs perpendicular to Bermondsey Street.\n",
      "```\n",
      "\n",
      "\n",
      "\n",
      "T3. *If and ONLY if* you find a valid navigation in T1,2,4,5,6 above, you may have a visual markers or features specified with the navigation instructions that can help a user but are useless in of themselves. Include these in those `Nav Tags`.\n",
      "\n",
      "So an example of combination of T2 and T3:\n",
      "```\n",
      "The route to take, though, is the thoroughfare that intersects with Wheler\n",
      "Street.  This is Quaker Street.  On the north side is a row of gabled former\n",
      "railway warehouses dating from the late nineteenth century and now gutted and\n",
      "being converted into an economy hotel; on the south side is an early\n",
      "twentieth-century block of industrial dwellings, portions of the former Truman’s\n",
      "Brewery, and a large interwar public-housing block named Wheler House.\n",
      "```\n",
      "The `gabled former railway warehouses dating from the late nineteenth century and now gutted and\n",
      "being converted into an economy hotel` is the snippet that is a visual marker and should be included in the `Nav Tag`.\n",
      "\n",
      "\n",
      "----\n",
      "\n",
      "Lets call them `T1`, `T2`... `TN` for N navigation types - above we have N=5  -  I will use these to refer in the examples below.\n",
      "\n",
      "3. The types of navigation instructions are not mutually exclusive. You may find multiple types in a single navigation instruction.\n",
      "\n",
      "4. If the text only talks about a place but not how to get there or what to do there, it is not a navigation instruction and should not be annotated.\n",
      "\n",
      "5. There are likely several of `Nav Tags` in the text so try your best to find them all.\n",
      "\n",
      "6. Output the EXACT text that is between the `Nav Tags` including any punctuation, capitalization, and line breaks. DO NOT SUMMARIZE IT.\n",
      "\n",
      "7. You MUST include a reason for each `Nav Tag` in the response be one of the 5 types of navigation instructions and that the text between the `Nav Tags` satisfies that criteria.\n",
      "\n",
      "8. Make sure each NAV tag delimited text is followed by its individual REASON tag. So if you output, say, N [NAV]...[/NAV] pairs you should have N [REASON]...[/REASON] pairs as well.\n",
      "\n",
      "9. When you phrase the reason text don't mention T1, T2.. T5 instead just expand those reasons inline.\n",
      "\n",
      "Make sure 200% that you follow **all** the 9 instructions above to the letter. \n",
      "\n",
      "\n",
      "# Total examples of input and output to be given to you:\n",
      "\n",
      "Here are the kind of input `Example text` the the Output I will expect from you.\n",
      "Example text 1:\n",
      "```\n",
      "From the south-western end of Shad Thames, go west along Tooley Street and cross\n",
      "Tower Bridge Road. This portion of the walk takes us through the mercantile hub\n",
      "of Victorian Bermondsey – from London Bridge station, via the warehouses of\n",
      "Bermondsey Street district, to the centre of London’s leather industry. Our\n",
      "first port of call is the doleful wastes of Potters Field Park, now a windswept\n",
      "and unlovely public space including a somewhat trampled lawn and ‘amphitheatre’.\n",
      "\n",
      "```\n",
      "Output:\n",
      "```\n",
      "[NAV]From the south-western end of Shad Thames, go west along Tooley Street and cross\n",
      "Tower Bridge Road.[/NAV]  \n",
      "[REASON] The annotation was done  because it seems to have directions (N, S, E, W) and T5 as well where \"cross Tower Bridge\" follows the pattern of crossing a street. [/REASON]\n",
      "[NAV] Our first port of call is the doleful wastes of Potters Field Park, [/NAV] \n",
      "[REASON]  The  annotation was done because it has an implicit walk direction to follow and stop at Potters field. [/REASON]\n",
      "```\n",
      "Note how the each NAV tag was followed by its REASON tag.\n",
      "Note that the second sentence in the Example text: above:\n",
      "    > This portion of the walk takes us through the mercantile hub\n",
      "      of Victorian Bermondsey – from London Bridge station, via the \n",
      "      warehouses of Bermondsey Street district, to the centre of London’s leather industry.\n",
      "\n",
      "does not follow type T3 close enough and thus does not have the `Nav Tags`. \n",
      "\n",
      "\n",
      "\n",
      "Example text 2:\n",
      "```\n",
      "Walk south-west along More London Place, a geometrical and not unpleasing sliver\n",
      "of a passage, which leads back to Tooley Street and the remains of a more\n",
      "vigorous and muscular world. Tooley Street was a great mercantile thoroughfare\n",
      "in the nineteenth century, lined with ware-houses, offices and railway\n",
      "structures related to London Bridge station which sits, at high level,\n",
      "immediately to its south.\n",
      "```\n",
      "Output:\n",
      "```\n",
      "[NAV]Walk south-west along More London Place, a geometrical and not unpleasing sliver\n",
      "of a passage, which leads back to Tooley Street and the remains of a more\n",
      "vigorous and muscular world.[/NAV]\n",
      "[REASON] This was annotated because it asks you to walk south-west towards tooly steet and \n",
      " there is also a visual feature: `unpleasing sliver of a passage`  to guide you there[/REASON]\n",
      "```\n",
      "Note that sentence 2 in the Example text is not telling you how to get to Tooley Street but instead is descibing something about offices\n",
      "and railway structures and the London Bridge station; Even though it says \"immediately to its south.\" its something to \n",
      "be seen but not a navigation instruction.\n",
      "\n",
      "# Examples that will have no valid `Nav Tags`:\n",
      "\n",
      "Example text 1:\n",
      "```\n",
      "When faced with a bomb packed with explosives, the relatively thin brickwork is\n",
      "horribly vulnerable and easily penetrated; on the night of 25 October 1940,\n",
      "during the Blitz, a bomb crashed through the roof a little to the east of this\n",
      "spot, at the intersection of Tanner Street and Druid Street. Seventy-seven of\n",
      "the people sheltering inside were killed.\n",
      "```\n",
      "\n",
      "Example text 2: \n",
      "```\n",
      "Samuel Beazley, born 1786, was one of the most famed and productive individuals\n",
      "in London theatre, writing nearly a hundred plays and designing and enlarging a\n",
      "number of theatres, including two notable structures of the 1830s: the long-lost\n",
      "neoclassical City of London Theatre in Norton Folgate, Spitalfields, and the\n",
      "cast-iron Ionic colonnade that still embellishes the Drury Lane Theatre in\n",
      "Covent Garden.\n",
      "```\n",
      "\n",
      "In BOTH the above examples the Output is empty because they match no navigation Types in the text satisfying \n",
      "the T1-T5 types mentioned. SKIP TEXT SNIPPETS and don't add delimiters to them.\n",
      "\n"
     ]
    }
   ],
   "source": [
    "print(PROMPT)"
   ]
  },
  {
   "cell_type": "code",
   "execution_count": 4,
   "metadata": {},
   "outputs": [
    {
     "data": {
      "text/plain": [
       "True"
      ]
     },
     "execution_count": 4,
     "metadata": {},
     "output_type": "execute_result"
    }
   ],
   "source": [
    "import dotenv\n",
    "\n",
    "dotenv.load_dotenv(\"../.env\")"
   ]
  },
  {
   "cell_type": "code",
   "execution_count": 52,
   "metadata": {},
   "outputs": [
    {
     "data": {
      "text/plain": [
       "<module 'dotenv' from '/root/miniconda3/envs/mlx_week7/lib/python3.11/site-packages/dotenv/__init__.py'>"
      ]
     },
     "execution_count": 52,
     "metadata": {},
     "output_type": "execute_result"
    }
   ],
   "source": [
    "dotenv"
   ]
  },
  {
   "cell_type": "markdown",
   "metadata": {},
   "source": [
    "# Estimate Number of tokens"
   ]
  },
  {
   "cell_type": "code",
   "execution_count": 8,
   "metadata": {},
   "outputs": [],
   "source": [
    "from nltk.tokenize import sent_tokenize"
   ]
  },
  {
   "cell_type": "code",
   "execution_count": 16,
   "metadata": {},
   "outputs": [
    {
     "name": "stdout",
     "output_type": "stream",
     "text": [
      "showing info https://raw.githubusercontent.com/nltk/nltk_data/gh-pages/index.xml\n",
      "showing info https://raw.githubusercontent.com/nltk/nltk_data/gh-pages/index.xml\n"
     ]
    },
    {
     "data": {
      "text/plain": [
       "True"
      ]
     },
     "execution_count": 16,
     "metadata": {},
     "output_type": "execute_result"
    }
   ],
   "source": [
    "import nltk\n",
    "\n",
    "nltk.download()"
   ]
  },
  {
   "cell_type": "code",
   "execution_count": 24,
   "metadata": {},
   "outputs": [],
   "source": [
    "def grab_and_clean_chapter(chapter_file):\n",
    "    with open(chapter_file) as f:\n",
    "        chapter = f.read()\n",
    "    chapter = chapter.replace(\"\\n\", \" \")\n",
    "    return sent_tokenize(chapter)"
   ]
  },
  {
   "cell_type": "code",
   "execution_count": 26,
   "metadata": {},
   "outputs": [],
   "source": [
    "regent_canal_text = grab_and_clean_chapter(\"./full_text_regents_canal.txt\")"
   ]
  },
  {
   "cell_type": "code",
   "execution_count": 27,
   "metadata": {},
   "outputs": [],
   "source": [
    "spitalfields_text = grab_and_clean_chapter(\"./full_text_spitalfields.txt\")"
   ]
  },
  {
   "cell_type": "code",
   "execution_count": 28,
   "metadata": {},
   "outputs": [],
   "source": [
    "greenwich_text_sentences = grab_and_clean_chapter(\"./full_text_greenwich.txt\")"
   ]
  },
  {
   "cell_type": "code",
   "execution_count": 29,
   "metadata": {},
   "outputs": [],
   "source": [
    "bermondsy_text = grab_and_clean_chapter(\"./full_text_bermondsy.txt\")"
   ]
  },
  {
   "cell_type": "code",
   "execution_count": 20,
   "metadata": {},
   "outputs": [],
   "source": [
    "from langchain_text_splitters import CharacterTextSplitter\n",
    "\n",
    "# remove newline from within the sentences"
   ]
  },
  {
   "cell_type": "code",
   "execution_count": 40,
   "metadata": {},
   "outputs": [],
   "source": [
    "# Lets batch the sentences into groups of 20 each.\n",
    "train_chunks = []\n",
    "test_chunks = []\n",
    "\n",
    "\n",
    "def chunker(sentences, chunk_size=10, overlap=2):\n",
    "    # Split the sentences into chunks of contiguous text with some overlap\n",
    "\n",
    "    return [\n",
    "        (\" \".join(sentences[max(0, i - overlap) : i + chunk_size]))\n",
    "        for i in range(0, len(regent_canal_text), chunk_size)\n",
    "    ]"
   ]
  },
  {
   "cell_type": "code",
   "execution_count": 37,
   "metadata": {},
   "outputs": [
    {
     "data": {
      "text/plain": [
       "['Our route starts at the south side of Victoria Park, at Bonner Hall Bridge – best accessed by getting the Tube to Bethnal Green, a ten-minute walk away.',\n",
       " 'The first portion of this route offers clues about the nature of east London before the arrival of the Regent’s Canal, taking in several buildings that predate the waterways, and whose fates were inexorably changed by its arrival.',\n",
       " 'Before moving on, take a moment to reflect on Victoria Park.',\n",
       " 'In the eighteenth century, this was all open pasture, interspersed with the odd brick kiln and market garden.',\n",
       " 'The one notable feature was Bonner Hall, so called after the sixteenth-century bishop of London Edmund Bonner.',\n",
       " 'All this was to change in the nineteenth century.',\n",
       " 'As London expanded, calls for public parks grew; in 1840, Queen Victoria was presented with a petition signed by 30,000 residents.',\n",
       " 'The Crown estate purchased 218 acres in the area and, over the next few years, converted it into Victoria Park.',\n",
       " 'The park shares a family resemblance to Regent’s Park at the other end of the Regent’s Canal – no doubt down to the fact that its designer, James Pennethorne, was a protégé of none other than John Nash.6 The view south-east from Victoria Park’s Bonner Gate.',\n",
       " 'When I first knew the park – many years ago – it was a fairly rough place.',\n",
       " 'In particular the Pavilion Café, a few hundred metres to the east of Bonner Hall Bridge, was a grisly affair, best avoided unless one wanted to experience the stark reality of East End cuisine.',\n",
       " 'Now, like many in east London, it has transformed into one of the best cafés mentioned in this book.',\n",
       " 'It makes a splendid place to begin the walk if you’re in need of a bite to eat or drink.',\n",
       " 'For those ready to plunge into Georgian industrial architecture, however, it is best to walk to the western end of the park and through the canal gate on to the towpath.',\n",
       " 'Here, one can begin to imagine the feel of the canal in its early days: the canal side adjoining Victoria Park is used as moorings for barges, mostly residential, while across the waterway (which, as is usual, has a towpath – intended for the horses required to tow barges – generally on only one side) are the gardens of houses.',\n",
       " 'This must be a delightful place to live, especially for the nautical-minded.',\n",
       " 'Houses soon give way to light industrial buildings of various dates, many now serving as homes or studios.',\n",
       " 'The decaying Regency charm of The Oval, now accompanied by two Victorian gasholders.',\n",
       " 'When one crosses under the bridge carrying Cambridge Heath Road, everything changes.',\n",
       " 'You are thrust into a splendidly gloomy vista, but one with a moving if modest grandeur.',\n",
       " 'Immediately west of the road bridge is a series of wide, shallow arches and a mighty brick pier, presumably all part of a now-lost wharf or small basin that once ran south of the canal – complete with a small window in the pier suggesting that this massive piece of brick construction is inhabited.',\n",
       " 'Above these works, and parallel to the road bridge, rises the metal bulk of the Victorian railway bridge.',\n",
       " 'The view westwards is enriched by the prospect of a three-storey stucco-clad Regency villa, embellished with no fewer than three full-height bows that offer a charming sinuous frontage to the canal.',\n",
       " 'And looming over all, to the west of the now sadly decaying villa, are the tall and stark skeletal structures of a pair of nineteenth-century gasholders.',\n",
       " 'It’s well worth clambering off the canal here to take a closer look at this threatened piece of industrial and once ornamental London.',\n",
       " 'Go up the stairs to the east of the bridges, cross the Cambridge Heath Road/Mare Street bridge to the south side of the canal and head down the grandly named Corbridge Crescent towards the villa.',\n",
       " 'Several things now happen, and they are all most rewarding.',\n",
       " 'A narrow alley – Grove Passage – lurks below the crushing form of the railway viaduct, and Corbridge Crescent suddenly exposes its early granite setts which, during my last visit at twilight, glistened with moisture and led to a strange and exotic world that unfolded around and in front of the Regency villa.',\n",
       " 'This section of the canal was constructed between 1816 and 1820 and the villa appears to date from around then.',\n",
       " 'Upon closer inspection, it is – despite mutilations – not in such bad condition as it first looks.',\n",
       " 'The cornice has gone, and the front door been butchered, but windows are in reasonable order and a light shines from one.',\n",
       " 'It’s inhabited, at least in part.',\n",
       " 'To the rear is a large, red-brick wing.',\n",
       " 'A notice is fixed next to a small door, which offers a flashback to the old East End: ‘Soup Kitchen … open weekdays 10 to 2, Saturdays 10 to 1, Sundays 11 to 1.’ This marks the end of Corbridge Crescent, which now leads to The Oval – a small piece of neoclassical town planning that incorporated an elongated circus, somewhat in the Nash manner of Regent’s Park.',\n",
       " 'What high ambitions these names evoke.',\n",
       " 'The crumbling villa is the solitary survivor of a crescent, perhaps ruined by the arrival of the railway.',\n",
       " 'Or it was perhaps the fault of the canal itself.',\n",
       " 'Crescent and Oval – located just off the Hackney Road – were new creations in 1820 when the canal arrived but were, in the words of The Buildings of England, ‘hopelessly compromised’ by the social transformation brought about by this industrial thoroughfare.7 Today, all that’s left of The Oval is its form, now defined by a scattering of low and mostly mean twentieth-century industrial structures and by its central island, still framed by robust granite kerbs, but no longer planted – just an oval of beaten earth littered with urban detritus.',\n",
       " 'Only a short distance away, on Hackney Road, there are still substantial rows of early-nineteenth-century terraces and semi-detached villas.',\n",
       " 'Such lofty Georgian ambitions stand in stark contrast to the use of The Oval now.',\n",
       " 'The villa, the land and later buildings that surround it are occupied by Empress Coaches.',\n",
       " 'Everywhere are coaches, campers and buses of different types and sizes, being serviced and cleaned.',\n",
       " 'It has its own surreal charm: in the yard next door, fellows go about their business; one chap with black and shiny hair, in an outsize jacket, ambles around smoking a cigarette.',\n",
       " 'Everything looks like a flashback to the 1950s.',\n",
       " 'This magical, individual and living piece of workaday London is, of course, under threat.',\n",
       " 'Instead of coaches and oily workshops all is to be cleared away for a ‘mixed use’ development containing over 500 square metres of ‘commercial floor space’ and 116 flats.',\n",
       " 'Consent was granted by Tower Hamlets Council in December 2008.',\n",
       " 'So all this now exists on borrowed time – indeed demolition might have taken place by the time you visit.',\n",
       " 'This is how cities die and how character is lost: gradually, stealthily, bit by bit.',\n",
       " 'Towering over the villa to the west are the pair of gasholders.',\n",
       " 'This portion of the Regent’s Canal has been home to gasworks since the Georgian period.',\n",
       " 'The pioneering Imperial Gas Light and Coke Company, which had been founded in 1812 to supply gas to light England’s streets, gained control of the current site of Haggerston Park in 1821, at a time when the canal was still largely surrounded by open fields.8 The second decade of the nineteenth century had witnessed an extraordinary growth in the amount of gas lighting in Britain.',\n",
       " 'In 1812, there was only one gas company; just fifteen years later, every town with a population over 10,000 had a gas supply.',\n",
       " 'The resultant change to urban life was enormous – suddenly, nightfall ceased to represent the end of the day’s work or ambling, and became a new opportunity for labour and pleasure-seeking.',\n",
       " 'The solitary survival of a crescent of Regency houses on The Oval.',\n",
       " 'The gasholders on Corbridge Crescent are somewhat later.',\n",
       " 'They reveal the wonderful way the mid-nineteenth-century mind – intoxicated by the thrill and pomp of the past – could, with only a little appropriate ornament, turn even a functional industrial structure into architecture stamped with the cultural pedigree of history.',\n",
       " 'The smaller of them has vertical stanchions fashioned as two tiers of sixteen classical columns – denuded Corinthian over Doric – evidently calculated to evoke the power and form of the Colosseum in Rome.',\n",
       " 'Interestingly this type of classically embellished rotunda was pioneered for a now-demolished gasholder built on this site in 1856; the current smaller one dates from 1865 and was designed by Joseph Clarke, with the columns cast by the famed Staveley Coal and Iron Company of Derbyshire, and the neighbouring taller but simpler gasholder constructed in 1888–9.9 Now, these gasholders no longer inflate and, if a battle is not waged, are probably not long for this world.',\n",
       " 'Their majestic and sculptural forms, which make a vital contribution to the scene, are due to be demolished, despite protestations by the local heritage group the Hackney Society.',\n",
       " 'Before returning to the canal, cross to the east side of Cambridge Heath Road and into Vyner Street, running parallel and immediately south of the waterway.',\n",
       " 'In the early nineteenth century this cobbled thoroughfare was on the outskirts of a conurbation that sprawled north, up to the area around London Fields.',\n",
       " 'But everything changed with the arrival of the Regent’s Canal.',\n",
       " 'Vyner Street – at that time called John Street – was cut off from the land to the north, and began to develop a rather different character.10 Two centuries later this small street became the unlikely heart of east and north-east London’s burgeoning art scene.',\n",
       " 'New galleries set up here to show not the established trends or artists, nor the ‘mainstream’, but an eclectic mix of what was ‘upcoming’ and experimental.',\n",
       " 'But as is the way with such spontaneous eruptions, the peak is soon passed as corporate interest muscles in.',\n",
       " 'The low rents have now spiralled up, so the vibrant little art world here has become something of a victim of its own success.',\n",
       " 'Some of the pioneering galleries have moved on – mostly west to Fitzrovia – and the art scene of Vyner Street has itself become part of East End history.',\n",
       " 'Nonetheless, at the time of writing there are still some galleries worth visiting, especially on the first Thursday evening of the month when many host events.',\n",
       " 'There are also a few pubs nearby that are more than decent, and where local artists gather: the Victory in Vyner Street, the  Hare at 505 Cambridge Heath Road (a modest three-storey mid-nineteenth-century building that retains much of the atmosphere of a Bethnal Green local) and the Bistrotheque at 23–27 Wadeson Street.',\n",
       " 'This is a sophisticated bar and restaurant housed in battered but large-roomed former industrial buildings, which hosts erudite talks and, famously, outrageously camp cabaret evenings.',\n",
       " 'The Bistrotheque has been going for some years now, remains popular and seems ever-expanding, but was initially amazing simply for being here at all, stuck down a Bethnal Green backstreet and secreted amongst anonymous post-war factory buildings.',\n",
       " 'When you’ve had your fill of the pleasures of Vyner Street and its environs, walk back to the north bank of the canal and continue west.',\n",
       " 'After a short while you come to another bridge, which carries a road leading to Broadway Market and then to London Fields.',\n",
       " 'This is an old market street that now has two good pubs – the Dove, and the Cat and Mutton – said to have occupied the site since 1790.11 Acton’s Lock.',\n",
       " 'The lock-keeper lived in the house on the right until the 1980s.',\n",
       " 'But when I first explored it twenty-five or so years ago, Broadway Market was a desolate place.',\n",
       " 'Most of the array of shops – including one splendid Regency affair – were run-down or closed, sitting alongside a few old-time cafés, a pie and mash shop, and a couple of rough-looking pubs.',\n",
       " 'All has now changed, and Broadway Market has become one of the most sophisticated and popular Saturday markets in London, with its down-at-heel shops and cafés reborn as exquisite eateries and delicatessens.',\n",
       " 'Back on the towpath, the walk continues west, and we now get a better sense of how Regent’s Canal would have felt in its industrial heyday.',\n",
       " 'The first treat comes in the form of a splendid pair of operational locks which manipulate the water level, allowing barges coming from the Thames to navigate the higher ground of north London and to pass beneath a bridge carrying Queensbridge Road.',\n",
       " 'This is Acton’s Lock, so called for William Lee Acton, on whose land this portion of the canal was built.',\n",
       " 'Until the 1980s, the lock-keeper’s family lived in the neighbouring cottage.',\n",
       " 'These days, being generally operated by relaxed holidaymakers who have hired their barges, it is easy to forget the extraordinary feat of engineering the locks represent.',\n",
       " 'One Victorian description of a trip down Regent’s Canal, by the writer and theatrical producer John Hollingshead, does a good job of reminding us.',\n",
       " 'His friend tells him how our frail bark, the Stourport, will be admitted into a deep, narrow, oblong, brick well; and how, as soon as we are in the dreadful trap, two massive iron-bound timber gates will close behind us in such a manner that the more the pressure is increased from behind, the tighter will they bind themselves together.',\n",
       " 'Then he draws a fearfully vivid picture of the two gates in front of us – a single, slender barrier, that alone opposes the advance of an ocean – a hundred thousand tons of water forty feet above our heads, fretting to be at us, like a bear looking down from his pole upon the tender children outside his pit.12 Such reflections do a good job of conjuring the nineteenth-century awe at the industry and scale of the waterways.',\n",
       " 'It is something we are reminded of again by a structure a little further to the west.',\n",
       " 'After a short stroll we pass below another bridge, this one carrying the Kingsland Road – the Roman Ermine Street linking London to Lincoln and York – which runs due north from Shoreditch.',\n",
       " 'Immediately to its west, on the north side, there is the long and narrow Kingsland Basin – now tranquil but once bustling with barges loading and unloading.',\n",
       " 'It illustrates how the canal operated in its prime.',\n",
       " 'Barges were pulled by horse-power to strategically placed locations such as this – many adjacent to a main road – where goods were transferred between barge and dray.',\n",
       " 'Very close by a large timber merchant was located, presumably here because once it received its wares by barge.',\n",
       " 'The south side of the canal at this point is lined with late-nineteenth and early-twentieth-century buildings, many rising almost directly from the water and offering a fine medley of simple functional design – the early ones in brick, the later in reinforced concrete, or white-rendered blockwork, with large steel-framed windows.',\n",
       " 'These are typical of the industrial and utilitarian buildings that, in north-east and east London, grew up along the banks of the canal.',\n",
       " 'The buildings were served by the canal and confirmed its purpose.',\n",
       " 'But here industry has long gone and the canal is now no more than a glorious ornament and place of pleasure.',\n",
       " 'The buildings now mostly contain flats and artists’ studios and, when I strolled along the canal, on a sunny weekday afternoon, the activities were more than just the expected.',\n",
       " 'There were, of course, the dog-walkers, joggers, bikers and oddball fishermen who really could not have hoped to catch much that was edible.',\n",
       " 'But also an array of ambitious contemporary architecture and one anonymous industrial-looking building called Franks House that is, of all things, the store for the British Museum’s Ethnography Department.',\n",
       " 'Located at 38–56 Orsman Road – parallel to and south of the canal – the building’s fine art-deco form is revealed, with its striking strips of glazing and asymmetrically placed corner tower.',\n",
       " 'An early twentieth-century warehouse on Orsman Road backs on to the canal.',\n",
       " 'Back on the north side of the canal, opposite the museum store, is the Barge House restaurant, created within the ground floor of a recent building that fronts on to De Beauvoir Crescent.',\n",
       " 'But immediately to the west of it is something that seems much less but is, in fact, so much more.',\n",
       " 'This is the Towpath Café, composed of just a couple of holes in the basement wall of the large and bulky industrial building that rises along the canal.',\n",
       " 'Outside each slit-like hole is an array of simple chairs, a few tables and perhaps a bowl or two of water to quench the thirst of passing dogs.',\n",
       " 'It’s the perfect place for a canal-side walker to grab a coffee, a freshly-pressed fruit juice, a sandwich or cake and – if the weather is right – a wonderful place to sit.',\n",
       " 'When I first found Towpath I was hungry and thirsty from a long walk and it really was like coming upon an oasis.',\n",
       " 'During the past few years it has expanded, and now colonises a wide stretch of canal-side structures, with lots of exterior seating.',\n",
       " 'The building that rises high above the café was built as a printworks, but is one no longer, and eased itself into local legend in the 1960s and 70s by becoming the powerhouse for that lost generation of erotic magazines filled with scantily dressed young women.',\n",
       " 'These publications have, of course, been superseded by far sterner fare.',\n",
       " 'But back when the presses were in full production, the towpath became the haunt of cavorting and noisy boys who were determined to get the irritated printers to stone them with bundles of ‘adult’ magazines.',\n",
       " 'The former printworks is a fine piece of 1930s architecture, with a bow-fronted staircase tower.',\n",
       " 'On the next portion of the walk, the towpath becomes wider, the feats of engineering more ambitious.',\n",
       " 'We are, it seems, entering one of the heartlands of the late-Georgian industrial metropolis.',\n",
       " 'The first sign of the increase in scale is the brick-arched Whitmore Road bridge.',\n",
       " 'These early canal bridges really are fine pieces of early-nineteenth-century engineering.',\n",
       " 'They are made in traditional manner of traditional materials – essentially Roman in inspiration – and are robust and handsome in their utilitarian simplicity.',\n",
       " 'They also sometimes have a strikingly if unintended picturesque quality.',\n",
       " 'The gently curving arch of this bridge frames splendid views along the canal and, because of its generous width, reflections from the water are able to ripple and dart within its dark and cavernous interior.',\n",
       " 'The passage within it is dank and echoing: a strange and alarming underworld through which bikers and pedestrians rush from sunshine to sunshine.',\n",
       " 'The apparently wider girth of the canal after the bridge is, in fact, an illusion.',\n",
       " 'The increased sense of space is suggested by the buildings, which are generally lower and more distant because of the wider path.',\n",
       " 'This sense of scale and seriousness is reinforced by the mighty Sturt’s Lock a few hundred metres later, accompanied by a towering former pumping station that once regulated the water levels of the canal.',\n",
       " 'The industrial feel of this portion of the walk is reinforced by a stark, functional building just west of the New North Road bridge, on the south bank.',\n",
       " 'This is the store of the Museum of London.',\n",
       " 'It is an Aladdin’s cave of wonders, many not simply archived away or stashed in filing cabinets but displayed splendidly in glass cases.',\n",
       " 'In my view some of the museum’s most intriguing objects are kept here, hustled out of the main City building by showier pieces calculated to appeal to popular taste.',\n",
       " 'Again, as with the British Museum store, this Eagle Wharf Road repository can be viewed by appointment, and for some it could be a rewarding termination to this walk.',\n",
       " 'That would be a shame, for there is yet more to see.',\n",
       " 'Reflections dart and ripple across the top of Whitmore Road bridge.',\n",
       " 'Take, for example, the group of nineteenth-century industrial buildings that stand a hundred metres past Sturt’s Lock.',\n",
       " 'This striking complex was once home to the Regent’s Canal Ironworks – the foundry of the master ironworker Henry Grissell.',\n",
       " 'Along with his cousin Samuel Morton Peto, Grissell became one of the leading public-works contractors of the early nineteenth century – contributing to structures ranging from Nelson’s Column to Clerkenwell Prison, and designing ironwork for the gates around Buckingham Palace and the British Museum.',\n",
       " 'The site, complete with a tall brick chimney, is nearly a sixth of a mile in length and rises above its own ‘marina’ walkway that offers moorings for boats and barges.',\n",
       " 'Some years ago the complex was converted into the Holborn Studios, made up of photographic studios and a pleasant water-side restaurant and bar called the Commissary.',\n",
       " 'The Studios have long been recognised as an exemplary piece of regeneration, in which old buildings have been retained and new life created.',\n",
       " 'Now all is under threat.',\n",
       " 'The owners want to ‘develop’ the site as flats and ‘commercial space’, which could mean the destruction of some of the old buildings, the loss of jobs and the closure of the Studios.',\n",
       " 'It all seems incredible – and very sad.',\n",
       " 'The Holborn Studios is exactly the sort of place that gives the canal character and creative energy, and is a great example of the ways in which buildings can change and adapt.',\n",
       " 'This is, in general, a most sensible approach.',\n",
       " 'Existing buildings represent ‘embedded’ energy that it is a crime to squander – something that many developers rarely seem to appreciate.',\n",
       " 'As we contninue west, we begin to approach the final walkable stretch of the Regent’s Canal.',\n",
       " 'A little further along we come across the long Wenlock Basin, where ranks of gaily painted barges nestle below a canopy of trees.',\n",
       " 'It’s now hard to believe that this was ever a working wharf.',\n",
       " 'It was, of course, once considered a mighty and daunting feat of engineering – and one that very nearly failed.',\n",
       " 'In 1826, while still being constructed, the dam across the entrance collapsed, causing the main canal’s water level to drop by 13 inches and halting traffic on the waterway.',\n",
       " 'The Narrowboat pub viewed from City Road Basin, shielded from view by the outsized parapets on Wharf Road bridge.',\n",
       " 'The dauntingly industrial atmosphere these waterways must once have had is proven by another structure, further to the west.',\n",
       " 'At the Wharf Road bridge, a steep flight of stairs rises to road level and to a modest early-Victorian pub – the Narrowboat – which seems to totter at street level on the very edge of the shallow towpath cutting.',\n",
       " 'But most striking of all are the parapets of the Wharf Road bridge – in particular, their height.',\n",
       " 'They are far too large to see over.',\n",
       " 'The design is a reminder that, in the early nineteenth century, the canal was not regarded as an ornament but as an industrial highway, at best a place of drudgery and at worst a realm haunted by queer canal folk.',\n",
       " 'In the nineteenth-century imagination, these canal-dwellers came to be seen as the lowest and most alien of people – worthy of pity or even disdain.',\n",
       " 'Take the following description from an 1888 novel Life in the Cut, in which one character describes a ten-year-old child who lives on a canal boat as ‘dreadful, so dirty, starved and stunted, she scarcely seemed a child, more like a wicked hobgoblin; though she did not look wicked either, only wretched and forlorn, nursing another fearful-looking, more uncanny atom than herself.’13 The canals and their inhabitants, it seems, were to be greatly feared.',\n",
       " 'Now, of course, precisely the opposite is the case – as demonstrated by the archly high-end art gallery that we now approach.',\n",
       " 'On Wharf Road – running parallel and to the west of Wenlock Basin – stands the Victoria Miro Gallery, located in a nineteenth-century furniture factory.',\n",
       " 'The interior offers a vast and minimal space reminiscent of warehouse galleries in New York, but some original elements have been suffered to survive, including a few roof timbers and worn floorboards.',\n",
       " 'The architect is Trevor Horne, a specialist in such stripped-back contemporary design, often with retained, although greatly adapted, old buildings.',\n",
       " 'The garden backing on to the Wenlock Basin was created by the artist Ian Hamilton Finlay, and the gallery itself houses works by Chris Ofili, Grayson Perry, the Chapman brothers and Peter Doig.',\n",
       " 'The whole affair offers a fascinating perspective of the upper-slopes of the London ‘art scene’.',\n",
       " 'Confident, wealthy and brilliantly contemporary without being overtly brash – and a million miles from the gritty industrial aesthetic the building originally possessed.',\n",
       " 'We now approach the final, glorious, industrial crescendo of the walk.',\n",
       " 'Rejoin the canal towpath and just a few metres west from the bridge is the stupendous City Road Basin, covering one and a half hectares in area.',\n",
       " 'The waters here are wide and the view to the south tremendous.',\n",
       " 'Standing on the wide quay the City seems to open up, with the water of the basin a highway to its heart.',\n",
       " 'You can see the obelisk spire of the 1730s St Luke’s church on Old Street, the serrated profile of one of the Barbican towers and – as now with so many viewpoints in London – the soaring, tapering and somewhat surreal silhouette of the Shard next to far-distant London Bridge station.',\n",
       " 'Opened in 1820, the City Road Basin became the heart and soul of the canal in the 1890s.',\n",
       " 'Goods and materials were offloaded to be dispersed around the surrounding area, and products loaded for transportation around London and Britain or for export abroad via the docks to the east.',\n",
       " 'There were flower and timber wharves, coal depots – even Pickfords, the house-removal company, had a depot here.',\n",
       " 'The surrounding buildings are varied, nineteenth century and modern, but most are tough and big-boned.',\n",
       " 'It’s a pleasing place to loiter and contemplate the city, with the atmosphere of urban industry still present but transformed into something less grimy and challenging.',\n",
       " 'When I was there one of the barges, moored nearby on the north towpath, offered home-cooked Slovakian food.',\n",
       " 'An engraving of City Road Basin from 1828 offers a glimpse of the late-Georgian industrial metropolis, with St Luke’s Church obelisk towering in the distance.',\n",
       " 'The last short leg of the walk has a very different character.',\n",
       " 'The waters now move between streets lined with salubrious early-nineteenth-century terraces, many with well-planted gardens.',\n",
       " 'The canal-side becomes bucolic, with houses glimpsed through the rich array of trees.',\n",
       " 'Suddenly we are in a kind of Eden, a splendid example of the late-Georgian obsession for creating rus in urbe, with stern and uniform terraces framed and softened by informal clumps of trees and gardens.',\n",
       " 'We are in the heart of the city but it feels like we are walking through glades and groves.',\n",
       " 'The canal becomes a place of fantasy, of heavy engineering inspired by the romance of history.',\n",
       " 'Here the imagination is inflamed by low-arched and antique-looking bridges – utterly Roman in feel – and by secret bowers, with their chairs and tables manipulated to ideal positions by the nearby terrace-dwellers.',\n",
       " 'The theatrical entrance to Islington Tunnel, designed by James Morgan.',\n",
       " 'And then the canal narrows and feeds into a deep, dark tunnel that carries it for 878 metres below the heights of Islington and the Angel above.',\n",
       " 'There is no towpath so the walk ends here, in front of the splendid tunnel arch, designed in heroic style by James Morgan in the visually powerful Baroque manner of Sir John Vanbrugh.',\n",
       " 'The opening is in a gentle catenary curve – a much stronger shape than a semicircular arch – and there is a heavy keystone and two squat and tough-looking Grecian Doric pilasters.',\n",
       " 'It looks like the theatrical opening to some operatic dungeon.',\n",
       " 'But despite its ornamental appearance, the tunnel was in its day a great feat of practical engineering.',\n",
       " 'It was built between 1815–18 by navvies using horse-and manpower and explosives, with the spoil carried away in wheelbarrows.',\n",
       " 'When the canal opened bargees had to ‘leg’ their boats through the tunnel – in other words, lie on their back and punt the barges through by pushing with their legs against the tunnel roof.',\n",
       " 'This hideous, back-breaking work was necessary until a steam tug was installed in 1826 that heaved barges through in a continuous chain.',\n",
       " 'In other tunnels, legging was necessary until well into the nineteenth century.',\n",
       " 'John Hollingshead witnessed the system on another canal in 1860, and described the moment two boats passed.',\n",
       " '‘It was necessary to leave off legging, for the boats to pass each other, and the leggers waited until the last moment when a concussion seemed inevitable, and then sprang instantaneously, with singular dexterity, on to the sides of their boats, pulling their narrow platforms up immediately after them,’ he wrote.',\n",
       " 'It was, in his rendering, a peculiarly beautiful scene.',\n",
       " 'The action of the light in front of our boat produced a very fantastic shadow of our recumbent boatman-legger upon the side wall of the tunnel.',\n",
       " 'As his two legs stuck out horizontally from the edge of the legging-board, treading, one over the other, against the wall, they threw a shadow of two arms, which seemed to be held by a thin old man – another shadow of the same substance – bent nearly double at the stomach, who worked them over and over, as if turning two great mangle-handles with both hands at the same time.14 The only way to reach the other end of Islington Tunnel, if not travelling by barge, is to ascend to the street and continue west overground.',\n",
       " 'That, though, is another walk.',\n",
       " 'For now, merely take a moment to look back east and reflect on the extraordinary achievement of the late-Georgian waterways, and the way they transformed the British economy.',\n",
       " 'It was a feat that contemporaries were highly conscious of.',\n",
       " 'The English poet and essayist Anna Laetitia Barbauld captured the optimism of the canal age in a 1773 poem, ‘The Invitation’, which reflects on the remarkable changes that the waterways had brought to the English landscape: Here smooth canals, across th’ extended plain, Stretch their long arms, to join the distant main: The sons of toil with many a weary stroke Scoop the hard bosom of the solid rock … The traveller with pleasing wonder sees The white sail gleaming thro’ the dusky trees; And views the alter’d landscape with surprise, And doubts the magic scenes which round him rise.']"
      ]
     },
     "execution_count": 37,
     "metadata": {},
     "output_type": "execute_result"
    }
   ],
   "source": [
    "regent_canal_text"
   ]
  },
  {
   "cell_type": "code",
   "execution_count": 41,
   "metadata": {},
   "outputs": [],
   "source": [
    "train_chunks = (\n",
    "    chunker(regent_canal_text)\n",
    "    + chunker(spitalfields_text)\n",
    "    + chunker(greenwich_text_sentences)\n",
    ")\n",
    "test_chunks = chunker(bermondsy_text)"
   ]
  },
  {
   "cell_type": "code",
   "execution_count": 42,
   "metadata": {},
   "outputs": [
    {
     "data": {
      "text/plain": [
       "(63, 21)"
      ]
     },
     "execution_count": 42,
     "metadata": {},
     "output_type": "execute_result"
    }
   ],
   "source": [
    "len(train_chunks), len(test_chunks)"
   ]
  },
  {
   "cell_type": "code",
   "execution_count": 10,
   "metadata": {},
   "outputs": [
    {
     "data": {
      "text/plain": [
       "14127"
      ]
     },
     "execution_count": 10,
     "metadata": {},
     "output_type": "execute_result"
    }
   ],
   "source": [
    "import tiktoken\n",
    "\n",
    "enc = tiktoken.get_encoding(\"cl100k_base\")  # GPT 4 tokenizer\n",
    "len(enc.encode(all_text))"
   ]
  },
  {
   "cell_type": "code",
   "execution_count": null,
   "metadata": {},
   "outputs": [],
   "source": [
    "len(enc.encode(PROMPT))"
   ]
  },
  {
   "cell_type": "markdown",
   "metadata": {},
   "source": [
    "# Lets create the dataset!"
   ]
  },
  {
   "cell_type": "code",
   "execution_count": 15,
   "metadata": {},
   "outputs": [
    {
     "name": "stdout",
     "output_type": "stream",
     "text": [
      "35\n"
     ]
    },
    {
     "data": {
      "text/plain": [
       "['Our route starts at the south side of Victoria Park, at Bonner Hall Bridge –\\nbest accessed by getting the Tube to Bethnal Green, a ten-minute walk away. The\\nfirst portion of this route offers clues about the nature of east London before\\nthe arrival of the Regent’s Canal, taking in several buildings that predate the\\nwaterways, and whose fates were inexorably changed by its arrival. Before moving\\non, take a moment to reflect on Victoria Park. In the eighteenth century, this\\nwas all open pasture, interspersed with the odd brick kiln and market garden. The one notable feature\\nwas Bonner Hall, so called after the sixteenth-century bishop of London Edmund\\nBonner. All this was to change in the nineteenth century. As London expanded,\\ncalls for public parks grew; in 1840, Queen Victoria was presented with a\\npetition signed by 30,000 residents. The Crown estate purchased 218 acres in the\\narea and, over the next few years, converted it into Victoria Park. The park\\nshares a family resemblance to Regent’s Park at the other end of the Regent’s\\nCanal – no doubt down to the fact that its designer, James Pennethorne, was a\\nprotégé of none other than John Nash.6 The view south-east from Victoria Park’s\\nBonner Gate. When I first knew the park – many years ago – it was a fairly rough\\nplace. In particular the Pavilion Café, a few hundred metres to the east of\\nBonner Hall Bridge, was a grisly affair, best avoided unless one wanted to\\nexperience the stark reality of East End cuisine. Now, like many in east London,\\nit has transformed into one of the best cafés mentioned in this book. It makes a\\nsplendid place to begin the walk if you’re in need of a bite to eat or drink.\\nFor those ready to plunge into Georgian industrial architecture, however, it is\\nbest to walk to the western end of the park and through the canal gate on to the\\ntowpath. Here, one can begin to imagine the feel of the canal in its early days:\\nthe canal side adjoining Victoria Park is used as moorings for barges, mostly\\nresidential, while across the waterway (which, as is usual, has a towpath –\\nintended for the horses required to tow barges – generally on only one side) are',\n",
       " 'the gardens of houses. This must be a delightful place to live, especially for\\nthe nautical-minded. Houses soon give way to light industrial buildings of\\nvarious dates, many now serving as homes or studios. The decaying Regency charm\\nof The Oval, now accompanied by two Victorian gasholders. When one crosses under\\nthe bridge carrying Cambridge Heath Road, everything changes. You are thrust\\ninto a splendidly gloomy vista, but one with a moving if modest grandeur.\\nImmediately west of the road bridge is a series of wide, shallow arches and a\\nmighty brick pier, presumably all part of a now-lost wharf or small basin that\\nonce ran south of the canal – complete with a small window in the pier\\nsuggesting that this massive piece of brick construction is inhabited. Above\\nthese works, and parallel to the road bridge, rises the metal bulk of the\\nVictorian railway bridge. The view westwards is enriched by the prospect of a\\nthree-storey stucco-clad Regency villa, embellished with no fewer than three\\nfull-height bows that offer a charming sinuous frontage to the canal.',\n",
       " 'And looming over all, to the west of the now sadly decaying villa, are the tall and\\nstark skeletal structures of a pair of nineteenth-century gasholders. It’s well\\nworth clambering off the canal here to take a closer look at this threatened\\npiece of industrial and once ornamental London. Go up the stairs to the east of\\nthe bridges, cross the Cambridge Heath Road/Mare Street bridge to the south side\\nof the canal and head down the grandly named Corbridge Crescent towards the\\nvilla. Several things now happen, and they are all most rewarding. A narrow\\nalley – Grove Passage – lurks below the crushing form of the railway viaduct,\\nand Corbridge Crescent suddenly exposes its early granite setts which, during my\\nlast visit at twilight, glistened with moisture and led to a strange and exotic\\nworld that unfolded around and in front of the Regency villa. This section of\\nthe canal was constructed between 1816 and 1820 and the villa appears to date\\nfrom around then. Upon closer inspection, it is – despite mutilations – not in\\nsuch bad condition as it first looks. The cornice has gone, and the front door\\nbeen butchered, but windows are in reasonable order and a light shines from one.\\nIt’s inhabited, at least in part. To the rear is a large, red-brick wing. A\\nnotice is fixed next to a small door, which offers a flashback to the old East\\nEnd: ‘Soup Kitchen … open weekdays 10 to 2, Saturdays 10 to 1, Sundays 11 to 1.’\\nThis marks the end of Corbridge Crescent, which now leads to The Oval – a small\\npiece of neoclassical town planning that incorporated an elongated circus,\\nsomewhat in the Nash manner of Regent’s Park. What high ambitions these names\\nevoke. The crumbling villa is the solitary survivor of a crescent, perhaps\\nruined by the arrival of the railway. Or it was perhaps the fault of the canal\\nitself. Crescent and Oval – located just off the Hackney Road – were new\\ncreations in 1820 when the canal arrived but were, in the words of The Buildings\\nof England, ‘hopelessly compromised’ by the social transformation brought about\\nby this industrial thoroughfare.7 Today, all that’s left of The Oval is its\\nform, now defined by a scattering of low and mostly mean twentieth-century']"
      ]
     },
     "execution_count": 15,
     "metadata": {},
     "output_type": "execute_result"
    }
   ],
   "source": [
    "# Chunk the text by paras\n",
    "from langchain.text_splitter import RecursiveCharacterTextSplitter\n",
    "\n",
    "text_splitter = RecursiveCharacterTextSplitter(chunk_size=2200, chunk_overlap=0)\n",
    "chunks = text_splitter.split_text(all_text)\n",
    "print(len(chunks))  # As expected bu visual inspection.\n",
    "chunks[0:3]"
   ]
  },
  {
   "cell_type": "code",
   "execution_count": 14,
   "metadata": {},
   "outputs": [],
   "source": [
    "from langchain_core.messages import HumanMessage, SystemMessage\n",
    "from langchain_openai import ChatOpenAI\n",
    "\n",
    "\n",
    "# model = \"gpt-4\"\n",
    "def from_chunk(chunk, prompt, model=\"gpt-3.5-turbo-0125\"):\n",
    "    chat = ChatOpenAI(model=model, temperature=0.1)\n",
    "    return chat.invoke(\n",
    "        [\n",
    "            SystemMessage(content=prompt),\n",
    "            HumanMessage(\n",
    "                content=f\"Make sure 200% you follow **all** the {NUM_INSTRUCTIONS} instructions above. Add `Nav tags` and the `Reason tags` to the following text using the instructions given: \\n\\n\"\n",
    "                + chunk,\n",
    "            ),\n",
    "        ]\n",
    "    )"
   ]
  },
  {
   "cell_type": "code",
   "execution_count": null,
   "metadata": {},
   "outputs": [],
   "source": []
  },
  {
   "cell_type": "markdown",
   "metadata": {},
   "source": [
    "## GPT4 annotations"
   ]
  },
  {
   "cell_type": "code",
   "execution_count": 18,
   "metadata": {},
   "outputs": [],
   "source": [
    "from tqdm import tqdm"
   ]
  },
  {
   "cell_type": "code",
   "execution_count": null,
   "metadata": {},
   "outputs": [],
   "source": [
    "four_annots = []"
   ]
  },
  {
   "cell_type": "code",
   "execution_count": null,
   "metadata": {},
   "outputs": [],
   "source": [
    "for chunk_4 in tqdm(chunks):\n",
    "    four_annots.append(from_chunk(chunk_4, PROMPT, model=\"gpt-4\"))"
   ]
  },
  {
   "cell_type": "code",
   "execution_count": null,
   "metadata": {},
   "outputs": [],
   "source": [
    "len(four_annots)"
   ]
  },
  {
   "cell_type": "markdown",
   "metadata": {},
   "source": [
    "### Test annotations for GPT 4"
   ]
  },
  {
   "cell_type": "code",
   "execution_count": 16,
   "metadata": {},
   "outputs": [],
   "source": [
    "test_chunks = text_splitter.split_text(all_test_text)"
   ]
  },
  {
   "cell_type": "code",
   "execution_count": null,
   "metadata": {},
   "outputs": [],
   "source": [
    "four_test_annotations = []"
   ]
  },
  {
   "cell_type": "code",
   "execution_count": 22,
   "metadata": {},
   "outputs": [
    {
     "name": "stderr",
     "output_type": "stream",
     "text": [
      "100%|██████████| 28/28 [05:54<00:00, 12.65s/it]\n"
     ]
    }
   ],
   "source": [
    "for test_chunk in tqdm(test_chunks[1:]):\n",
    "    four_test_annotations.append(from_chunk(test_chunk, PROMPT, model=\"gpt-4\"))"
   ]
  },
  {
   "cell_type": "markdown",
   "metadata": {},
   "source": [
    "### Serialize the test annotations.\n"
   ]
  },
  {
   "cell_type": "code",
   "execution_count": 23,
   "metadata": {},
   "outputs": [],
   "source": [
    "import json\n",
    "from langchain_core.messages import AIMessage\n",
    "\n",
    "\n",
    "def serialize_raw_annotations(\n",
    "    annotations: list[AIMessage], data: list[str], filename: str\n",
    "):\n",
    "    # Save the gpt-four annotations\n",
    "    serialized_data_gpt_four = []\n",
    "\n",
    "    with open(filename, \"w\") as f:\n",
    "        for i, (four_annot, chunk) in enumerate(zip(annotations, data)):\n",
    "            serialized_data_gpt_four.append(\n",
    "                {\n",
    "                    \"chunk\": chunk,\n",
    "                    \"navs\": four_annot.content,\n",
    "                }\n",
    "            )\n",
    "            # print('\\n\\n--')\n",
    "        json.dump(serialized_data_gpt_four, f, indent=2, ensure_ascii=False)"
   ]
  },
  {
   "cell_type": "code",
   "execution_count": 24,
   "metadata": {},
   "outputs": [],
   "source": [
    "serialize_raw_annotations(\n",
    "    four_test_annotations, test_chunks, \"gpt_four_annotations_test.json\"\n",
    ")"
   ]
  },
  {
   "cell_type": "code",
   "execution_count": 25,
   "metadata": {},
   "outputs": [
    {
     "data": {
      "text/plain": [
       "[{'chunk': 'Our route starts at the south side of Victoria Park, at Bonner Hall Bridge – best accessed by getting the Tube to Bethnal Green, a ten-minute walk away. The first portion of this route offers clues about the nature of east London before the arrival of the Regent’s Canal, taking in several buildings that predate the waterways, and whose fates were inexorably changed by its arrival. Before moving on, take a moment to reflect on Victoria Park. In the eighteenth century, this was all open pasture, interspersed with the odd brick kiln and market garden. The one notable feature was Bonner Hall, so called after the sixteenth-century bishop of London Edmund Bonner. All this was to change in the nineteenth century. As London expanded, calls for public parks grew; in 1840, Queen Victoria was presented with a petition signed by 30,000 residents. The Crown estate purchased 218 acres in the area and, over the next few years, converted it into Victoria Park. The park shares a family resemblance to Regent’s Park at the other end of the Regent’s Canal – no doubt down to the fact that its designer, James Pennethorne, was a protégé of none other than John Nash.6 The view south-east from Victoria Park’s Bonner Gate. When I first knew the park – many years ago – it was a fairly rough place. In particular the Pavilion Café, a few hundred metres to the east of Bonner Hall Bridge, was a grisly affair, best avoided unless one wanted to experience the stark reality of East End cuisine. Now, like many in east London, it has transformed into one of the best cafés mentioned in this book. It makes a splendid place to begin the walk if you’re in need of a bite to eat or drink. For those ready to plunge into Georgian industrial architecture, however, it is best to walk to the western end of the park and through the canal gate on to the towpath. Here, one can begin to imagine the feel of the canal in its early days: the canal side adjoining Victoria Park is used as moorings for barges, mostly residential, while across the waterway (which, as is usual, has a towpath – intended for the horses required to tow barges – generally on only one side) are',\n",
       "  'navs': '[NAV] Our route starts at the south side of Victoria Park, at Bonner Hall Bridge – best accessed by getting the Tube to Bethnal Green, a ten-minute walk away.[/NAV] [REASON] This was annotated because it provides specific instructions on where to start the route and how to get there, implying a direction to walk. [/REASON]  [NAV] For those ready to plunge into Georgian industrial architecture, however, it is best to walk to the western end of the park and through the canal gate on to the towpath.[/NAV] [REASON] This was annotated because it provides specific instructions on where to walk next, indicating a direction to follow. [/REASON] '},\n",
       " {'chunk': 'the gardens of houses. This must be a delightful place to live, especially for the nautical-minded. Houses soon give way to light industrial buildings of various dates, many now serving as homes or studios. The decaying Regency charm of The Oval, now accompanied by two Victorian gasholders. When one crosses under the bridge carrying Cambridge Heath Road, everything changes. You are thrust into a splendidly gloomy vista, but one with a moving if modest grandeur. Immediately west of the road bridge is a series of wide, shallow arches and a mighty brick pier, presumably all part of a now-lost wharf or small basin that once ran south of the canal – complete with a small window in the pier suggesting that this massive piece of brick construction is inhabited. Above these works, and parallel to the road bridge, rises the metal bulk of the Victorian railway bridge. The view westwards is enriched by the prospect of a three-storey stucco-clad Regency villa, embellished with no fewer than three full-height bows that offer a charming sinuous frontage to the canal.',\n",
       "  'navs': '[NAV] When one crosses under the bridge carrying Cambridge Heath Road, everything changes.[/NAV] [REASON] This was annotated because it instructs the reader to cross under the bridge carrying Cambridge Heath Road, which is a navigation instruction that involves crossing a bridge. [/REASON]  [NAV] Immediately west of the road bridge is a series of wide, shallow arches and a mighty brick pier, presumably all part of a now-lost wharf or small basin that once ran south of the canal – complete with a small window in the pier suggesting that this massive piece of brick construction is inhabited.[/NAV] [REASON] This was annotated because it instructs the reader to look for a series of wide, shallow arches and a mighty brick pier immediately west of the road bridge, which is a navigation instruction that involves looking for specific landmarks. [/REASON] '},\n",
       " {'chunk': 'And looming over all, to the west of the now sadly decaying villa, are the tall and stark skeletal structures of a pair of nineteenth-century gasholders. It’s well worth clambering off the canal here to take a closer look at this threatened piece of industrial and once ornamental London. Go up the stairs to the east of the bridges, cross the Cambridge Heath Road/Mare Street bridge to the south side of the canal and head down the grandly named Corbridge Crescent towards the villa. Several things now happen, and they are all most rewarding. A narrow alley – Grove Passage – lurks below the crushing form of the railway viaduct, and Corbridge Crescent suddenly exposes its early granite setts which, during my last visit at twilight, glistened with moisture and led to a strange and exotic world that unfolded around and in front of the Regency villa. This section of the canal was constructed between 1816 and 1820 and the villa appears to date from around then. Upon closer inspection, it is – despite mutilations – not in such bad condition as it first looks. The cornice has gone, and the front door been butchered, but windows are in reasonable order and a light shines from one. It’s inhabited, at least in part. To the rear is a large, red-brick wing. A notice is fixed next to a small door, which offers a flashback to the old East End: ‘Soup Kitchen … open weekdays 10 to 2, Saturdays 10 to 1, Sundays 11 to 1.’ This marks the end of Corbridge Crescent, which now leads to The Oval – a small piece of neoclassical town planning that incorporated an elongated circus, somewhat in the Nash manner of Regent’s Park. What high ambitions these names evoke. The crumbling villa is the solitary survivor of a crescent, perhaps ruined by the arrival of the railway. Or it was perhaps the fault of the canal itself. Crescent and Oval – located just off the Hackney Road – were new creations in 1820 when the canal arrived but were, in the words of The Buildings of England, ‘hopelessly compromised’ by the social transformation brought about by this industrial thoroughfare.7 Today, all that’s left of The Oval is its form, now defined by a scattering of low and mostly mean twentieth-century',\n",
       "  'navs': '[NAV] And looming over all, to the west of the now sadly decaying villa, are the tall and stark skeletal structures of a pair of nineteenth-century gasholders. It’s well worth clambering off the canal here to take a closer look at this threatened piece of industrial and once ornamental London. Go up the stairs to the east of the bridges, cross the Cambridge Heath Road/Mare Street bridge to the south side of the canal and head down the grandly named Corbridge Crescent towards the villa.[/NAV] [REASON] This was annotated because it provides specific directions to follow, including going up stairs, crossing a bridge, and heading down a specific street. It also includes visual markers such as the gasholders and the decaying villa. [/REASON]  [NAV] A narrow alley – Grove Passage – lurks below the crushing form of the railway viaduct, and Corbridge Crescent suddenly exposes its early granite setts which, during my last visit at twilight, glistened with moisture and led to a strange and exotic world that unfolded around and in front of the Regency villa.[/NAV] [REASON] This was annotated because it provides specific directions to follow, including going down a narrow alley. It also includes visual markers such as the railway viaduct and the granite setts of Corbridge Crescent. [/REASON]  [NAV] This marks the end of Corbridge Crescent, which now leads to The Oval – a small piece of neoclassical town planning that incorporated an elongated circus, somewhat in the Nash manner of Regent’s Park.[/NAV] [REASON] This was annotated because it provides specific directions to follow, including the end of Corbridge Crescent leading to The Oval. It also includes visual markers such as the neoclassical town planning and the elongated circus. [/REASON] '},\n",
       " {'chunk': 'industrial structures and by its central island, still framed by robust granite kerbs, but no longer planted – just an oval of beaten earth littered with urban detritus. Only a short distance away, on Hackney Road, there are still substantial rows of early-nineteenth-century terraces and semi-detached villas. Such lofty Georgian ambitions stand in stark contrast to the use of The Oval now. The villa, the land and later buildings that surround it are occupied by Empress Coaches. Everywhere are coaches, campers and buses of different types and sizes, being serviced and cleaned. It has its own surreal charm: in the yard next door, fellows go about their business; one chap with black and shiny hair, in an outsize jacket, ambles around smoking a cigarette.',\n",
       "  'navs': 'The provided text does not contain any navigation instructions that satisfy the T1-T5 types mentioned in the instructions. Therefore, no `Nav Tags` are added.'},\n",
       " {'chunk': 'Everything looks like a flashback to the 1950s. This magical, individual and living piece of workaday London is, of course, under threat. Instead of coaches and oily workshops all is to be cleared away for a ‘mixed use’ development containing over 500 square metres of ‘commercial floor space’ and 116 flats. Consent was granted by Tower Hamlets Council in December 2008. So all this now exists on borrowed time – indeed demolition might have taken place by the time you visit. This is how cities die and how character is lost: gradually, stealthily, bit by bit. Towering over the villa to the west are the pair of gasholders. This portion of the Regent’s Canal has been home to gasworks since the Georgian period. The pioneering Imperial Gas Light and Coke Company, which had been founded in 1812 to supply gas to light England’s streets, gained control of the current site of Haggerston Park in 1821, at a time when the canal was still largely surrounded by open fields.8 The second decade of the nineteenth century had witnessed an extraordinary growth in the amount of gas lighting in Britain. In 1812, there was only one gas company; just fifteen years later, every town with a population over 10,000 had a gas supply. The resultant change to urban life was enormous – suddenly, nightfall ceased to represent the end of the day’s work or ambling, and became a new opportunity for labour and pleasure-seeking. The solitary survival of a crescent of Regency houses on The Oval. The gasholders on Corbridge Crescent are somewhat later. They reveal the wonderful way the mid-nineteenth-century mind – intoxicated by the thrill and pomp of the past – could, with only a little appropriate ornament, turn even a functional industrial structure into architecture stamped with the cultural pedigree of history. The smaller of them has vertical stanchions fashioned as two tiers of sixteen classical columns – denuded Corinthian over Doric – evidently calculated to evoke the power and form of the Colosseum in Rome. Interestingly this type of classically embellished rotunda was pioneered for a now-demolished gasholder built on this site in 1856; the current smaller one dates from 1865 and was',\n",
       "  'navs': 'Output: There are no valid `Nav Tags` in the provided text. The text does not contain any navigation instructions satisfying the T1-T5 types mentioned.'},\n",
       " {'chunk': 'designed by Joseph Clarke, with the columns cast by the famed Staveley Coal and Iron Company of Derbyshire, and the neighbouring taller but simpler gasholder constructed in 1888–9.9 Now, these gasholders no longer inflate and, if a battle is not waged, are probably not long for this world. Their majestic and sculptural forms, which make a vital contribution to the scene, are due to be demolished, despite protestations by the local heritage group the Hackney Society. Before returning to the canal, cross to the east side of Cambridge Heath Road and into Vyner Street, running parallel and immediately south of the waterway. In the early nineteenth century this cobbled thoroughfare was on the outskirts of a conurbation that sprawled north, up to the area around London Fields.',\n",
       "  'navs': '[NAV] Before returning to the canal, cross to the east side of Cambridge Heath Road and into Vyner Street, running parallel and immediately south of the waterway.[/NAV] [REASON] This was annotated because it provides specific directions to cross to the east side of Cambridge Heath Road and into Vyner Street, which runs parallel and immediately south of the waterway. It also includes a visual marker, the waterway, to guide the user. [/REASON] '},\n",
       " {'chunk': 'But everything changed with the arrival of the Regent’s Canal. Vyner Street – at that time called John Street – was cut off from the land to the north, and began to develop a rather different character.10 Two centuries later this small street became the unlikely heart of east and north-east London’s burgeoning art scene. New galleries set up here to show not the established trends or artists, nor the ‘mainstream’, but an eclectic mix of what was ‘upcoming’ and experimental. But as is the way with such spontaneous eruptions, the peak is soon passed as corporate interest muscles in. The low rents have now spiralled up, so the vibrant little art world here has become something of a victim of its own success. Some of the pioneering galleries have moved on – mostly west to Fitzrovia – and the art scene of Vyner Street has itself become part of East End history. Nonetheless, at the time of writing there are still some galleries worth visiting, especially on the first Thursday evening of the month when many host events. There are also a few pubs nearby that are more than decent, and where local artists gather: the Victory in Vyner Street, the Hare at 505 Cambridge Heath Road (a modest three-storey mid-nineteenth-century building that retains much of the atmosphere of a Bethnal Green local) and the Bistrotheque at 23–27 Wadeson Street. This is a sophisticated bar and restaurant housed in battered but large-roomed former industrial buildings, which hosts erudite talks and, famously, outrageously camp cabaret evenings. The Bistrotheque has been going for some years now, remains popular and seems ever-expanding, but was initially amazing simply for being here at all, stuck down a Bethnal Green backstreet and secreted amongst anonymous post-war factory buildings. When you’ve had your fill of the pleasures of Vyner Street and its environs, walk back to the north bank of the canal and continue west. After a short while you come to another bridge, which carries a road leading to Broadway Market and then to London Fields. This is an old market street that now has two good pubs – the Dove, and the Cat and Mutton – said to have occupied the site',\n",
       "  'navs': '[NAV] Vyner Street – at that time called John Street – was cut off from the land to the north, and began to develop a rather different character.[/NAV] [REASON] This was annotated because it gives a direction to follow, indicating that Vyner Street was cut off from the land to the north. [/REASON] [NAV] When you’ve had your fill of the pleasures of Vyner Street and its environs, walk back to the north bank of the canal and continue west. After a short while you come to another bridge, which carries a road leading to Broadway Market and then to London Fields.[/NAV] [REASON] This was annotated because it provides explicit walking directions, instructing to walk back to the north bank of the canal, continue west, and then come to another bridge leading to Broadway Market and London Fields. [/REASON] '},\n",
       " {'chunk': 'since 1790.11 Acton’s Lock. The lock-keeper lived in the house on the right until the 1980s. But when I first explored it twenty-five or so years ago, Broadway Market was a desolate place. Most of the array of shops – including one splendid Regency affair – were run-down or closed, sitting alongside a few old-time cafés, a pie and mash shop, and a couple of rough-looking pubs. All has now changed, and Broadway Market has become one of the most sophisticated and popular Saturday markets in London, with its down-at-heel shops and cafés reborn as exquisite eateries and delicatessens. Back on the towpath, the walk continues west, and we now get a better sense of how Regent’s Canal would have felt in its industrial heyday. The first treat comes in the form of a splendid pair of operational locks which manipulate the water level, allowing barges coming from the Thames to navigate the higher ground of north London and to pass beneath a bridge carrying Queensbridge Road. This is Acton’s Lock, so called for William Lee Acton, on whose land this portion of the canal was built. Until the 1980s, the lock-keeper’s family lived in the neighbouring cottage. These days, being generally operated by relaxed holidaymakers who have hired their barges, it is easy to forget the extraordinary feat of engineering the locks represent.',\n",
       "  'navs': \"[NAV] Back on the towpath, the walk continues west, and we now get a better sense of how Regent’s Canal would have felt in its industrial heyday.[/NAV] [REASON] This was annotated because it gives a direction to continue walking west on the towpath towards Regent's Canal. [/REASON]  [NAV] The first treat comes in the form of a splendid pair of operational locks which manipulate the water level, allowing barges coming from the Thames to navigate the higher ground of north London and to pass beneath a bridge carrying Queensbridge Road.[/NAV] [REASON] This was annotated because it provides a visual marker of a pair of operational locks and a bridge carrying Queensbridge Road, which the reader is expected to pass beneath. [/REASON] \"},\n",
       " {'chunk': 'One Victorian description of a trip down Regent’s Canal, by the writer and theatrical producer John Hollingshead, does a good job of reminding us. His friend tells him how our frail bark, the Stourport, will be admitted into a deep, narrow, oblong, brick well; and how, as soon as we are in the dreadful trap, two massive iron-bound timber gates will close behind us in such a manner that the more the pressure is increased from behind, the tighter will they bind themselves together. Then he draws a fearfully vivid picture of the two gates in front of us – a single, slender barrier, that alone opposes the advance of an ocean – a hundred thousand tons of water forty feet above our heads, fretting to be at us, like a bear looking down from his pole upon the tender children outside his pit.12 Such reflections do a good job of conjuring the nineteenth-century awe at the industry and scale of the waterways. It is something we are reminded of again by a structure a little further to the west. After a short stroll we pass below another bridge, this one carrying the Kingsland Road – the Roman Ermine Street linking London to Lincoln and York – which runs due north from Shoreditch. Immediately to its west, on the north side, there is the long and narrow Kingsland Basin – now tranquil but once bustling with barges loading and unloading. It illustrates how the canal operated in its prime. Barges were pulled by horse-power to strategically placed locations such as this – many adjacent to a main road – where goods were transferred between barge and dray. Very close by a large timber merchant was located, presumably here because once it received its wares by barge. The south side of the canal at this point is lined with late-nineteenth and early-twentieth-century buildings, many rising almost directly from the water and offering a fine medley of simple functional design – the early ones in brick, the later in reinforced concrete, or white-rendered blockwork, with large steel-framed windows. These are typical of the industrial and utilitarian buildings that, in north-east and east London, grew up along the banks of the',\n",
       "  'navs': '[NAV] It is something we are reminded of again by a structure a little further to the west. After a short stroll we pass below another bridge, this one carrying the Kingsland Road – the Roman Ermine Street linking London to Lincoln and York – which runs due north from Shoreditch. Immediately to its west, on the north side, there is the long and narrow Kingsland Basin – now tranquil but once bustling with barges loading and unloading.[/NAV] [REASON] This was annotated because it gives a direction to walk west, pass below a bridge, and mentions a specific location (Kingsland Basin) to reach. It also includes visual markers such as the bridge carrying Kingsland Road and the Kingsland Basin. [/REASON]  [NAV] Very close by a large timber merchant was located, presumably here because once it received its wares by barge. The south side of the canal at this point is lined with late-nineteenth and early-twentieth-century buildings, many rising almost directly from the water and offering a fine medley of simple functional design – the early ones in brick, the later in reinforced concrete, or white-rendered blockwork, with large steel-framed windows.[/NAV] [REASON] This was annotated because it gives a direction to a specific location (the south side of the canal) and includes visual markers such as the large timber merchant and the late-nineteenth and early-twentieth-century buildings. [/REASON] '},\n",
       " {'chunk': 'canal. The buildings were served by the canal and confirmed its purpose. But here industry has long gone and the canal is now no more than a glorious ornament and place of pleasure. The buildings now mostly contain flats and artists’ studios and, when I strolled along the canal, on a sunny weekday afternoon, the activities were more than just the expected. There were, of course, the dog-walkers, joggers, bikers and oddball fishermen who really could not have hoped to catch much that was edible. But also an array of ambitious contemporary architecture and one anonymous industrial-looking building called Franks House that is, of all things, the store for the British Museum’s Ethnography Department. Located at 38–56 Orsman Road – parallel to and south of the canal – the building’s fine art-deco form is revealed, with its striking strips of glazing and asymmetrically placed corner tower. An early twentieth-century warehouse on Orsman Road backs on to the canal.',\n",
       "  'navs': \"[NAV] Located at 38–56 Orsman Road – parallel to and south of the canal – the building’s fine art-deco form is revealed, with its striking strips of glazing and asymmetrically placed corner tower.[/NAV] [REASON] This was annotated because it gives a specific location and direction to follow, which is parallel to and south of the canal. It also includes a visual marker, the building's fine art-deco form with striking strips of glazing and asymmetrically placed corner tower, to help guide the user. [/REASON] \"},\n",
       " {'chunk': 'Back on the north side of the canal, opposite the museum store, is the Barge House restaurant, created within the ground floor of a recent building that fronts on to De Beauvoir Crescent. But immediately to the west of it is something that seems much less but is, in fact, so much more. This is the Towpath Café, composed of just a couple of holes in the basement wall of the large and bulky industrial building that rises along the canal. Outside each slit-like hole is an array of simple chairs, a few tables and perhaps a bowl or two of water to quench the thirst of passing dogs. It’s the perfect place for a canal-side walker to grab a coffee, a freshly-pressed fruit juice, a sandwich or cake and – if the weather is right – a wonderful place to sit. When I first found Towpath I was hungry and thirsty from a long walk and it really was like coming upon an oasis. During the past few years it has expanded, and now colonises a wide stretch of canal-side structures, with lots of exterior seating. The building that rises high above the café was built as a printworks, but is one no longer, and eased itself into local legend in the 1960s and 70s by becoming the powerhouse for that lost generation of erotic magazines filled with scantily dressed young women. These publications have, of course, been superseded by far sterner fare. But back when the presses were in full production, the towpath became the haunt of cavorting and noisy boys who were determined to get the irritated printers to stone them with bundles of ‘adult’ magazines. The former printworks is a fine piece of 1930s architecture, with a bow-fronted staircase tower. On the next portion of the walk, the towpath becomes wider, the feats of engineering more ambitious. We are, it seems, entering one of the heartlands of the late-Georgian industrial metropolis. The first sign of the increase in scale is the brick-arched Whitmore Road bridge. These early canal bridges really are fine pieces of early-nineteenth-century engineering. They are made in traditional manner of traditional materials – essentially Roman in inspiration – and are robust and handsome in their utilitarian simplicity. They also sometimes',\n",
       "  'navs': '[NAV] Back on the north side of the canal, opposite the museum store, is the Barge House restaurant, created within the ground floor of a recent building that fronts on to De Beauvoir Crescent.[/NAV] [REASON] This was annotated because it provides a specific direction to walk back on the north side of the canal and also mentions a visual marker, the Barge House restaurant. [/REASON]  [NAV] But immediately to the west of it is something that seems much less but is, in fact, so much more. This is the Towpath Café, composed of just a couple of holes in the basement wall of the large and bulky industrial building that rises along the canal.[/NAV] [REASON] This was annotated because it provides a specific direction to go west of the Barge House restaurant to reach the Towpath Café, and also mentions a visual marker, the large and bulky industrial building. [/REASON]  [NAV] On the next portion of the walk, the towpath becomes wider, the feats of engineering more ambitious. We are, it seems, entering one of the heartlands of the late-Georgian industrial metropolis. The first sign of the increase in scale is the brick-arched Whitmore Road bridge.[/NAV] [REASON] This was annotated because it provides a specific direction to continue walking on the towpath which becomes wider and also mentions a visual marker, the brick-arched Whitmore Road bridge. [/REASON] '},\n",
       " {'chunk': 'have a strikingly if unintended picturesque quality. The gently curving arch of this bridge frames splendid views along the canal and, because of its generous width, reflections from the water are able to ripple and dart within its dark and cavernous interior. The passage within it is dank and echoing: a strange and alarming underworld through which bikers and pedestrians rush from sunshine to sunshine. The apparently wider girth of the canal after the bridge is, in fact, an illusion. The increased sense of space is suggested by the buildings, which are generally lower and more distant because of the wider path. This sense of scale and seriousness is reinforced by the mighty Sturt’s Lock a few hundred metres later, accompanied by a towering former pumping station that once regulated the water levels of the canal. The industrial feel of this portion of the walk is reinforced by a stark, functional building just west of the New North Road bridge, on the south bank. This is the store of the Museum of London. It is an Aladdin’s cave of wonders, many not simply archived away or stashed in filing cabinets but displayed splendidly in glass cases.',\n",
       "  'navs': '[NAV] The passage within it is dank and echoing: a strange and alarming underworld through which bikers and pedestrians rush from sunshine to sunshine.[/NAV] [REASON] This was annotated because it gives a specific direction for bikers and pedestrians to follow through the passage. [/REASON] [NAV] The industrial feel of this portion of the walk is reinforced by a stark, functional building just west of the New North Road bridge, on the south bank.[/NAV] [REASON] This was annotated because it gives a specific direction to walk west of the New North Road bridge, on the south bank. [/REASON] '},\n",
       " {'chunk': 'In my view some of the museum’s most intriguing objects are kept here, hustled out of the main City building by showier pieces calculated to appeal to popular taste. Again, as with the British Museum store, this Eagle Wharf Road repository can be viewed by appointment, and for some it could be a rewarding termination to this walk. That would be a shame, for there is yet more to see. Reflections dart and ripple across the top of Whitmore Road bridge. Take, for example, the group of nineteenth-century industrial buildings that stand a hundred metres past Sturt’s Lock. This striking complex was once home to the Regent’s Canal Ironworks – the foundry of the master ironworker Henry Grissell. Along with his cousin Samuel Morton Peto, Grissell became one of the leading public-works contractors of the early nineteenth century – contributing to structures ranging from Nelson’s Column to Clerkenwell Prison, and designing ironwork for the gates around Buckingham Palace and the British Museum. The site, complete with a tall brick chimney, is nearly a sixth of a mile in length and rises above its own ‘marina’ walkway that offers moorings for boats and barges. Some years ago the complex was converted into the Holborn Studios, made up of photographic studios and a pleasant water-side restaurant and bar called the Commissary. The Studios have long been recognised as an exemplary piece of regeneration, in which old buildings have been retained and new life created. Now all is under threat. The owners want to ‘develop’ the site as flats and ‘commercial space’, which could mean the destruction of some of the old buildings, the loss of jobs and the closure of the Studios. It all seems incredible – and very sad. The Holborn Studios is exactly the sort of place that gives the canal character and creative energy, and is a great example of the ways in which buildings can change and adapt. This is, in general, a most sensible approach. Existing buildings represent ‘embedded’ energy that it is a crime to squander – something that many developers rarely seem to appreciate. As we contninue west, we begin to approach the final walkable stretch of the',\n",
       "  'navs': \"[NAV] Reflections dart and ripple across the top of Whitmore Road bridge. Take, for example, the group of nineteenth-century industrial buildings that stand a hundred metres past Sturt’s Lock.[/NAV] [REASON] This was annotated because it provides a direction to walk past Sturt's Lock and observe the nineteenth-century industrial buildings. It also includes a visual marker, the Whitmore Road bridge. [/REASON]  [NAV] As we contninue west, we begin to approach the final walkable stretch of the[/NAV] [REASON] This was annotated because it provides a direction to continue walking west towards the final stretch of the route. [/REASON] \"},\n",
       " {'chunk': 'Regent’s Canal. A little further along we come across the long Wenlock Basin, where ranks of gaily painted barges nestle below a canopy of trees. It’s now hard to believe that this was ever a working wharf. It was, of course, once considered a mighty and daunting feat of engineering – and one that very nearly failed. In 1826, while still being constructed, the dam across the entrance collapsed, causing the main canal’s water level to drop by 13 inches and halting traffic on the waterway. The Narrowboat pub viewed from City Road Basin, shielded from view by the outsized parapets on Wharf Road bridge. The dauntingly industrial atmosphere these waterways must once have had is proven by another structure, further to the west. At the Wharf Road bridge, a steep flight of stairs rises to road level and to a modest early-Victorian pub – the Narrowboat – which seems to totter at street level on the very edge of the shallow towpath cutting. But most striking of all are the parapets of the Wharf Road bridge – in particular, their height. They are far too large to see over. The design is a reminder that, in the early nineteenth century, the canal was not regarded as an ornament but as an industrial highway, at best a place of drudgery and at worst a realm haunted by queer canal folk.',\n",
       "  'navs': \"[NAV] Regent’s Canal. A little further along we come across the long Wenlock Basin, where ranks of gaily painted barges nestle below a canopy of trees.[/NAV] [REASON] This was annotated because it provides a direction to follow along Regent's Canal and then stop at Wenlock Basin. [/REASON]  [NAV] At the Wharf Road bridge, a steep flight of stairs rises to road level and to a modest early-Victorian pub – the Narrowboat – which seems to totter at street level on the very edge of the shallow towpath cutting.[/NAV] [REASON] This was annotated because it provides a direction to follow to the Wharf Road bridge and then ascend a steep flight of stairs to reach the Narrowboat pub. [/REASON] \"},\n",
       " {'chunk': 'In the nineteenth-century imagination, these canal-dwellers came to be seen as the lowest and most alien of people – worthy of pity or even disdain. Take the following description from an 1888 novel Life in the Cut, in which one character describes a ten-year-old child who lives on a canal boat as ‘dreadful, so dirty, starved and stunted, she scarcely seemed a child, more like a wicked hobgoblin; though she did not look wicked either, only wretched and forlorn, nursing another fearful-looking, more uncanny atom than herself.’13 The canals and their inhabitants, it seems, were to be greatly feared. Now, of course, precisely the opposite is the case – as demonstrated by the archly high-end art gallery that we now approach. On Wharf Road – running parallel and to the west of Wenlock Basin – stands the Victoria Miro Gallery, located in a nineteenth-century furniture factory. The interior offers a vast and minimal space reminiscent of warehouse galleries in New York, but some original elements have been suffered to survive, including a few roof timbers and worn floorboards. The architect is Trevor Horne, a specialist in such stripped-back contemporary design, often with retained, although greatly adapted, old buildings. The garden backing on to the Wenlock Basin was created by the artist Ian Hamilton Finlay, and the gallery itself houses works by Chris Ofili, Grayson Perry, the Chapman brothers and Peter Doig. The whole affair offers a fascinating perspective of the upper-slopes of the London ‘art scene’. Confident, wealthy and brilliantly contemporary without being overtly brash – and a million miles from the gritty industrial aesthetic the building originally possessed. We now approach the final, glorious, industrial crescendo of the walk. Rejoin the canal towpath and just a few metres west from the bridge is the stupendous City Road Basin, covering one and a half hectares in area. The waters here are wide and the view to the south tremendous. Standing on the wide quay the City seems to open up, with the water of the basin a highway to its heart. You can see the obelisk spire of the 1730s St Luke’s church on Old Street, the',\n",
       "  'navs': '[NAV] On Wharf Road – running parallel and to the west of Wenlock Basin – stands the Victoria Miro Gallery, located in a nineteenth-century furniture factory.[/NAV] [REASON] This was annotated because it gives a specific direction to follow along Wharf Road, which runs parallel and to the west of Wenlock Basin, to reach the Victoria Miro Gallery. [/REASON] [NAV] We now approach the final, glorious, industrial crescendo of the walk. Rejoin the canal towpath and just a few metres west from the bridge is the stupendous City Road Basin, covering one and a half hectares in area.[/NAV] [REASON] This was annotated because it gives a specific direction to rejoin the canal towpath and move a few meters west from the bridge to reach the City Road Basin. [/REASON] '},\n",
       " {'chunk': 'serrated profile of one of the Barbican towers and – as now with so many viewpoints in London – the soaring, tapering and somewhat surreal silhouette of the Shard next to far-distant London Bridge station. Opened in 1820, the City Road Basin became the heart and soul of the canal in the 1890s. Goods and materials were offloaded to be dispersed around the surrounding area, and products loaded for transportation around London and Britain or for export abroad via the docks to the east. There were flower and timber wharves, coal depots – even Pickfords, the house-removal company, had a depot here. The surrounding buildings are varied, nineteenth century and modern, but most are tough and big-boned. It’s a pleasing place to loiter and contemplate the city, with the atmosphere of urban industry still present but transformed into something less grimy and challenging. When I was there one of the barges, moored nearby on the north towpath, offered home-cooked Slovakian food. An engraving of City Road Basin from 1828 offers a glimpse of the late-Georgian industrial metropolis, with St Luke’s Church obelisk towering in the distance. The last short leg of the walk has a very different character. The waters now move between streets lined with salubrious early-nineteenth-century terraces, many with well-planted gardens. The canal-side becomes bucolic, with houses glimpsed through the rich array of trees. Suddenly we are in a kind of Eden, a splendid example of the late-Georgian obsession for creating rus in urbe, with stern and uniform terraces framed and softened by informal clumps of trees and gardens. We are in the heart of the city but it feels like we are walking through glades and groves. The canal becomes a place of fantasy, of heavy engineering inspired by the romance of history. Here the imagination is inflamed by low-arched and antique-looking bridges – utterly Roman in feel – and by secret bowers, with their chairs and tables manipulated to ideal positions by the nearby terrace-dwellers.',\n",
       "  'navs': '[NAV] The last short leg of the walk has a very different character. The waters now move between streets lined with salubrious early-nineteenth-century terraces, many with well-planted gardens. The canal-side becomes bucolic, with houses glimpsed through the rich array of trees. Suddenly we are in a kind of Eden, a splendid example of the late-Georgian obsession for creating rus in urbe, with stern and uniform terraces framed and softened by informal clumps of trees and gardens. We are in the heart of the city but it feels like we are walking through glades and groves. The canal becomes a place of fantasy, of heavy engineering inspired by the romance of history. Here the imagination is inflamed by low-arched and antique-looking bridges – utterly Roman in feel – and by secret bowers, with their chairs and tables manipulated to ideal positions by the nearby terrace-dwellers.[/NAV] [REASON] This was annotated because it provides a detailed description of the path to follow, including the scenery and landmarks along the way, which can help guide the user. It also implies a direction to walk in, through the description of the changing scenery and the movement of the waters. [/REASON] '},\n",
       " {'chunk': 'The theatrical entrance to Islington Tunnel, designed by James Morgan. And then the canal narrows and feeds into a deep, dark tunnel that carries it for 878 metres below the heights of Islington and the Angel above. There is no towpath so the walk ends here, in front of the splendid tunnel arch, designed in heroic style by James Morgan in the visually powerful Baroque manner of Sir John Vanbrugh. The opening is in a gentle catenary curve – a much stronger shape than a semicircular arch – and there is a heavy keystone and two squat and tough-looking Grecian Doric pilasters. It looks like the theatrical opening to some operatic dungeon. But despite its ornamental appearance, the tunnel was in its day a great feat of practical engineering. It was built between 1815–18 by navvies using horse-and manpower and explosives, with the spoil carried away in wheelbarrows. When the canal opened bargees had to ‘leg’ their boats through the tunnel – in other words, lie on their back and punt the barges through by pushing with their legs against the tunnel roof. This hideous, back-breaking work was necessary until a steam tug was installed in 1826 that heaved barges through in a continuous chain. In other tunnels, legging was necessary until well into the nineteenth century. John Hollingshead witnessed the system on another canal in 1860, and described the moment two boats passed. ‘It was necessary to leave off legging, for the boats to pass each other, and the leggers waited until the last moment when a concussion seemed inevitable, and then sprang instantaneously, with singular dexterity, on to the sides of their boats, pulling their narrow platforms up immediately after them,’ he wrote. It was, in his rendering, a peculiarly beautiful scene. The action of the light in front of our boat produced a very fantastic shadow of our recumbent boatman-legger upon the side wall of the tunnel. As his two legs stuck out horizontally from the edge of the legging-board, treading, one over the other, against the wall, they threw a shadow of two arms, which seemed to be held by a thin old man – another shadow of the same substance – bent nearly double at the',\n",
       "  'navs': '[NAV] The theatrical entrance to Islington Tunnel, designed by James Morgan. And then the canal narrows and feeds into a deep, dark tunnel that carries it for 878 metres below the heights of Islington and the Angel above. There is no towpath so the walk ends here, in front of the splendid tunnel arch, designed in heroic style by James Morgan in the visually powerful Baroque manner of Sir John Vanbrugh.[/NAV] [REASON] This was annotated because it gives a direction to follow the canal into the tunnel and ends the walk at the tunnel arch. It also includes visual markers like the tunnel arch and its design to guide the user. [/REASON] '},\n",
       " {'chunk': 'stomach, who worked them over and over, as if turning two great mangle-handles with both hands at the same time.14 The only way to reach the other end of Islington Tunnel, if not travelling by barge, is to ascend to the street and continue west overground. That, though, is another walk. For now, merely take a moment to look back east and reflect on the extraordinary achievement of the late-Georgian waterways, and the way they transformed the British economy. It was a feat that contemporaries were highly conscious of. The English poet and essayist Anna Laetitia Barbauld captured the optimism of the canal age in a 1773 poem, ‘The Invitation’, which reflects on the remarkable changes that the waterways had brought to the English landscape: Here smooth canals, across th’ extended plain, Stretch their long arms, to join the distant main: The sons of toil with many a weary stroke Scoop the hard bosom of the solid rock … The traveller with pleasing wonder sees The white sail gleaming thro’ the dusky trees; And views the alter’d landscape with surprise, And doubts the magic scenes which round him rise.',\n",
       "  'navs': '[NAV] The only way to reach the other end of Islington Tunnel, if not travelling by barge, is to ascend to the street and continue west overground.[/NAV] [REASON] This was annotated because it provides specific directions to reach the other end of Islington Tunnel by ascending to the street and continuing west overground. It also includes a condition, \"if not travelling by barge\", which is part of the navigation instruction.[/REASON] '},\n",
       " {'chunk': \"THE WALK The first portion of this walk stretches from Shoreditch High Street overground station to Brick Lane. We have been here before on Walk 2, into the City of London. This time, though, our route is to the east - into territory that offers an insight into the squalor of Spitalfields in the late nineteenth century. It wasn't always this way. When Spitalfields first started to expand at speed, immediately after the Great Fire of London in 1666, much of the development took place on land owned by the Wheler family; ultimately the Wheler estate would stretch from what became known as Bethnal Green Road, to the east of Spital Yard (later Spital Square) and then south to include the land on which Fournier Street was constructed during the 1720s. Wheler Street - now renamed as Braithwaite Street, the road Shoreditch High Street station opens on to - was the most architecturally important and affluent thoroughfare. It was in the houses of these streets that the more prosperous families of the area chose to live. When waves of French Protestant Huguenots began to move to Spitalfields in the 1680s, escaping Catholic persecution in their own land and at the hands of their own king, Louis XIV, many of the most ambitious and successful settled here. By the mid nineteenth century, however, all of this was a distant memory. The street pattern was changed radically in this period, first by the construction of the railway from 1839, and then by the imposition of Commercial Street, a new thoroughfare, built from 1843-57, which as well as improving communication also obliterated some of Spitalfields' most desperate slum streets and courts. Wheler/Braithwaite Street retains no physical relics of its opulent seventeenth-century origins. Instead, the best buildings are Victorian. On the south-west corner with Quaker Street is the red-brick and boldly gabled Bedford Institute, built in a handsome early-seventeenth-century Flemish Renaissance style and named after a Quaker philanthropist.\",\n",
       "  'navs': '[NAV] The first portion of this walk stretches from Shoreditch High Street overground station to Brick Lane.[/NAV] [REASON] This was annotated because it provides a specific walking route from Shoreditch High Street overground station to Brick Lane. [/REASON]  [NAV] This time, though, our route is to the east - into territory that offers an insight into the squalor of Spitalfields in the late nineteenth century.[/NAV] [REASON] This was annotated because it provides a direction to follow, which is east, and also includes a visual marker, the territory that offers an insight into the squalor of Spitalfields in the late nineteenth century. [/REASON]  [NAV] Wheler Street - now renamed as Braithwaite Street, the road Shoreditch High Street station opens on to - was the most architecturally important and affluent thoroughfare.[/NAV] [REASON] This was annotated because it provides a specific walking route, which is Wheler Street, now renamed as Braithwaite Street, the road Shoreditch High Street station opens on to. [/REASON]  [NAV] On the south-west corner with Quaker Street is the red-brick and boldly gabled Bedford Institute, built in a handsome early-seventeenth-century Flemish Renaissance style and named after a Quaker philanthropist.[/NAV] [REASON] This was annotated because it provides a specific location to reach, which is the south-west corner with Quaker Street, and also includes a visual marker, the red-brick and boldly gabled Bedford Institute. [/REASON] '},\n",
       " {'chunk': \"Built in 1893 - the date is shown in entwined numerals on the door-surround - the institute housed, amongst various admirable activities, a working-men's club and presumably did much to improve the impoverished lives of those who lived around it. Far jauntier is the Commercial Tavern, at the junction of Wheler Street and Commercial Street. It was constructed in 1863 as part of the healing process after Commercial Street had been sliced through the area and new building plots had been created. It stands on an odd, wedge-shaped plot, but the designer turned the problem to advantage by treating the wedge as an opportunity to create a bulbous, bull-nosed building - its front tricked out with lovely details - containing a well-windowed dining room on its first floor. This room allowed diners to eniov a fine prospect of the new road and its teeming traffic, as if it had been a canal in Venice. Wheler Street also contains five fine nineteenth-century cast-iron bollards, each with its own story to tell. One, a splendid Gothic affair, has the letters MBS cast into its base, presumably meaning the Metropolitan Borough of Stepney. The remaining four are of the more familiar cannon form, three with a 'spur' casting at their base showing they were designed to prevent loaded drays from wandering on to the pavement. One proclaims on its shaft 'St Paul's Shadwell', and so presumably was part of a paving scheme in the parish and was moved here at some later date. It also records that it was cast in 1848 by Bailey Page & Co. of 81 Bankside. Another states in large and beautiful serif lettering 'Dodgson London' - referring to John Dodgson of Lower Shadwell, registered in the Post Office Directory of 1841 as an 'iron and brass founder'. These bollards are lovely and strangely human things - the small, domed tops of the cannon-type burnished by the posteriors of generations of loiterers resting upon them, deciding whether to go this way or that or simply going nowhere at all.  The route to take, though, is the thoroughfare that intersects with Wheler Street. This is Ouaker Street. On the north side is a row\",\n",
       "  'navs': '[NAV] Far jauntier is the Commercial Tavern, at the junction of Wheler Street and Commercial Street.[/NAV] [REASON] This was annotated because it provides a specific location (junction of Wheler Street and Commercial Street) where the Commercial Tavern is located, which can be used as a reference point for navigation. [/REASON]  [NAV] The route to take, though, is the thoroughfare that intersects with Wheler Street. This is Ouaker Street. On the north side is a row[/NAV] [REASON] This was annotated because it provides a specific direction to take (the thoroughfare that intersects with Wheler Street) and also mentions a visual marker (On the north side is a row) to help in navigation. [/REASON] '},\n",
       " {'chunk': \"of gabled former railway warehouses dating from the late nineteenth century and now gutted and being converted into an economy hotel; on the south side is an early twentieth-century block of industrial dwellings, portions of the former Truman's Brewery, and a large interwar public-housing block named Wheler House. This block - standing in an open space and set back from the street - can be quite a disturbing sight, with debris littering its forecourt and its balconies bedecked with drying washing. It is at once a startling reminder of the poverty and decay that made these streets notorious in the nineteenth century, and a hint that, despite Spital-fields' renaissance as a residential area and a place of en-tertainment, it also contains within it some of the poorest pockets of East London. In the late nineteenth century, the courts and alleys off the south side of Quaker Street were among the worst the district had to offer. They were, indeed, some of the darkest, most dire and most squalid buildings in the city. In the preceding decades, the density of occupation had been increased, with the construction of rows of cramped, ill-lit and tiny cottages in what were once open courts, yards and even gardens. The result was a labyrinthine urban grain, with secreted courts of tumbledown houses and of ancient large houses subdivided and neglected. So naturally, when the political and social scientist Friedrich Engels wanted to illustrate the desperate destitution of London's poor in the 1840s, he turned to the courts off Quaker Street. For Engels the poor were the tragic victims of the ruthless and exploitative system of capitalism, and in and around Spitalfields he found evidence to support his argument that in Britain profit-driven entrepreneurs and industrialsts hastierred selish, meterialst ardue- tive-were suffered to starve. In his The Condition of the Working Class in England, published first in Germany in 1845, one of the most powerful moments is the story of two boys who, in January 1844, had been brought before the magistrate because being in a starving condition, they had stolen and\",\n",
       "  'navs': \"eaten a loaf of bread. The magistrate, a Mr Hammill, had asked them why they had not applied to the parish for relief. 'We did so,' they replied, 'and they gave us a loaf of bread between us both, and told us to come again next day.' 'And did you go?' 'Yes, and they gave us another loaf, and told us not to come again for a week.' 'And what did you do then?' 'We went and begged, but we could not get a bit of bread, and so we took this.' 'And where are your parents?' 'We have none.' 'And where do you live?' 'We sleep where we can.' The magistrate ordered that they be sent to the workhouse. The workhouse was the last resort of the destitute, and in the 1840s it was a place of dread. The workhouse system had been reformed in 1834, and the new Poor Law was designed to deter all but the most desperate from seeking help. The workhouses were made as unpleasant as possible, and families were split up, with men, women and children housed separately. The inmates were given the most basic food and clothing, and were expected to work for their keep. The work was often hard and monotonous, such as picking oakum (unravelling old ropes), breaking stones or grinding corn. The workhouses were run by boards of guardians, who were elected by the local ratepayers, and the emphasis was on economy and efficiency. The system was widely criticised, and in the 1840s and 1850s there were a number of scandals involving cruelty and neglect. The workhouse system was finally abolished in 1930, but the buildings often survived, and many were converted into hospitals or homes for the elderly. The workhouse in Spitalfields, which was built in 1848-9, was one of the largest in London, and it still stands, a grim reminder of the harsh realities of life in Victorian England.\"},\n",
       " {'chunk': \"immediately devoured a half-cooked calf's foot from a shop. Upon investigating further, the magistrate discovered how they lived at No. 2 Pool's Place, Quaker Court off Quaker Street. A policeman found the mother with six of her children literally huddled together in a little back room, with no furniture but two old rush-bottomed chairs with the seats gone, a small table with two legs broken, a broken cup, and a small dish. On the hearth was scarcely a spark of fire, and in one corner lay as many old rags as would fill a woman's apron, which served the whole family as a bed. For bed clothing they had only their scanty day clothing. The poor woman told him she had been forced to sell her bedstead the year before to buy food. Her bedding she had pawned with the victualler for food. In short, everything had gone for food.g To push his point home, Engels quoted an article from The Times of 12 October 1843: 'Let all men remember this -that within the most courtly precincts of the richest city of God's earth, there may be found, night after night, winter after winter, women ... ROTTING FROM FAMINE, FILTH, AND DISEASE! He concluded with a call to arms: 'Let them remember this, and learn not to theorize but to act. God knows, there is much room for action nowa-davs. 10 It was an extraordinary image, and would have been unimaginable just a century earlier, when these had been handsome streets that housed a flourishing silk industry.\",\n",
       "  'navs': 'The provided text does not contain any navigation instructions. Therefore, no `Nav Tags` can be added.'},\n",
       " {'chunk': \"But, through the nineteenth century, this would be the impression of Spitalfields that became embedded in the popular imagination. One of the most vivid descriptions was produced in the late 1890s and came - as ever - from the social reformer and philanthropist Charles Booth (see pp. 310, 361-2 and 386), and his secretary George H. Duckworth. As we have seen, Booth colour-coded the streets he saw to show the economic and social status of occupiers, ranging from black for the very poor to yel-low/gold for the richest. Although flavoured by a sense of compassion, his notes about Spitalfields are uncom-promising, prejudiced and often scathing. New Square, off the south-west side of Quaker Street, included 'Dogs chained to each garden, thieves'; Pool Square, meanwhile, was notable for having 'rough women about, Irish, one house with wooden top storey, windows broken' 11 They noted that this square should be dark blue on the poverty map - almost the worst category. One theme that emerges in many accounts of nine-teenth-century Spitalfields is the territorialism. 'This is the last of an Irish colony, the pair reported of Pool Square. 'The Jews begin to predominate where Grey Eagle Street is reached!12 There were streets, courts and small areas inhabited almost entirely by poor Jewish families of Polish and Russian origin, mostly towards Whitechapel Road, whereas other areas were almost exclusively occupied by poor Irish or poor English families. These tended to mix while the Jewish community nearly always remained separate. In this particular case, Booth and Duckworth seem to have got it wrong: they say, in a rather inflammatory manner, that the area around Quaker Street was being transformed by an 'invasion of Jews' with 'small English colonies dotted about'13 In fact, the census of 1891 reveals that the small cottages in these courts remained the preserve of the English poor, with most of their inhabitants born in or near the area. Even more striking is the absence of the Huguenot legacy from the census. Onlv a few of the names seem French. suggesting that by the end of the nineteenth century the area's once dominant French communit was\",\n",
       "  'navs': 'The text provided does not contain any navigation instructions as per the types T1-T5 mentioned in the instructions. Therefore, no `Nav Tags` can be added to this text.'},\n",
       " {'chunk': \"but a distant memory, with its members having been almost overwhelmingly assimilated or - more likely - had simply moved on. Booth and Duckworth also tell us a little about the lifestles of the inhabitants of this area. In their concluding 'General Remarks', they characterised the courts and streets lying south from Quaker Street and east from Commercial Street to Brick Lane as 'a thoroughly vicious quarter', made worse by the Cambridge Music Hall on Commercial Street - one of the largest music halls in London -which 'makes it a focusing point for prostitutes. The music hall had been damaged by fire in 1896, redesigned in exotic Moorish style by Harry Percival and reopened in 1898- just in time for Booth and Duckworth to make their observations about its evil influence - before ultimately being demolished in 1936, and replaced by the bulky, tile-clad faintly art deco factory building that still stands on the site. What had happened to the once-proud weaving community of Spitalfields? Clearly at some stage in the nineteenth century, something had gone badly wrong for the well-to-do Huguenots of the district. The next portion of the walk offers a few clues. Quaker Street emerges on to Brick Lane (which we will visit later); continue straight on to Buxton Street, and you soon come to the grassy plain of Allen Gardens, much beloved by the dog-owners of the area.  It's now hard to believe, but the gardens occupy what was Once The of the most important weaving areas in spitalfields. Until the early 1960s, it retained a network of narrow cobbled streets, most lined with two-storeyed weavers' cottages, furnished on their first floors with wide weavers' windows. Indeed, until five or six years ago a significant number of these cobbled streets survived, robbed of their houses but still carrying with them evocative memories. Standing on these narrow stretches of cobblestones, it was easy to conjure up the ghosts of their long-lost houses and the lives lived within them. Sadly most were destroved a few years ago for the construction of the overground railway, which rises here from below and in the\",\n",
       "  'navs': '[NAV] Quaker Street emerges on to Brick Lane (which we will visit later); continue straight on to Buxton Street, and you soon come to the grassy plain of Allen Gardens, much beloved by the dog-owners of the area.[/NAV] [REASON] This was annotated because it provides specific walking directions from Quaker Street to Brick Lane, then continuing straight on to Buxton Street, and finally arriving at Allen Gardens. [/REASON] '},\n",
       " {'chunk': \"process slices diagonally through the route of what was Pedley Street. The history of these streets tells of the boom vears of the Spitalfields' silk industrv as well as its decline. John Rocque's map of 1746 shows a short road called Fleet Street which, along with other streets probing east from Brick Lane, ended in market gardens and fields that marked the beginning of open countryside. However, by the time of a map of 1799-1819 by Richard Horwood (see p. 504), some of the market gardens around Fleet Street had been built upon. Over the next twenty years or so, they disappeared under bricks and mortar and from its eastern end Fleet Street was extended by the newly laid out Pedley Street - created in a belated burst of optimism and growth that seems to have contradicted the long-term troubles besetting the local silk industry.\",\n",
       "  'navs': 'The text provided does not contain any specific navigation instructions or directions. It is more of a historical description of the area and its changes over time. Therefore, no `Nav Tags` can be added to this text.'},\n",
       " {'chunk': \"This transformation of Spitalfields from semi-rural idyll to urban sprawl contributed to its subsequent transformation into a slum. As it became increasingly distanced from healthy fields by the remorseless and mean eastward expansion of London, the problems of poverty and overcrowding were greatly multiplied. By the mid nineteenth century the lives of those who occupied the small houses in these narrow streets was harsh, because the silk industry had entered its years of final decline. In the mid 1860s, the writer Thomas Archer summed up the problem: 'Unfortunately the cheapness of the French and German silk and velvet which is now exported free of duty, and the operation of the country factories as well as those of the large towns, have combined to reduce the London weavers to a very deplorable condition.'14 The value of the industry plummeted rapidly, and the wages of journevmen weavers with it. The fate of the weavers is well illustrated by one story of Pedley Street, commemorated by Henry Mayhew. He quotes a weaver, Thomas Heath of 8 Pedley Street, who had given evidence in 1839 to a government inquiry. Heath, the inquiry said, had been 'represented by many persons as one of the most skilful workmen in Spital-fields and had submitted a 'detailed account of his earnings during the last eight years. This averaged out at about fifteen shillings a week. After expenses this left Heath with an income of, on average, eleven shillings and sixpence a week. His wife's earnings were three shillings a week. What struck Mayhew forcefully was Heath's bitter and forlorn answer when asked if he had an children: 'No; I had two, but they are both dead, thanks to God. When asked why he was pleased his children were dead, Heath replied that by their deaths he was 'relived from the burden of maintaining them, and they, poor dear creatures, are relived from the troubles of this mortal life'. Mayhew noted that if this was the feeling of a skilled weaver, earning about three shillings a week above the average wage, 'what must be the condition of the weavers now [in the late 1840s] that wages have fallen from fifteen to twenty percent since that period '15 Mayhew was\",\n",
       "  'navs': 'The text provided does not contain any navigation instructions. Therefore, no `Nav Tags` can be added.'},\n",
       " {'chunk': \"haunted by this desperate declaration, and so am I. Over the years I have tried to work out where 8 Pedley Street stood, as if this would somehow bring me nearer to Thomas Heath and hely me understand him better. Calculating the house's location was easier before the overground railway was constructed, for this now disturbs and destroys the ground by cutting through the former junction between Fleet Street and Pedley Street. I have, however, had better luck with the 1841 census. This is a notorious difficult document to use - house numbers are not given, the method or order of listing the inhabitants of a street is often not clear, and handwriting can be appalling and information sketchy. But working my way through the entries for Pedley Street, in the parish of St Matthew Bethnal Green, I found Thomas Heath, and what then remained of his family.16 He was described as a weaver, aged forty-five, born in Middlesex. He lived with his wife Ann, aged thirty - and there were no children listed. Documents like these paint a grim portrait of the life of the weavers in the 1840s. In the same house as Heath, which can only have been small, it seems there were three other familv units and eleven people all in occupation on the day of the census. What's more, the census shows that, in the adjacent group of six small houses on Pedley Street, there were forty-nine people in occupation. Add to this the number in the Heath residence and you get sixty inhabitants in a row of seven adjoining houses, meaning that on average between eight or nine people lived in each one. Of these sixty people, twenty-seven were involved in the silk-weaving or fabric industry. It must have been a crowded and saualid existence. What was home life like for the last of the silk-weavers? The patterns of life were described by many people, often with very different manners of expression. One of the more melodramatic accounts comes from Charles Dick-ens, a London-obsessive and an uncontrollable romantic. In 1851 he interviewed a weaver who worked hard but lived a precarious existence, forever subject to the fluctuations of the market that were way beyond his control, and\",\n",
       "  'navs': 'The text provided does not contain any navigation instructions as per the defined types T1-T5. Therefore, no `Nav Tags` can be added to this text.'},\n",
       " {'chunk': 'forever worried about the welfare of his familv. Dickens explored the weaver\\'s house, which quite possibly stood in or near Pedley Street, and observed that the silk looms dominated the home so that the children sleep at night between the legs of the monsters. Dickens also noted that weavers kept pigeons - birds being the traditional pets of the weavers - and grew green runner beans. He ruminated that \\'while birds could fly and escape, their owners could not. The bean stalk allowed Jack to escape in the fairy tale but the \"Jacks\" of Spitalfields will never, never, climb to where the giant keeps his money.17 A far more detailed description was offered in the 1860s by Thomas Archer. He wrote not just of weavers\\' houses and their garrets but also of the ornaments in their homes, their characters and their hobbies. The weaver, noted Archer requires a \\'long light\\', or leaden casement, so that he most frequently occupies garrets, originally designed for his trade. Poor, suffering, nearly starved, and living in a house which shares with the rest the evils of bad or no drainage, and insufficient water supply, his business requires at least some amount of personal cleanliness, for the delicate fabrics on which he is employed could never come out unsullied from the touch of coarser hands In these weavers\\' houses, claimed Archer, \\'the click of the shuttle may be heard all day long while the weaver has work to do. Archer\\'s description of a weaver\\'s home is particularly poignant: \\'In one of these long \"shops\" a whole family and all their live stock will sometimes live .. amidst the turned up stump bedsteads or the roll of blankets on the floor. In their poverty Archer discerned a sense of family pride and the distant memory of more prosperous times. Among \\'the few pieces of broken crockery, and the rickety furniture, some of which is generations old, there is often seen some sort of order and decency which is worthy of a better fortune. ..a cracked china cup, an ivory carving, a silver-keyed flute, a flawed and riveted punch-bowl... (or) a scrap or two of old point lace.\\'18 The street life of this weaving district is even harder to',\n",
       "  'navs': 'The text provided does not contain any navigation instructions. It is a description of the living conditions and lifestyle of weavers, but it does not provide any directions or routes to follow. Therefore, no `Nav Tags` can be added to this text.'},\n",
       " {'chunk': 'imagine today. Again, though, the historical record offers us a glimpse of what has been lost. The Old Bailey\\'s archive includes a description of a violent robbery of September 1826. At about half past seven in the evening, a surgeon named Henry Fuller was walking along Fleet Street Hill when he was attacked by a gang of around twenty men. According to Fuller, when giving evidence in court six weeks later, two of the men pinioned his arms while another fastened them to his body by a rope. Fuller claimed that many brandished sticks to terrorise him and one shouted, \\'If the b-r speaks, knock his b-y brains out.\\' Fuller\\'s pockets were rifled, his surgical instruments grabbed and then he was released and the gang ran off. What happened next is in many ways more chilling, and certainly very revealing. As Fuller explained in court, after being untied and as the gang fled, \\'I raised a cry of \"Stop thief!\" But nobody in the street responded or picked up the cry. Eventually, \\'Some persons came up and begged me to hold my tongue, saying the gang was so desperate, they would murder me if I did not.\\' Eventually four men were taken for the violent highway robbery\\' and tried at the Old Bailey - three were acquitted for lack of evidence but one, the eighteen-year-old James Bishop, was found guilty and hanged.1 These streets were clearly lawless places, stalked by gangs that were bred out of the poverty and unemployment of the collapsing silk industry.',\n",
       "  'navs': 'The text provided does not contain any navigation instructions that satisfy the criteria of T1-T5. Therefore, no `Nav Tags` can be added to this text.'},\n",
       " {'chunk': \"Today, the closest one can get physically to these old silk-weaving houses is by walking to the very east end of Allen Gardens. Here are the best surviving portions of early streets. with one cobbled section now serving as the entrance to the adiacent and admirable Spitalfields City Farm. On this narrow street, where weavers once walked, and on the sites of the small terraced houses in which they toiled and starved, goats now frolic and prize pigs wallow in bucolic splendour. The cobbled fragments include a portion of Weaver Street - which ran south of and parallel to Pedley Street - and its junctions with Fleet Street Hill and Bratley Street. These are the very corners on which unemploved and desperate weavers must have gathered in the middle of the century to discuss their plight and share their sorrows. In the mid nineteenth centurv Spitalfields was - as now - a place of opposing worlds. Even while large parts of the area were beset by poverty and despair, others were commercially vibrant, even prosperous, with their houses quite well-occupied. Along and around Brick Lane were markets, shops, manufactories, numerous pubs and, of course, the huge Truman, Hanbury and Buxton brewery. This is a side of Spitalfields that we next encounter. Walk back via the north side of Allen Gardens, and through the narrow alleyway that still, rather grandly, calls itself Pedley Street. You come out on to Brick Lane. This is an ancient thoroughfare, and has existed with its modern name since at least 1550. On the Agas map that shows London in c. 1560-70, Brick Lane is shown clearly, but is unlined by buildings. In the early 1640s Brick Lane marked one of the boundaries of the massive earth-built system of fortifications that Parliament rapidly constructed around London. Like the Wheler estate to its west, it began to develop in the late seventeenth century; by 1703, according to Joel Gascoyne's map of Stepney, buildings lined virtually all of Brick Lane. This transformation into urban area had - along with much of Spitalfields - been rapid, almost shockingly so. In his Tour Thro' the Whole Island of Great Britain, published in\",\n",
       "  'navs': '[NAV] Today, the closest one can get physically to these old silk-weaving houses is by walking to the very east end of Allen Gardens. Here are the best surviving portions of early streets. with one cobbled section now serving as the entrance to the adiacent and admirable Spitalfields City Farm.[/NAV] [REASON] This was annotated because it provides a specific walking direction to the east end of Allen Gardens and also mentions a visual feature: `one cobbled section now serving as the entrance to the adjacent and admirable Spitalfields City Farm` to guide you there.[/REASON]  [NAV] Walk back via the north side of Allen Gardens, and through the narrow alleyway that still, rather grandly, calls itself Pedley Street. You come out on to Brick Lane.[/NAV] [REASON] This was annotated because it provides a specific walking direction through the north side of Allen Gardens and through Pedley Street to reach Brick Lane. It also mentions a visual feature: `narrow alleyway that still, rather grandly, calls itself Pedley Street` to guide you there.[/REASON] '},\n",
       " {'chunk': 'three volumes between 1724 and 1727. Daniel Defoe remarked that, \\'Within the memory of the writer hereof, all those numberless ranges of building, called Spittle Fields ... are all now close built, and well inhabited with an infinite number of people.\\' Lanes that were \\'deep, dirty and un-frequented\\' were now part of the city, and this included \\'Brick Lane, which is now a long well paved street\" though it was formerly but \\'a deep dirty road, frequented chiefly by carts fetching bricks that way into White-Chapel from Brick kilns in those fields, and had its name on that account 20 The Brick Lane before us now possesses some physical reminders of this early development, but mostly it reflects the vibrant late-eighteenth- and nineteenth-century life of the area. Most notable is the mighty bulk of the former Truman\\'s Brewery that stands astride the central portion of Brick Lane. Truman\\'s was, in the mid eighteenth century, one of the largest and most modern industrial complexes in the world, and it determined much of the physical character of the north-east portion of Spitalfields well into the late twentieth century. It was closed as a brewery in 1989, but the commercial, retail and leisure uses to which its retained buildings are currently put remain a major influence on life in Spitalfields. But we walk north, towards the railway bridge. The character of this portion of Brick Lane was recast during the 1830s - and after - by the arrival of the railways. You may have noticed a small, graffiti-covered brick building on Pedley Street; this was Shoreditch station, built in 1876 to serve the Underground system\\'s East London Line. The little station, perched above a track in the deep cutting below, closed in 2006 having been made redundant by the overground line that now sails majestically above it, to the north. The railway bridge across Brick Lane, incorporating a vast lattice-steel viaduct to its east, carries the overground railway to Shoreditch High Street station. The really significant railway works, however, lie just to the south of this bridge and run, generally out of sight, below ground level. This is the main route into',\n",
       "  'navs': '[NAV] \\'Brick Lane, which is now a long well paved street\"[/NAV] [REASON] This was annotated because it implies a direction to follow along Brick Lane, which is now a well-paved street. [/REASON]  [NAV] But we walk north, towards the railway bridge.[/NAV] [REASON] This was annotated because it gives a clear direction to walk north towards the railway bridge. [/REASON]  [NAV] The railway bridge across Brick Lane, incorporating a vast lattice-steel viaduct to its east, carries the overground railway to Shoreditch High Street station.[/NAV] [REASON] This was annotated because it gives a clear direction to follow the railway bridge across Brick Lane to reach Shoreditch High Street station. It also includes a visual marker, the vast lattice-steel viaduct to its east. [/REASON] '},\n",
       " {'chunk': \"Liverpool Street station from Cambridge and Norwich which, when being constructed in the later nineteenth century, wrought much havoc in this part of Spitalfields. Take a look to the west, just before the bridge is reached. Here, behind a pair of huge gates, is a now-secret treasure trove of industrial architecture and archaeology that stretches as far as Wheler Street. This is the brick-vaulted underworld - with cobbled streets and cavernous arched rooms - of the now long-lost Bishopsgate Goodsyard. The ranges of once towering warehouses are now gone and all stands derelict, the subject of a series of much-contested proposals from developers to bedeck all with a number of residential towers. The existing structure incorporates portions of the original viaduct - dating from 1838-40 and designed by the pioneering railway engineer John Braithwaite. This viaduct, which originally led to Bishopsgate railway station on Norton Folgate, is a listed building so it, at least, should survive whatever scheme finally wins consent. The redundant rail track above your head is supported by brick piers of vast girth which allow only a little light to filter into this seemingly subterranean world. The tough materials and robust brick and stone construction, the rich and wild planting cascading from above, gives it the feel of an antique ruin, like Trajan's Market in Rome. About ten years ago all of this was opened for the public's pleasure but then closed again. Such are the strange ways and vagaries of urban development.\",\n",
       "  'navs': '[NAV] Take a look to the west, just before the bridge is reached.[/NAV] [REASON] This was annotated because it gives a specific direction to look towards the west before reaching the bridge. [/REASON] [NAV] Here, behind a pair of huge gates, is a now-secret treasure trove of industrial architecture and archaeology that stretches as far as Wheler Street.[/NAV] [REASON] This was annotated because it gives a specific location to look for behind a pair of huge gates and also mentions a specific street, Wheler Street. [/REASON] '},\n",
       " {'chunk': \"Immediately to the north-east of the bridge is a small road, its south side now mostly occupied by the vast latticework steel viaduct of the overground railway. This was the long, once-important and well-occupied St John's Street, which was laid out in the seventeenth century and is recorded in all its splendour on Gascovne's 1703 map of Stepney. It must have been an attractive street, lined with the late-seventeenth-century homes of Huguenots, perhaps even the grand homes of leading master weavers, since one of the area's most important Huguenot churches or 'temples' was set within a court on its north side. The street terminated with the pleasant walks of 'Hambleton's Garden', with fields beyond. This idyllic world, or rather what survived of it, was shattered when the railway arrived and most of the south side and east end of the street disappeared first below the raised viaduct and then was obliterated by the later, wider cutting. And most of what was built in place of the lost houses was in turn destroyed a few years ago for the viaduct. Now this once-grand street is now no more than the runt of a turning, seemingly heading nowhere. For some not very clear reason its name has been changed to Grimsby Street - perhaps so as not to sully the memory of St John. The next junction, virtually a crossroads formed by Sclater Street coming in from the west and Cheshire Street from the east, is one of the most important and memory-charged places in Spitalfields - at least for those whose memory of the area stretches back for a few decades. This was the meeting place of Spitalfields' great and famous outdoor Sunday markets. Thirty years ago the markets were thriving affairs, hubs of East End life, selling all manner of wares - from cut-prices clothes and puppy dogs to old furniture and the accumulated contents of many a local attic or cupboard. It was truly amazing. All you had to do was wish to find something and, if you kept your focus, you usually would - with a lot of surprises thrown in. Now these markets are but sad shadows, although the north end of Brick Lane still puts on a reasonable showing on a Sunday morning, with street stalls selling more than\",\n",
       "  'navs': '[NAV] Immediately to the north-east of the bridge is a small road, its south side now mostly occupied by the vast latticework steel viaduct of the overground railway.[/NAV] [REASON] This was annotated because it provides a direction (north-east) and a visual feature (vast latticework steel viaduct of the overground railway) to guide you there.[/REASON]  [NAV] The next junction, virtually a crossroads formed by Sclater Street coming in from the west and Cheshire Street from the east, is one of the most important and memory-charged places in Spitalfields -[/NAV] [REASON] This was annotated because it provides a direction to a junction formed by Sclater Street and Cheshire Street, which is a significant location in Spitalfields.[/REASON]  [NAV] Now these markets are but sad shadows, although the north end of Brick Lane still puts on a reasonable showing on a Sunday morning, with street stalls selling more than[/NAV] [REASON] This was annotated because it provides a direction to the north end of Brick Lane, which is a significant location for Sunday markets.[/REASON] '},\n",
       " {'chunk': \"cheap food and modern tat. This junction also marks the nucleus of Brick Lane's few surviving early houses, shops and workshops. Particularly good are 125 and 127 Brick Lane, built on the corner with Sclater Street in 1778 for a Huguenot named Daniel Delacourt and with wide workshop windows. There was a sensational terrace of similarly wide-windowed weavers' houses on the south side of Sclater Street. They were built in the early 1720s, became derelict and were destroyed in the early 1970s without even a whimper. This pointless destruction - their site remains empty - was a most significant step in the fightback to save the historic fabric, and life, of Spitalfields: a fight that has been sustained for over forty years with grim determination by succeeding waves of residents. At the west end of Sclater Street, where it faces Club Row to the north across Bethnal Green Road, was the once-famed Club Row animal and bird market. It was one of the sights of nineteenth-century London and it seemed to attract and yet repulse in fairly equal measure. There are some memorable descriptions. Thomas Archer, writing in the mid 1860s, is particularly good because he seems to have spent some time in the area, observing 'the bird, dog, and pigeon-fanciers'. They came, he says, 'from the marshes, or from still further afield, where they have been pegging for chaffinches, or jingling robins, or netting larks.21 Archer writes evocatively on the character and the extravagant appearance of these bird fanciers, who were perhaps part of London's mid-Victorian gang life: 'shambling, tight trousered, sleek haired, artful, he says, 'they are in the long run more ... dangerous than either thief or convict. 22 Archer also noted the more 'reg-ular thieves' who were attracted to Club Row on market day: 'I have counted eleven as I stand here by the corner, and I know that I am the cause of their uneasy shifting hither and thither, and that they are watching me as closely as I am looking at them.23 Thirty years later, Charles Booth, too, had much to say about the animal and bird market: during a walk on 22 March 1898, he noted that it was a 'centre to bird fanciers' dealing in larks,\",\n",
       "  'navs': '[NAV] At the west end of Sclater Street, where it faces Club Row to the north across Bethnal Green Road, was the once-famed Club Row animal and bird market.[/NAV] [REASON] This was annotated because it provides a direction to the west end of Sclater Street and also mentions a visual marker, the Club Row animal and bird market. [/REASON] '},\n",
       " {'chunk': \"thrushes, canaries, parrots'; they were often placed in 'small square cages wrapped up in pocket handkerchiefs outside windows', which supposedly allowed 'new birds to pick up the right note from their fellows'. 24\",\n",
       "  'navs': 'The provided text does not contain any navigation instructions, so no `Nav Tags` can be added.'}]"
      ]
     },
     "execution_count": 25,
     "metadata": {},
     "output_type": "execute_result"
    }
   ],
   "source": [
    "json.load(open(\"gpt_four_annotations.json\"))"
   ]
  },
  {
   "cell_type": "code",
   "execution_count": 21,
   "metadata": {},
   "outputs": [
    {
     "name": "stdout",
     "output_type": "stream",
     "text": [
      "[NAV]This walk starts at one of the most famous landmarks in Britain: Tower\n",
      "Bridge. [/NAV]\n",
      "[REASON]This was annotated because it gives an implicit direction to start the walk at Tower Bridge.[/REASON]\n",
      "[NAV]ascend from Tower Hill tube and\n",
      "stroll south across the bridge.[/NAV]\n",
      "[REASON]This was annotated because it gives explicit directions to ascend from Tower Hill tube and stroll south across the bridge.[/REASON]\n",
      "[NAV]There\n",
      "was, for practical reasons, only one site possible – a strip of land just east\n",
      "of the Tower of London – [/NAV]\n",
      "[REASON]This was annotated because it gives an implicit direction to a specific location east of the Tower of London.[/REASON]\n"
     ]
    }
   ],
   "source": [
    "print(four_test_annotations[0].content)"
   ]
  },
  {
   "cell_type": "code",
   "execution_count": null,
   "metadata": {},
   "outputs": [],
   "source": []
  },
  {
   "cell_type": "markdown",
   "metadata": {},
   "source": [
    "## GPT 3.5 Annotations"
   ]
  },
  {
   "cell_type": "code",
   "execution_count": null,
   "metadata": {},
   "outputs": [],
   "source": [
    "three_5_annots = []"
   ]
  },
  {
   "cell_type": "code",
   "execution_count": null,
   "metadata": {},
   "outputs": [],
   "source": [
    "for chunk_3_5 in tqdm(chunks):\n",
    "    three_5_annots.append(from_chunk(chunk_3_5, PROMPT, model=\"gpt-3.5-turbo-0125\"))"
   ]
  },
  {
   "cell_type": "code",
   "execution_count": 49,
   "metadata": {},
   "outputs": [
    {
     "data": {
      "text/plain": [
       "29"
      ]
     },
     "execution_count": 49,
     "metadata": {},
     "output_type": "execute_result"
    }
   ],
   "source": [
    "len(test_chunks)"
   ]
  },
  {
   "cell_type": "markdown",
   "metadata": {},
   "source": [
    "## Compare to GPT4 to GPT3 annots"
   ]
  },
  {
   "cell_type": "code",
   "execution_count": null,
   "metadata": {},
   "outputs": [],
   "source": [
    "comp_idx = 0"
   ]
  },
  {
   "cell_type": "code",
   "execution_count": null,
   "metadata": {},
   "outputs": [],
   "source": [
    "print(three_5_annots[comp_idx].content)"
   ]
  },
  {
   "cell_type": "code",
   "execution_count": null,
   "metadata": {},
   "outputs": [],
   "source": [
    "import re\n",
    "\n",
    "\n",
    "def pp(content):\n",
    "    nav_splits = re.findall(rf\"{START_TAG}(.*?){END_TAG}\", content, flags=re.DOTALL)\n",
    "    reason_splits = re.findall(\n",
    "        rf\"{REASON_START_TAG}(.*?){REASON_END_TAG}\", content, flags=re.DOTALL\n",
    "    )\n",
    "    assert len(nav_splits) == len(\n",
    "        reason_splits\n",
    "    ), f\"Nav splits {len(nav_splits)} and reason splits {len(reason_splits)} are not equal\"\n",
    "    print(f\"{len(nav_splits)} Nav splits and {len(reason_splits)} Reason splits\")\n",
    "    # print(nav_splits)\n",
    "    # print(\"\\n\\n\")\n",
    "    # print(reason_splits)\n",
    "    # print(\"...\\n\\n\")\n",
    "    for i, (nav_split, reason_split) in enumerate(zip(nav_splits, reason_splits)):\n",
    "        if nav_split:\n",
    "            print(f\"Nav {i}: {nav_split.strip()}\")\n",
    "            print(f\"Reason {i}: {reason_split.strip()}\")\n",
    "            print(\"\\n\")\n",
    "\n",
    "\n",
    "def pp_gt_four(content):\n",
    "    nav_splits = re.findall(rf\"{START_TAG}(.*?){END_TAG}\", content, flags=re.DOTALL)\n",
    "    for nav_split in nav_splits:\n",
    "        if nav_split:\n",
    "            print(f\"Nav: {nav_split.strip()}\\n\")\n",
    "    reason_splits = re.findall(\n",
    "        rf\"{REASON_START_TAG}(.*?){REASON_END_TAG}\", content, flags=re.DOTALL\n",
    "    )\n",
    "    for reason_split in reason_splits:\n",
    "        if reason_split:\n",
    "            print(f\"Reason: {reason_split.strip()}\")"
   ]
  },
  {
   "cell_type": "code",
   "execution_count": null,
   "metadata": {},
   "outputs": [],
   "source": [
    "comp_idx = 9\n",
    "pp(three_5_annots[comp_idx].content)"
   ]
  },
  {
   "cell_type": "code",
   "execution_count": null,
   "metadata": {},
   "outputs": [],
   "source": [
    "pp_gt_four(four_annots[comp_idx].content)\n",
    "summary = \"\"\"\n",
    "--\n",
    "for comp_idx = 0\n",
    "GPT4 gets 6 navigations all of which are valid.\n",
    "GPT3.5 gets 4 and 3/4 look valid \n",
    "\n",
    "GPT 4 \n",
    "Precision = 6/6 = 1\n",
    "GPT 3.5\n",
    "Precision = 3/4\n",
    "\n",
    "\n",
    "--\n",
    "for comp_idx = 1    \n",
    "GPT 4 retrievs 4 and gets all 4 seem valid.\n",
    "GPT 3.5 gets 3 and all are valid, it gets one additional that GPT4 misses\n",
    "\n",
    "GPT 4\n",
    "Precision = 4/4 = 1\n",
    "GPT 3.5\n",
    "Precision = 3/3 = 1\n",
    "\n",
    "--\n",
    "for comp_idx = 2\n",
    "Both retrieve a valid nav.\n",
    "\n",
    "Precision = 1/1 = 1 for both\n",
    "\n",
    "--\n",
    "for comp_idx = 3\n",
    "GPT 4 gets 4 navs all are valid. NOTE: the reason for the fourth one(the bridge) is a bit off ( but still valid) because it mentions a bridge but not the direction to get there. \n",
    "GPT3 gets 3 navs and all are valid.\n",
    "\n",
    "GPT 4:\n",
    "Precision = 4/4 = 1\n",
    "GPT 3.5:\n",
    "Precision = 3/3 = 1\n",
    "\n",
    "--\n",
    "for comp_idx = 4\n",
    "GPT 4 gets 6 navs all are valid.\n",
    "GPT3.5 gets 4 navs. 2 navs talk about a place that existed in the past but not now. \n",
    "\n",
    "GPT 4:\n",
    "Precision = 6/6 = 1\n",
    "GPT 3.5:\n",
    "Precision = 2/4 = 0.5\n",
    "\n",
    "NOTE: GPT4 does not point out visual markers as much as GPT3.5 does. 4 always says T1 and no other mixed type.\n",
    "\n",
    "--\n",
    "for comp_idx = 5\n",
    "GPT 4 gets 7 navs all are valid. \n",
    "GPT 3.5 gets 5 navs and all are valid. \n",
    "\n",
    "GPt 4:\n",
    "Precision = 7/7 = 1\n",
    "GPT 3.5:\n",
    "Precision = 5/5 = 1\n",
    "\n",
    "--\n",
    "for comp_idx = 6\n",
    "GPT 4 gets 4 navs and all are valid. It combines the first two navs, which is as it should be, 3.5 splits them up.\n",
    "GPT 3.5 gets 5 navs and all are valid.\n",
    "\n",
    "GPT 4:\n",
    "Precision = 4/4 = 1\n",
    "GPT 3.5:\n",
    "Precision = 5/5 = 1\n",
    "\n",
    "--\n",
    "for comp_idx = 7\n",
    "GPT 4 selects only 3 navs and all of them adre valid. NOTE It now grabs visual markers as well.\n",
    "GPT 3.5 select 7 navs from the text and only 2 were valid with the others either not having a navigation instrcution or was a object in the distant past. \n",
    "\n",
    "GPT 4:\n",
    "Precision = 3/3 = 1\n",
    "GPT 3.5:\n",
    "Precision = 2/7 = 0.2857\n",
    "\n",
    "--\n",
    "for comp_idx = 8\n",
    "GPT 4 selects no navs.\n",
    "GPT 3.5 selects one navigation but it is partially valid as it has no nav instructions and mentions a bridge. \n",
    "\n",
    "Precision is 1 for GPT 4 and 0 GPT 3.5\n",
    "\n",
    "NOTE at this point 4 beings to use other Types of navigation instructions and not just T1.\n",
    "\n",
    "--\n",
    "for comp_idx = 9\n",
    "GPT 4 selects 2 navs and both are valid.\n",
    "GPT 3.5 gets 3 navs and all are valid. it gets one additional nav that GPT4 misses.\n",
    "\n",
    "Precision is 1 for both GPT 4 and GPT 3.5\n",
    "-----------------------------------------\n",
    "\n",
    "Average Precision for GPT 4     = 1 + 1 + 1 + 1 + 1 + 1 + 1      + 1 + 1 + 1 = 10/10 = 1\n",
    "Average Precision for GPT 3.5   =.5 + 1 + 1 +.5 + 1 + 1 + 0.2857 + 1 + 0 + 1 = 7.2857/10 = 0.72857\n",
    "\n",
    "Total number of navs spotted by GPT  4 = 6+4+1+4+6+7+4+3+0+2 = 37  but all are valid giving a near perfect recall\n",
    "Total number of navs spotted by GPT3.5 = 4+3+1+3+4+5+5+7+1+3 = 36  but the valud are 3+3+1+3+2+5+5+1+0+3 = 26 with a recall of 26/37 = 0.7027\n",
    "\"\"\""
   ]
  },
  {
   "cell_type": "code",
   "execution_count": null,
   "metadata": {},
   "outputs": [],
   "source": [
    "print(chunks[comp_idx])"
   ]
  },
  {
   "cell_type": "code",
   "execution_count": null,
   "metadata": {},
   "outputs": [],
   "source": [
    "print(chunks[comp_idx])"
   ]
  },
  {
   "cell_type": "code",
   "execution_count": null,
   "metadata": {},
   "outputs": [],
   "source": [
    "with open(\"./full_text_bermondsy.txt\") as f:\n",
    "    test_text = f.read()"
   ]
  },
  {
   "cell_type": "code",
   "execution_count": null,
   "metadata": {},
   "outputs": [],
   "source": []
  },
  {
   "cell_type": "code",
   "execution_count": null,
   "metadata": {},
   "outputs": [],
   "source": [
    "from langchain.text_splitter import RecursiveCharacterTextSplitter\n",
    "\n",
    "text_splitter = RecursiveCharacterTextSplitter(chunk_size=2200, chunk_overlap=0)\n",
    "test_chunks = text_splitter.split_text(test_text)\n",
    "print(len(test_chunks))"
   ]
  },
  {
   "cell_type": "markdown",
   "metadata": {},
   "source": [
    "## Serialize the test dataset\n"
   ]
  },
  {
   "cell_type": "code",
   "execution_count": null,
   "metadata": {},
   "outputs": [],
   "source": [
    "import json\n",
    "\n",
    "test_dataset = []\n",
    "\n",
    "for chunk in test_chunks:\n",
    "    test_dataset.append({\"chunk\": chunk, \"navs\": chunk[\"navs\"]})\n",
    "json.dump(test_dataset, open(\"test_dataset.json\", \"w\"))"
   ]
  },
  {
   "cell_type": "markdown",
   "metadata": {},
   "source": []
  },
  {
   "cell_type": "markdown",
   "metadata": {},
   "source": [
    "## Serialize the dataset"
   ]
  },
  {
   "cell_type": "code",
   "execution_count": null,
   "metadata": {},
   "outputs": [],
   "source": [
    "# Save the gpt-four annotations\n",
    "import json\n",
    "\n",
    "serialized_data_gpt_four = []\n",
    "\n",
    "with open(\"./gpt_four_annotations.txt\", \"w\") as f:\n",
    "    for i, (four_annot, chunk) in enumerate(zip(four_annots, chunks)):\n",
    "        serialized_data_gpt_four.append(\n",
    "            {\n",
    "                \"chunk\": chunk,\n",
    "                \"navs\": four_annot.content,\n",
    "            }\n",
    "        )\n",
    "        # print('\\n\\n--')\n",
    "    json.dump(serialized_data_gpt_four, f, indent=2, ensure_ascii=False)"
   ]
  },
  {
   "cell_type": "code",
   "execution_count": null,
   "metadata": {},
   "outputs": [],
   "source": [
    "print(four_annots[-1].content)"
   ]
  },
  {
   "cell_type": "code",
   "execution_count": null,
   "metadata": {},
   "outputs": [],
   "source": [
    "from datasets import Dataset\n",
    "\n",
    "walking_tour_dataset = Dataset.from_list(serialized_data_gpt_four)"
   ]
  },
  {
   "cell_type": "code",
   "execution_count": null,
   "metadata": {},
   "outputs": [],
   "source": [
    "# Remove reason and only get nav. OR just try expand the dataset.\n",
    "walking_tour_dataset"
   ]
  }
 ],
 "metadata": {
  "kernelspec": {
   "display_name": "Python 3 (ipykernel)",
   "language": "python",
   "name": "python3"
  },
  "language_info": {
   "codemirror_mode": {
    "name": "ipython",
    "version": 3
   },
   "file_extension": ".py",
   "mimetype": "text/x-python",
   "name": "python",
   "nbconvert_exporter": "python",
   "pygments_lexer": "ipython3",
   "version": "3.11.3"
  }
 },
 "nbformat": 4,
 "nbformat_minor": 2
}

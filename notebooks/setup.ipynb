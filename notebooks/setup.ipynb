{
 "cells": [
  {
   "cell_type": "code",
   "execution_count": null,
   "metadata": {},
   "outputs": [],
   "source": [
    "# Add tools to set up for a\n",
    "!apt-get update && apt-get -y install vim rsync coreutils git-lfs less htop ncurses-dev bzip2 openssl"
   ]
  },
  {
   "cell_type": "code",
   "execution_count": null,
   "metadata": {},
   "outputs": [],
   "source": [
    "!python -m pip install --upgrade pip\n",
    "\n",
    "!curl https://pyenv.run | bash\n",
    "\n",
    "text = r\"\"\"\n",
    "# Load pyenv automatically by appending\n",
    "# the following to\n",
    "# ~/.bash_profile if it exists, otherwise ~/.profile (for login shells)\n",
    "# and ~/.bashrc (for interactive shells) :\n",
    "\n",
    "export PYENV_ROOT=\"$HOME/.pyenv\"\n",
    "[[ -d $PYENV_ROOT/bin ]] && export PATH=\"$PYENV_ROOT/bin:$PATH\"\n",
    "eval \"$(pyenv init -)\"\n",
    "\n",
    "# Restart your shell for the changes to take effect.\n",
    "\n",
    "# Load pyenv-virtualenv automatically by adding\n",
    "# the following to ~/.bashrc:\n",
    "\n",
    "eval \"$(pyenv virtualenv-init -)\"\n",
    "\"\"\"\n",
    "with open(\"~/.bashrc\", \"a\") as f:\n",
    "    f.write(text)    \n",
    "\n",
    "\n",
    "\n"
   ]
  },
  {
   "cell_type": "markdown",
   "metadata": {},
   "source": [
    "# now restart the kernel\n"
   ]
  },
  {
   "cell_type": "code",
   "execution_count": null,
   "metadata": {},
   "outputs": [],
   "source": [
    "!pyenv install 3.11\n",
    "!pyenv global 3.11"
   ]
  },
  {
   "cell_type": "code",
   "execution_count": null,
   "metadata": {},
   "outputs": [],
   "source": [
    "\n",
    "!pip install poetry \n",
    "\n",
    "!mkdir ~/mlx_week_7"
   ]
  },
  {
   "cell_type": "code",
   "execution_count": null,
   "metadata": {},
   "outputs": [],
   "source": [
    "import os\n",
    "os.chdir(\"~/mlx_week_7\")"
   ]
  }
 ],
 "metadata": {
  "kernelspec": {
   "display_name": ".venv",
   "language": "python",
   "name": "python3"
  },
  "language_info": {
   "name": "python",
   "version": "3.11.3"
  }
 },
 "nbformat": 4,
 "nbformat_minor": 2
}

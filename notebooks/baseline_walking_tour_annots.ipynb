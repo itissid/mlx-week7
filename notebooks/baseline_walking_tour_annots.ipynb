{
 "cells": [
  {
   "cell_type": "code",
   "execution_count": 5,
   "metadata": {},
   "outputs": [
    {
     "name": "stdout",
     "output_type": "stream",
     "text": [
      "e87c14e3184b\n"
     ]
    }
   ],
   "source": [
    "!hostname"
   ]
  },
  {
   "cell_type": "code",
   "execution_count": 1,
   "metadata": {},
   "outputs": [
    {
     "name": "stdout",
     "output_type": "stream",
     "text": [
      "/workspace/mlx-week7\n",
      "/workspace/mlx-week7\n"
     ]
    }
   ],
   "source": [
    "import os\n",
    "from pathlib import Path\n",
    "\n",
    "print(os.getcwd())\n",
    "# home = os.path.expanduser(\"~\")\n",
    "# home_path = Path(home)\n",
    "# print(home_path)\n",
    "project_path = Path(\"/workspace/mlx-week7\")\n",
    "# project_path = Path(os.path.expanduser(\"~\") + \"/workspace/mlx-week7\")\n",
    "print(project_path)\n",
    "os.chdir(project_path)"
   ]
  },
  {
   "cell_type": "code",
   "execution_count": 2,
   "metadata": {},
   "outputs": [
    {
     "name": "stdout",
     "output_type": "stream",
     "text": [
      "/workspace/mlx-week7\n"
     ]
    }
   ],
   "source": [
    "!pwd"
   ]
  },
  {
   "cell_type": "code",
   "execution_count": 3,
   "metadata": {},
   "outputs": [
    {
     "data": {
      "text/plain": [
       "True"
      ]
     },
     "execution_count": 3,
     "metadata": {},
     "output_type": "execute_result"
    }
   ],
   "source": [
    "import os\n",
    "\n",
    "os.getcwd()\n",
    "\n",
    "import dotenv\n",
    "\n",
    "dotenv.load_dotenv(project_path / \".env\")"
   ]
  },
  {
   "cell_type": "code",
   "execution_count": 4,
   "metadata": {},
   "outputs": [],
   "source": [
    "import torch\n",
    "import transformers\n",
    "from datasets import load_dataset\n",
    "from transformers import (\n",
    "    AutoTokenizer,\n",
    "    AutoModelForCausalLM,\n",
    "    Trainer,\n",
    "    TrainingArguments,\n",
    "    AutoModel,\n",
    ")\n",
    "from peft import prepare_model_for_kbit_training, LoraConfig, get_peft_model, PeftModel"
   ]
  },
  {
   "cell_type": "code",
   "execution_count": 6,
   "metadata": {},
   "outputs": [],
   "source": [
    "import os\n",
    "\n",
    "assert os.environ[\"HF_TOKEN\"]"
   ]
  },
  {
   "cell_type": "markdown",
   "metadata": {},
   "source": []
  },
  {
   "cell_type": "code",
   "execution_count": 30,
   "metadata": {},
   "outputs": [],
   "source": [
    "tokenizer = AutoTokenizer.from_pretrained(\n",
    "    \"mistralai/Mixtral-8x7B-Instruct-v0.1\",\n",
    "    hf_token=os.environ[\"HF_TOKEN\"],\n",
    "    cache_dir=project_path / \"cache\",\n",
    ")"
   ]
  },
  {
   "cell_type": "code",
   "execution_count": 31,
   "metadata": {},
   "outputs": [
    {
     "data": {
      "text/plain": [
       "{'bos_token': '<s>', 'eos_token': '</s>', 'unk_token': '<unk>'}"
      ]
     },
     "execution_count": 31,
     "metadata": {},
     "output_type": "execute_result"
    }
   ],
   "source": [
    "tokenizer.special_tokens_map  # NOTE"
   ]
  },
  {
   "cell_type": "code",
   "execution_count": 8,
   "metadata": {},
   "outputs": [
    {
     "name": "stdout",
     "output_type": "stream",
     "text": [
      "None\n"
     ]
    }
   ],
   "source": [
    "print(tokenizer.pad_token_id)"
   ]
  },
  {
   "cell_type": "markdown",
   "metadata": {},
   "source": [
    "## Tokenization routines for training and test data generation"
   ]
  },
  {
   "cell_type": "code",
   "execution_count": 8,
   "metadata": {},
   "outputs": [
    {
     "data": {
      "text/plain": [
       "LlamaTokenizerFast(name_or_path='mistralai/Mixtral-8x7B-Instruct-v0.1', vocab_size=32000, model_max_length=1000000000000000019884624838656, is_fast=True, padding_side='left', truncation_side='right', special_tokens={'bos_token': '<s>', 'eos_token': '</s>', 'unk_token': '<unk>'}, clean_up_tokenization_spaces=False),  added_tokens_decoder={\n",
       "\t0: AddedToken(\"<unk>\", rstrip=False, lstrip=False, single_word=False, normalized=False, special=True),\n",
       "\t1: AddedToken(\"<s>\", rstrip=False, lstrip=False, single_word=False, normalized=False, special=True),\n",
       "\t2: AddedToken(\"</s>\", rstrip=False, lstrip=False, single_word=False, normalized=False, special=True),\n",
       "}"
      ]
     },
     "execution_count": 8,
     "metadata": {},
     "output_type": "execute_result"
    }
   ],
   "source": [
    "tokenizer"
   ]
  },
  {
   "cell_type": "code",
   "execution_count": 9,
   "metadata": {},
   "outputs": [],
   "source": [
    "INST_START_TOKEN = \"[INST]\"\n",
    "INST_END_TOKEN = \"[/INST]\"\n",
    "NAV_START_TAG = \"[NAV]\"\n",
    "NAV_END_TAG = \"[/NAV]\"\n",
    "NL = \"\\n\"\n",
    "LANGUAGE = \"English\"\n",
    "REASON_START_TAG = \"[REASON]\"\n",
    "REASON_END_TAG = \"[/REASON]\"\n",
    "NUM_INSTRUCTIONS = 9\n",
    "BOS_TOKEN = \"<s>\""
   ]
  },
  {
   "cell_type": "code",
   "execution_count": 32,
   "metadata": {},
   "outputs": [],
   "source": [
    "CUTOFF_LEN = 2048\n",
    "\n",
    "\n",
    "assert tokenizer.bos_token == BOS_TOKEN\n",
    "EOS_TOKEN = \"</s>\"\n",
    "assert tokenizer.eos_token == EOS_TOKEN\n",
    "\n",
    "\"\"\"\n",
    "There is a lot of important config here that fix_tokenizer will set up. IN the end it \n",
    "will be like:\n",
    "\n",
    "LlamaTokenizerFast(name_or_path='mistralai/Mixtral-8x7B-Instruct-v0.1', \n",
    "    vocab_size=32000, \n",
    "    model_max_length=1000000000000000019884624838656,\n",
    "    is_fast=True, \n",
    "    padding_side='left', \n",
    "    truncation_side='right', \n",
    "    special_tokens={\n",
    "        'bos_token': '<s>', \n",
    "        'eos_token': '</s>', \n",
    "        'unk_token': '<unk>', \n",
    "        'pad_token': '[PAD]', \n",
    "        'additional_special_tokens': ['[INST]', '[/INST]', '[NAV]', '[/NAV]', '[REASON]', '[/REASON]']\n",
    "    }, \n",
    "    clean_up_tokenization_spaces=False),  \n",
    "    added_tokens_decoder={\n",
    "            0: AddedToken(\"<unk>\", rstrip=False, lstrip=False, single_word=False, normalized=False, special=True),\n",
    "            1: AddedToken(\"<s>\", rstrip=False, lstrip=False, single_word=False, normalized=False, special=True),\n",
    "            2: AddedToken(\"</s>\", rstrip=False, lstrip=False, single_word=False, normalized=False, special=True),\n",
    "            32000: AddedToken(\"[INST]\", rstrip=False, lstrip=False, single_word=False, normalized=False, special=True),\n",
    "            32001: AddedToken(\"[/INST]\", rstrip=False, lstrip=False, single_word=False, normalized=False, special=True),\n",
    "            32000: AddedToken(\"[INST]\", rstrip=False, lstrip=False, single_word=False, normalized=False, special=True),\n",
    "            32001: AddedToken(\"[/INST]\", rstrip=False, lstrip=False, single_word=False, normalized=False, special=True),\n",
    "            32002: AddedToken(\"[NAV]\", rstrip=False, lstrip=False, single_word=False, normalized=False, special=True),\n",
    "            32003: AddedToken(\"[/NAV]\", rstrip=False, lstrip=False, single_word=False, normalized=False, special=True),\n",
    "            32004: AddedToken(\"[REASON]\", rstrip=False, lstrip=False, single_word=False, normalized=False, special=True),\n",
    "            32005: AddedToken(\"[/REASON]\", rstrip=False, lstrip=False, single_word=False, normalized=False, special=True),\n",
    "    }\n",
    "\"\"\"\n",
    "\n",
    "\n",
    "def fix_tokenizer(tokenizer):\n",
    "    tokenizer.pad_token = \"[PAD]\"\n",
    "    # https://huggingface.co/docs/transformers/en/pad_truncation#padding-and-truncation\n",
    "    # NOTE: special tokens added by default, padding si\n",
    "    tokenize = lambda prompt: tokenizer(\n",
    "        prompt,\n",
    "        truncation=True,\n",
    "        max_length=CUTOFF_LEN,\n",
    "        padding=\"max_length\",\n",
    "        # THIS IS IMPORTANT for calling the base tokenizer's build_inputs_with_special_tokens as\n",
    "        # explained https://huggingface.co/docs/transformers/v4.40.0/en/internal/tokenization_utils#transformers.PreTrainedTokenizerBase.__call__\n",
    "        # We already add it in the prompt preparation so we don't want to add it twice.\n",
    "        add_special_tokens=False,\n",
    "    )\n",
    "\n",
    "    special_tokens_dict = {\n",
    "        \"additional_special_tokens\": [\n",
    "            # INST_START_TOKEN,\n",
    "            # INST_END_TOKEN,\n",
    "            NAV_START_TAG,\n",
    "            NAV_END_TAG,\n",
    "            REASON_START_TAG,\n",
    "            REASON_END_TAG,\n",
    "        ]\n",
    "    }\n",
    "    # tokenizer.add_special_tokens(special_tokens_dict)\n",
    "\n",
    "    return tokenize\n",
    "\n",
    "\n",
    "def generate_train_prompt(user_query):\n",
    "    sys_msg = \"Given the text from a Walking tour book describing a specific route through the city of London, extract parts of the text that describe specific navigation instructions in it using {NAV_START_TAG} and {NAV_END_TAG} tags as well as the reason tags:  {REASON_START_TAG} and {REASON_END_TAG}:as shown in the examples that follow:\"\n",
    "    p = (\n",
    "        f\"{BOS_TOKEN} {INST_START_TOKEN} \"\n",
    "        + sys_msg\n",
    "        + \"\\n\"\n",
    "        + user_query[\"chunk\"].strip()\n",
    "        + f\" {INST_END_TOKEN} \"\n",
    "        + user_query[\"navs\"].strip()\n",
    "        + f\" {EOS_TOKEN}\"\n",
    "    )\n",
    "    return p\n",
    "\n",
    "\n",
    "def generate_test_prompt(user_query, sys_msg):\n",
    "    p = (\n",
    "        f\"{BOS_TOKEN} {INST_START_TOKEN} \"\n",
    "        + sys_msg\n",
    "        + \"\\n\"\n",
    "        + user_query[\"chunk\"].strip()\n",
    "        + f\" {INST_END_TOKEN} \"\n",
    "    )\n",
    "    return p\n",
    "\n",
    "\n",
    "tokenize = fix_tokenizer(tokenizer)"
   ]
  },
  {
   "cell_type": "code",
   "execution_count": 33,
   "metadata": {},
   "outputs": [
    {
     "data": {
      "text/plain": [
       "{'bos_token': '<s>',\n",
       " 'eos_token': '</s>',\n",
       " 'unk_token': '<unk>',\n",
       " 'pad_token': '[PAD]'}"
      ]
     },
     "execution_count": 33,
     "metadata": {},
     "output_type": "execute_result"
    }
   ],
   "source": [
    "tokenizer.special_tokens_map"
   ]
  },
  {
   "cell_type": "markdown",
   "metadata": {},
   "source": [
    "# The prompt"
   ]
  },
  {
   "cell_type": "code",
   "execution_count": 34,
   "metadata": {},
   "outputs": [],
   "source": [
    "NAV_TYPES = (\n",
    "    \"\"\"\n",
    "T1. Navigation instructions always imply to walk one way or another with phrases.\n",
    "\n",
    "One example of T1\n",
    "```\n",
    "One of the more charming sections stands round the corner from Tooley Street, in St Thomas Street and Crucifix Lane.\n",
    "```\n",
    "Another example is:\n",
    "```\n",
    "Fitting, then, that at the time the neighbouring 191 Bermondsey Street was the rectory for St Mary Magdalen church, which stands a little down the road.\n",
    "```\n",
    "\n",
    "\"\"\",\n",
    "    \"\"\"\n",
    "T2. Navigation instructions are of different lengths and range over several\n",
    "sentences. Make sure you capture the entirity of these sentence within the `Nav\n",
    "Tags`.\n",
    "\"\"\",\n",
    "    \"\"\"\n",
    "T4. Often the instructions mix North, South East, West along with the other Types. These are valid and should be included in the `Nav Tags`. \n",
    "\n",
    "An example is:\n",
    "```\n",
    "From the south-western end of Shad Thames, go west along Tooley Street and cross Tower Bridge Road.\n",
    "```\n",
    "\"\"\",\n",
    "    \"\"\"\n",
    "T5. Often the instructions include traveling across other streets, buildings or\n",
    "junctions. These should be included in the `Nav Tags`. An example is:\n",
    "```\n",
    "Leave the churchyard by the gate on Abbey Street, which runs perpendicular to Bermondsey Street.\n",
    "```\n",
    "\"\"\",\n",
    "    \"\"\"\n",
    "\n",
    "T3. *If and ONLY if* you find a valid navigation in T1,2,4,5,6 above, you may have a visual markers or features specified with the navigation instructions that can help a user but are useless in of themselves. Include these in those `Nav Tags`.\n",
    "\n",
    "So an example of combination of T2 and T3:\n",
    "```\n",
    "The route to take, though, is the thoroughfare that intersects with Wheler\n",
    "Street.  This is Quaker Street.  On the north side is a row of gabled former\n",
    "railway warehouses dating from the late nineteenth century and now gutted and\n",
    "being converted into an economy hotel; on the south side is an early\n",
    "twentieth-century block of industrial dwellings, portions of the former Truman’s\n",
    "Brewery, and a large interwar public-housing block named Wheler House.\n",
    "```\n",
    "The `gabled former railway warehouses dating from the late nineteenth century and now gutted and\n",
    "being converted into an economy hotel` is the snippet that is a visual marker and should be included in the `Nav Tag`.\n",
    "\n",
    "\"\"\",\n",
    ")\n",
    "START_TAG = \"[NAV]\"\n",
    "END_TAG = \"[/NAV]\"\n",
    "NUM_TYPES = len(NAV_TYPES)\n",
    "NL = \"\\n\"\n",
    "LANGUAGE = \"English\"\n",
    "REASON_START_TAG = \"[REASON]\"\n",
    "REASON_END_TAG = \"[/REASON]\"\n",
    "NUM_INSTRUCTIONS = 9\n",
    "EXAMPLES = [\n",
    "    f\"\"\"\n",
    "    Example 1:\n",
    "    ```\n",
    "    From the south-western end of Shad Thames, go west along Tooley Street and cross\n",
    "    Tower Bridge Road. This portion of the walk takes us through the mercantile hub\n",
    "    of Victorian Bermondsey – from London Bridge station, via the warehouses of\n",
    "    Bermondsey Street district, to the centre of London’s leather industry. Our\n",
    "    first port of call is the doleful wastes of Potters Field Park, now a windswept\n",
    "    and unlovely public space including a somewhat trampled lawn and ‘amphitheatre’.\n",
    "\n",
    "    ```\n",
    "\n",
    "    Output 1:\n",
    "    ```\n",
    "    {START_TAG}From the south-western end of Shad Thames, go west along Tooley Street and cross\n",
    "    Tower Bridge Road.{END_TAG}  \n",
    "    {REASON_START_TAG} The annotation was done  because it seems to have directions (N, S, E, W) and T5 as well where \"cross Tower Bridge\" follows the pattern of crossing a street. {REASON_END_TAG}\n",
    "    {START_TAG} Our first port of call is the doleful wastes of Potters Field Park, {END_TAG} \n",
    "    {REASON_START_TAG}  The  annotation was done because it has an implicit walk direction to follow and stop at Potters field. {REASON_END_TAG}\n",
    "    ```\n",
    "    Note how the each NAV tag was followed by its REASON tag.\n",
    "    Note that the second sentence in the Example 1: above:\n",
    "        > This portion of the walk takes us through the mercantile hub\n",
    "        of Victorian Bermondsey – from London Bridge station, via the \n",
    "        warehouses of Bermondsey Street district, to the centre of London’s leather industry.\n",
    "\n",
    "    does not follow type T3 close enough and thus does not have the `Nav Tags`. \n",
    "    \"\"\",\n",
    "    f\"\"\"\n",
    "    Example 2:\n",
    "    ```\n",
    "    Walk south-west along More London Place, a geometrical and not unpleasing sliver\n",
    "    of a passage, which leads back to Tooley Street and the remains of a more\n",
    "    vigorous and muscular world. Tooley Street was a great mercantile thoroughfare\n",
    "    in the nineteenth century, lined with ware-houses, offices and railway\n",
    "    structures related to London Bridge station which sits, at high level,\n",
    "    immediately to its south.\n",
    "    ```\n",
    "    Output 2:\n",
    "    ```\n",
    "    {START_TAG}Walk south-west along More London Place, a geometrical and not unpleasing sliver\n",
    "    of a passage, which leads back to Tooley Street and the remains of a more\n",
    "    vigorous and muscular world.{END_TAG}\n",
    "    {REASON_START_TAG} This was annotated because it asks you to walk south-west towards tooly steet and \n",
    "    there is also a visual feature: `unpleasing sliver of a passage`  to guide you there{REASON_END_TAG}\n",
    "    ```\n",
    "    Note that sentence 2 in the Example text is not telling you how to get to Tooley Street but instead is descibing something about offices\n",
    "    and railway structures and the London Bridge station; Even though it says \"immediately to its south.\" its something to \n",
    "    be seen but not a navigation instruction.\n",
    "\"\"\",\n",
    "]\n",
    "\n",
    "NEGATIVE_EXAMPLES = [\n",
    "    # Examples that will have no valid `Nav Tags`, May or may not need to be included.\n",
    "    f\"\"\"\n",
    "\n",
    "    Example text 1:\n",
    "    ```\n",
    "    When faced with a bomb packed with explosives, the relatively thin brickwork is\n",
    "    horribly vulnerable and easily penetrated; on the night of 25 October 1940,\n",
    "    during the Blitz, a bomb crashed through the roof a little to the east of this\n",
    "    spot, at the intersection of Tanner Street and Druid Street. Seventy-seven of\n",
    "    the people sheltering inside were killed.\n",
    "    ```\n",
    "    \"\"\",\n",
    "    f\"\"\"\n",
    "\n",
    "    Example text 2: \n",
    "    ```\n",
    "    Samuel Beazley, born 1786, was one of the most famed and productive individuals\n",
    "    in London theatre, writing nearly a hundred plays and designing and enlarging a\n",
    "    number of theatres, including two notable structures of the 1830s: the long-lost\n",
    "    neoclassical City of London Theatre in Norton Folgate, Spitalfields, and the\n",
    "    cast-iron Ionic colonnade that still embellishes the Drury Lane Theatre in\n",
    "    Covent Garden.\n",
    "    ```\n",
    "\n",
    "    In BOTH the above examples the Output is empty because they match no navigation Types in the text satisfying \n",
    "    the T1-T{NUM_TYPES} types mentioned. SKIP TEXT SNIPPETS and don't add delimiters to them.\n",
    "    \"\"\",\n",
    "]\n",
    "\n",
    "PROMPT = f\"\"\"\n",
    "You are an expert at annotating {LANGUAGE} natural language text I give you with tags per my instructions below. \n",
    "\n",
    "\n",
    "# Context\n",
    "I will give you some text from a Walking tour book referring to a specific route through the city of London. \n",
    "The task is to annotate parts of the text that describe specific navigation instructions.\n",
    "\n",
    "\n",
    "# Instructions:\n",
    "I want you to follow these instructions to do this:\n",
    "1. Place a start and end tag {START_TAG}, {END_TAG} delimiting the navigation instruction. lets call these `Nav Tags` for future reference.\n",
    "\n",
    "2.  Below are the Types of navigation tags that you need to use to annotate the text I provide.  The types are defined between the `----` delims for clarity:\n",
    "----\n",
    "{NL.join(NAV_TYPES)}\n",
    "----\n",
    "\n",
    "Lets call them `T1`, `T2`... `TN` for N navigation types - above we have N={NUM_TYPES}  -  I will use these to refer in the examples below.\n",
    "\n",
    "3. The types of navigation instructions are not mutually exclusive. You may find multiple Types(T1-T{NUM_TYPES}) in a single navigation instruction.\n",
    "\n",
    "4. If the text only talks about a place but not how to get there or what to do there, it is not a navigation instruction and should not be annotated.\n",
    "\n",
    "5. There are likely several of `Nav Tags` in the text so try your best to find them all.\n",
    "\n",
    "6. Output the EXACT text that is between the `Nav Tags` including any punctuation, capitalization, and line breaks. DO NOT SUMMARIZE IT.\n",
    "\n",
    "7. You MUST include a reason for each `Nav Tag` in the response be one of the {NUM_TYPES} types of navigation instructions and that the text between the `Nav Tags` satisfies that criteria.\n",
    "\n",
    "8. Make sure each NAV tag delimited text is followed by its individual REASON tag. So if you output, say, N {START_TAG}...{END_TAG} pairs you should have N {REASON_START_TAG}...{REASON_END_TAG} pairs as well.\n",
    "\n",
    "9. When you phrase the reason text don't mention T1, T2.. T{NUM_TYPES} instead just expand those reasons inline.\n",
    "\n",
    "Make sure 200% that you follow **all** the {NUM_INSTRUCTIONS} instructions above to the letter. \n",
    "\n",
    "\n",
    " # Examples:\n",
    "    Here are two examples of the text I will provide and the expected output and some exaplanation. \n",
    "    Note that the below examples and the outpouts are surrounded by ``` delimiters and the rest is clarifications:\n",
    "===============START SECTION OF INPUT EXAMPLES AND EXPECTED OUTPUT====================\n",
    " {NL.join(EXAMPLES)}\n",
    "===============END SECTION OF INPUT EXAMPLES AND EXPECTED OUTPUT====================\n",
    "# Given the above annotated the following text\n",
    "{{PASSAGE}}\n",
    "\n",
    "\"\"\""
   ]
  },
  {
   "cell_type": "code",
   "execution_count": null,
   "metadata": {},
   "outputs": [],
   "source": []
  },
  {
   "cell_type": "markdown",
   "metadata": {},
   "source": [
    "## Lets make sure we can encode a test sentence and decode it back the way we want it."
   ]
  },
  {
   "cell_type": "code",
   "execution_count": null,
   "metadata": {},
   "outputs": [],
   "source": []
  },
  {
   "cell_type": "code",
   "execution_count": 21,
   "metadata": {},
   "outputs": [
    {
     "name": "stdout",
     "output_type": "stream",
     "text": [
      "<s> [INST] Ssystem prompt\n",
      "Test me [/INST] \n",
      "# tokens with padded ids 2048\n",
      "tensor([    1, 28705,   733, 16289, 28793,   318,  6574, 11510,    13,  1963,\n",
      "          528,   733, 28748, 16289, 28793, 28705])\n",
      ".\n",
      "<s>  [INST] Ssystem prompt\n",
      "Test me [/INST] \n"
     ]
    }
   ],
   "source": [
    "test_prompt = generate_test_prompt(\n",
    "    {\n",
    "        \"chunk\": \"Test me\",\n",
    "        \"navs\": f\"{NAV_START_TAG} test nav {NAV_END_TAG}{REASON_START_TAG} some reason {REASON_END_TAG}\",\n",
    "    },\n",
    "    \"Ssystem prompt\",\n",
    ")\n",
    "print(test_prompt)\n",
    "test_tokens = tokenize(test_prompt)\n",
    "print(f\"# tokens with padded ids {len(test_tokens['input_ids'])}\")\n",
    "input_ids = torch.tensor(test_tokens[\"input_ids\"])\n",
    "attn_mask = torch.tensor(test_tokens[\"attention_mask\"])\n",
    "\n",
    "unmasked_text = torch.masked_select(input_ids, attn_mask.bool())\n",
    "print(unmasked_text)\n",
    "# Now lets decode the text\n",
    "print(\".\")\n",
    "print(tokenizer.decode(unmasked_text, add_special_tokens=False))"
   ]
  },
  {
   "cell_type": "code",
   "execution_count": 22,
   "metadata": {},
   "outputs": [
    {
     "name": "stdout",
     "output_type": "stream",
     "text": [
      "<s> [INST] System Prompt\n",
      "Test me [/INST] \n",
      "# tokens with padded ids 2048\n",
      "tensor([    1, 28705,   733, 16289, 28793,  2135, 12948,   447,    13,  1963,\n",
      "          528,   733, 28748, 16289, 28793, 28705])\n",
      ".\n",
      "<s>  [INST] System Prompt\n",
      "Test me [/INST] \n"
     ]
    }
   ],
   "source": [
    "# Now for test tokenization\n",
    "test_prompt = generate_test_prompt(\n",
    "    {\n",
    "        \"chunk\": \"Test me\",\n",
    "    },\n",
    "    \"System Prompt\",\n",
    ")\n",
    "print(test_prompt)\n",
    "test_tokens = tokenize(test_prompt)\n",
    "print(f\"# tokens with padded ids {len(test_tokens['input_ids'])}\")\n",
    "input_ids = torch.tensor(test_tokens[\"input_ids\"])\n",
    "attn_mask = torch.tensor(test_tokens[\"attention_mask\"])\n",
    "\n",
    "unmasked_text = torch.masked_select(input_ids, attn_mask.bool())\n",
    "print(unmasked_text)\n",
    "# Now lets decode the text\n",
    "print(\".\")\n",
    "print(tokenizer.decode(unmasked_text, add_special_tokens=False))"
   ]
  },
  {
   "cell_type": "markdown",
   "metadata": {},
   "source": [
    "# Load the dataset for walking tours"
   ]
  },
  {
   "cell_type": "code",
   "execution_count": 22,
   "metadata": {},
   "outputs": [
    {
     "data": {
      "text/plain": [
       "({'chunk': 'Our route starts at the south side of Victoria Park, at Bonner Hall Bridge – best accessed by getting the Tube to Bethnal Green, a ten-minute walk away. The first portion of this route offers clues about the nature of east London before the arrival of the Regent’s Canal, taking in several buildings that predate the waterways, and whose fates were inexorably changed by its arrival. Before moving on, take a moment to reflect on Victoria Park. In the eighteenth century, this was all open pasture, interspersed with the odd brick kiln and market garden. The one notable feature was Bonner Hall, so called after the sixteenth-century bishop of London Edmund Bonner. All this was to change in the nineteenth century. As London expanded, calls for public parks grew; in 1840, Queen Victoria was presented with a petition signed by 30,000 residents. The Crown estate purchased 218 acres in the area and, over the next few years, converted it into Victoria Park. The park shares a family resemblance to Regent’s Park at the other end of the Regent’s Canal – no doubt down to the fact that its designer, James Pennethorne, was a protégé of none other than John Nash.6 The view south-east from Victoria Park’s Bonner Gate. When I first knew the park – many years ago – it was a fairly rough place. In particular the Pavilion Café, a few hundred metres to the east of Bonner Hall Bridge, was a grisly affair, best avoided unless one wanted to experience the stark reality of East End cuisine. Now, like many in east London, it has transformed into one of the best cafés mentioned in this book. It makes a splendid place to begin the walk if you’re in need of a bite to eat or drink. For those ready to plunge into Georgian industrial architecture, however, it is best to walk to the western end of the park and through the canal gate on to the towpath. Here, one can begin to imagine the feel of the canal in its early days: the canal side adjoining Victoria Park is used as moorings for barges, mostly residential, while across the waterway (which, as is usual, has a towpath – intended for the horses required to tow barges – generally on only one side) are',\n",
       "  'navs': '[NAV] Our route starts at the south side of Victoria Park, at Bonner Hall Bridge – best accessed by getting the Tube to Bethnal Green, a ten-minute walk away. [/NAV] [REASON] This was annotated because it provides specific instructions on where to start the route and how to get there, implying a direction to walk. [/REASON] [NAV] For those ready to plunge into Georgian industrial architecture, however, it is best to walk to the western end of the park and through the canal gate on to the towpath. [/NAV] [REASON] This was annotated because it provides specific instructions on where to walk next, indicating a direction to follow. [/REASON] '},\n",
       " {'chunk': 'This walk starts at one of the most famous landmarks in Britain: Tower Bridge. This bridge is a rare thing – a much-admired structure of great character, even though it was forged through endless committee meetings, compromise, contradiction, uncertainty and a fair degree of absurdity. It has a story worth considering at some length as you ascend from Tower Hill tube and stroll south across the bridge. The tale starts in the mid 1870s, when it was argued that a river crossing to the east of London Bridge would both improve communications in the City and, by providing direct access to industry on the south bank, increase the commercial potential of the docks on the north. There was, for practical reasons, only one site possible – a strip of land just east of the Tower of London – and a competition to find a suitable design was held. This was supervised by the City of London Corporation, which grabbed the initiative to build the new bridge. There was one key stipulation. It was not to block the access of tall-masted cargo ships to the wharves at the Pool of London, immediately to the west of the tower. To protect navigation the span of the proposed bridge had to be either incredibly high or it would have to open in some way to allow ships to pass through. Over fifty detailed designs were submitted. Most were weird and wonderful, including a swing bridge, a ‘roller’ bridge incorporating steam-operated sections that rolled from pier to pier, and a high-level bridge. All offered more or less workable solutions – some more expensive and complex than others – but all would visually overpower the historic tower and its setting. Many thought this far from desirable. Debate raged and two distinct interest groups emerged, each of which believed it should be responsible for the design and construction of the new bridge. There was the City Corporation, which had organised the competition and believed the proposed bridge was its responsibility. The City did, after all, begin just to the west of the site, and it had the funds to see the works to completion. They were to come from the City’s Bridge House estate, a body established in the early',\n",
       "  'navs': ' [NAV] This walk starts at one of the most famous landmarks in Britain: Tower Bridge. [/NAV] [REASON] This was annotated because it gives an implicit direction to start the walk at Tower Bridge. [/REASON] [NAV] ascend from Tower Hill tube and stroll south across the bridge. [/NAV] [REASON] This was annotated because it gives explicit directions to ascend from Tower Hill tube and stroll south across the bridge. [/REASON] [NAV] There was, for practical reasons, only one site possible – a strip of land just east of the Tower of London – [/NAV] [REASON] This was annotated because it gives an implicit direction to a specific location east of the Tower of London. [/REASON]'})"
      ]
     },
     "execution_count": 22,
     "metadata": {},
     "output_type": "execute_result"
    }
   ],
   "source": [
    "import json\n",
    "\n",
    "serialized_data_gpt_four = json.load(open(\"./gpt_four_annotations.json\"))\n",
    "serialized_data_gpt_four_test = json.load(\n",
    "    open(\"./gpt_four_annotations_test.json\")\n",
    ")\n",
    "serialized_data_gpt_four[0], serialized_data_gpt_four_test[0]"
   ]
  },
  {
   "cell_type": "code",
   "execution_count": 23,
   "metadata": {},
   "outputs": [],
   "source": [
    "def generate_baselining_prompt(sys_msg, user_query):\n",
    "    p = (\n",
    "        f\"{BOS_TOKEN} {INST_START_TOKEN} \"\n",
    "        + sys_msg.format(PASSAGE=user_query.strip())\n",
    "        + f\" {INST_END_TOKEN} \"\n",
    "    )\n",
    "    return p"
   ]
  },
  {
   "cell_type": "markdown",
   "metadata": {},
   "source": [
    "1. Create some passages with the prompt above as demonstration: Add INST tags to it.\n",
    "\n",
    "Chat template: ```<s>[INST] Instruction [/INST] Model answer</s>[INST] Follow-up instruction [/INST]```\n",
    "\n",
    "My prompt would be ```<s> [INST] SYSTEM_PROMPT(all the examples everything) and an example passage.[/INST]```\n",
    "\n",
    "2. Lets test that."
   ]
  },
  {
   "cell_type": "code",
   "execution_count": 24,
   "metadata": {},
   "outputs": [
    {
     "name": "stdout",
     "output_type": "stream",
     "text": [
      "<s> [INST] \n",
      "You are an expert at annotating English natural language text I give you with tags per my instructions below. \n",
      "\n",
      "\n",
      "# Context\n",
      "I will give you some text from a Walking tour book referring to a specific route through the city of London. \n",
      "The task is to annotate parts of the text that describe specific navigation instructions.\n",
      "\n",
      "\n",
      "# Instructions:\n",
      "I want you to follow these instructions to do this:\n",
      "1. Place a start and end tag [NAV], [/NAV] delimiting the navigation instruction. lets call these `Nav Tags` for future reference.\n",
      "\n",
      "2.  Below are the Types of navigation tags that you need to use to annotate the text I provide.  The types are defined between the `----` delims for clarity:\n",
      "----\n",
      "\n",
      "T1. Navigation instructions always imply to walk one way or another with phrases.\n",
      "\n",
      "One example of T1\n",
      "```\n",
      "One of the more charming sections stands round the corner from Tooley Street, in St Thomas Street and Crucifix Lane.\n",
      "```\n",
      "Another example is:\n",
      "```\n",
      "Fitting, then, that at the time the neighbouring 191 Bermondsey Street was the rectory for St Mary Magdalen church, which stands a little down the road.\n",
      "```\n",
      "\n",
      "\n",
      "\n",
      "T2. Navigation instructions are of different lengths and range over several\n",
      "sentences. Make sure you capture the entirity of these sentence within the `Nav\n",
      "Tags`.\n",
      "\n",
      "\n",
      "T4. Often the instructions mix North, South East, West along with the other Types. These are valid and should be included in the `Nav Tags`. \n",
      "\n",
      "An example is:\n",
      "```\n",
      "From the south-western end of Shad Thames, go west along Tooley Street and cross Tower Bridge Road.\n",
      "```\n",
      "\n",
      "\n",
      "T5. Often the instructions include traveling across other streets, buildings or\n",
      "junctions. These should be included in the `Nav Tags`. An example is:\n",
      "```\n",
      "Leave the churchyard by the gate on Abbey Street, which runs perpendicular to Bermondsey Street.\n",
      "```\n",
      "\n",
      "\n",
      "\n",
      "T3. *If and ONLY if* you find a valid navigation in T1,2,4,5,6 above, you may have a visual markers or features specified with the navigation instructions that can help a user but are useless in of themselves. Include these in those `Nav Tags`.\n",
      "\n",
      "So an example of combination of T2 and T3:\n",
      "```\n",
      "The route to take, though, is the thoroughfare that intersects with Wheler\n",
      "Street.  This is Quaker Street.  On the north side is a row of gabled former\n",
      "railway warehouses dating from the late nineteenth century and now gutted and\n",
      "being converted into an economy hotel; on the south side is an early\n",
      "twentieth-century block of industrial dwellings, portions of the former Truman’s\n",
      "Brewery, and a large interwar public-housing block named Wheler House.\n",
      "```\n",
      "The `gabled former railway warehouses dating from the late nineteenth century and now gutted and\n",
      "being converted into an economy hotel` is the snippet that is a visual marker and should be included in the `Nav Tag`.\n",
      "\n",
      "\n",
      "----\n",
      "\n",
      "Lets call them `T1`, `T2`... `TN` for N navigation types - above we have N=5  -  I will use these to refer in the examples below.\n",
      "\n",
      "3. The types of navigation instructions are not mutually exclusive. You may find multiple Types(T1-T5) in a single navigation instruction.\n",
      "\n",
      "4. If the text only talks about a place but not how to get there or what to do there, it is not a navigation instruction and should not be annotated.\n",
      "\n",
      "5. There are likely several of `Nav Tags` in the text so try your best to find them all.\n",
      "\n",
      "6. Output the EXACT text that is between the `Nav Tags` including any punctuation, capitalization, and line breaks. DO NOT SUMMARIZE IT.\n",
      "\n",
      "7. You MUST include a reason for each `Nav Tag` in the response be one of the 5 types of navigation instructions and that the text between the `Nav Tags` satisfies that criteria.\n",
      "\n",
      "8. Make sure each NAV tag delimited text is followed by its individual REASON tag. So if you output, say, N [NAV]...[/NAV] pairs you should have N [REASON]...[/REASON] pairs as well.\n",
      "\n",
      "9. When you phrase the reason text don't mention T1, T2.. T5 instead just expand those reasons inline.\n",
      "\n",
      "Make sure 200% that you follow **all** the 9 instructions above to the letter. \n",
      "\n",
      "\n",
      " # Examples:\n",
      "    Here are two examples of the text I will provide and the expected output and some exaplanation. \n",
      "    Note that the below examples and the outpouts are surrounded by ``` delimiters and the rest is clarifications:\n",
      "===============START SECTION OF INPUT EXAMPLES AND EXPECTED OUTPUT====================\n",
      " \n",
      "    Example 1:\n",
      "    ```\n",
      "    From the south-western end of Shad Thames, go west along Tooley Street and cross\n",
      "    Tower Bridge Road. This portion of the walk takes us through the mercantile hub\n",
      "    of Victorian Bermondsey – from London Bridge station, via the warehouses of\n",
      "    Bermondsey Street district, to the centre of London’s leather industry. Our\n",
      "    first port of call is the doleful wastes of Potters Field Park, now a windswept\n",
      "    and unlovely public space including a somewhat trampled lawn and ‘amphitheatre’.\n",
      "\n",
      "    ```\n",
      "\n",
      "    Output 1:\n",
      "    ```\n",
      "    [NAV]From the south-western end of Shad Thames, go west along Tooley Street and cross\n",
      "    Tower Bridge Road.[/NAV]  \n",
      "    [REASON] The annotation was done  because it seems to have directions (N, S, E, W) and T5 as well where \"cross Tower Bridge\" follows the pattern of crossing a street. [/REASON]\n",
      "    [NAV] Our first port of call is the doleful wastes of Potters Field Park, [/NAV] \n",
      "    [REASON]  The  annotation was done because it has an implicit walk direction to follow and stop at Potters field. [/REASON]\n",
      "    ```\n",
      "    Note how the each NAV tag was followed by its REASON tag.\n",
      "    Note that the second sentence in the Example 1: above:\n",
      "        > This portion of the walk takes us through the mercantile hub\n",
      "        of Victorian Bermondsey – from London Bridge station, via the \n",
      "        warehouses of Bermondsey Street district, to the centre of London’s leather industry.\n",
      "\n",
      "    does not follow type T3 close enough and thus does not have the `Nav Tags`. \n",
      "    \n",
      "\n",
      "    Example 2:\n",
      "    ```\n",
      "    Walk south-west along More London Place, a geometrical and not unpleasing sliver\n",
      "    of a passage, which leads back to Tooley Street and the remains of a more\n",
      "    vigorous and muscular world. Tooley Street was a great mercantile thoroughfare\n",
      "    in the nineteenth century, lined with ware-houses, offices and railway\n",
      "    structures related to London Bridge station which sits, at high level,\n",
      "    immediately to its south.\n",
      "    ```\n",
      "    Output 2:\n",
      "    ```\n",
      "    [NAV]Walk south-west along More London Place, a geometrical and not unpleasing sliver\n",
      "    of a passage, which leads back to Tooley Street and the remains of a more\n",
      "    vigorous and muscular world.[/NAV]\n",
      "    [REASON] This was annotated because it asks you to walk south-west towards tooly steet and \n",
      "    there is also a visual feature: `unpleasing sliver of a passage`  to guide you there[/REASON]\n",
      "    ```\n",
      "    Note that sentence 2 in the Example text is not telling you how to get to Tooley Street but instead is descibing something about offices\n",
      "    and railway structures and the London Bridge station; Even though it says \"immediately to its south.\" its something to \n",
      "    be seen but not a navigation instruction.\n",
      "\n",
      "===============END SECTION OF INPUT EXAMPLES AND EXPECTED OUTPUT====================\n",
      "# Given the above annotated the following text\n",
      "Our route starts at the south side of Victoria Park, at Bonner Hall Bridge – best accessed by getting the Tube to Bethnal Green, a ten-minute walk away. The first portion of this route offers clues about the nature of east London before the arrival of the Regent’s Canal, taking in several buildings that predate the waterways, and whose fates were inexorably changed by its arrival. Before moving on, take a moment to reflect on Victoria Park. In the eighteenth century, this was all open pasture, interspersed with the odd brick kiln and market garden. The one notable feature was Bonner Hall, so called after the sixteenth-century bishop of London Edmund Bonner. All this was to change in the nineteenth century. As London expanded, calls for public parks grew; in 1840, Queen Victoria was presented with a petition signed by 30,000 residents. The Crown estate purchased 218 acres in the area and, over the next few years, converted it into Victoria Park. The park shares a family resemblance to Regent’s Park at the other end of the Regent’s Canal – no doubt down to the fact that its designer, James Pennethorne, was a protégé of none other than John Nash.6 The view south-east from Victoria Park’s Bonner Gate. When I first knew the park – many years ago – it was a fairly rough place. In particular the Pavilion Café, a few hundred metres to the east of Bonner Hall Bridge, was a grisly affair, best avoided unless one wanted to experience the stark reality of East End cuisine. Now, like many in east London, it has transformed into one of the best cafés mentioned in this book. It makes a splendid place to begin the walk if you’re in need of a bite to eat or drink. For those ready to plunge into Georgian industrial architecture, however, it is best to walk to the western end of the park and through the canal gate on to the towpath. Here, one can begin to imagine the feel of the canal in its early days: the canal side adjoining Victoria Park is used as moorings for barges, mostly residential, while across the waterway (which, as is usual, has a towpath – intended for the horses required to tow barges – generally on only one side) are\n",
      "\n",
      " [/INST] \n"
     ]
    }
   ],
   "source": [
    "# Using the prompt as a system message we want to see how well mistral can performn on a few test passages I have\n",
    "baseline_example1 = generate_baselining_prompt(\n",
    "    PROMPT, serialized_data_gpt_four[0][\"chunk\"]\n",
    ")  # answer is serialized_data_gpt_four[0]['navs']\n",
    "print(baseline_example1)"
   ]
  },
  {
   "cell_type": "code",
   "execution_count": 14,
   "metadata": {},
   "outputs": [
    {
     "data": {
      "text/plain": [
       "673"
      ]
     },
     "execution_count": 14,
     "metadata": {},
     "output_type": "execute_result"
    }
   ],
   "source": [
    "max(\n",
    "    [\n",
    "        len(s[\"chunk\"].strip().split()) + len(s[\"navs\"].strip().split())\n",
    "        for s in serialized_data_gpt_four\n",
    "    ]\n",
    ")"
   ]
  },
  {
   "cell_type": "markdown",
   "metadata": {},
   "source": [
    "# Create the model\n",
    "[ ] Train for a bit on this dataset\n",
    "[ ] Save the model.\n",
    "[ ] Test on some canned held out data from bermondsey street"
   ]
  },
  {
   "cell_type": "code",
   "execution_count": 15,
   "metadata": {},
   "outputs": [],
   "source": [
    "# del model\n",
    "# del trainer\n",
    "import gc\n",
    "\n",
    "gc.collect()\n",
    "torch.cuda.empty_cache()"
   ]
  },
  {
   "cell_type": "code",
   "execution_count": 16,
   "metadata": {},
   "outputs": [],
   "source": [
    "model_save_dir = project_path / \"mixtral-moe-lora-instruct-walking-tour-london\""
   ]
  },
  {
   "cell_type": "code",
   "execution_count": 17,
   "metadata": {},
   "outputs": [
    {
     "data": {
      "text/plain": [
       "PosixPath('/workspace/mlx-week7/mixtral-moe-lora-instruct-walking-tour-london')"
      ]
     },
     "execution_count": 17,
     "metadata": {},
     "output_type": "execute_result"
    }
   ],
   "source": [
    "model_save_dir"
   ]
  },
  {
   "cell_type": "markdown",
   "metadata": {},
   "source": [
    "### Change this flag to reload a pretrained model checkpoint."
   ]
  },
  {
   "cell_type": "code",
   "execution_count": 18,
   "metadata": {},
   "outputs": [
    {
     "name": "stderr",
     "output_type": "stream",
     "text": [
      "The `load_in_4bit` and `load_in_8bit` arguments are deprecated and will be removed in the future versions. Please, pass a `BitsAndBytesConfig` object in `quantization_config` argument instead.\n"
     ]
    },
    {
     "data": {
      "application/vnd.jupyter.widget-view+json": {
       "model_id": "e81e42a7dee94c9abfdfc0a90f9051e9",
       "version_major": 2,
       "version_minor": 0
      },
      "text/plain": [
       "Downloading shards:   0%|          | 0/19 [00:00<?, ?it/s]"
      ]
     },
     "metadata": {},
     "output_type": "display_data"
    },
    {
     "data": {
      "application/vnd.jupyter.widget-view+json": {
       "model_id": "e4274602e22f4665abe851470c8195a2",
       "version_major": 2,
       "version_minor": 0
      },
      "text/plain": [
       "Loading checkpoint shards:   0%|          | 0/19 [00:00<?, ?it/s]"
      ]
     },
     "metadata": {},
     "output_type": "display_data"
    }
   ],
   "source": [
    "model = AutoModelForCausalLM.from_pretrained(\n",
    "    \"mistralai/Mixtral-8x7B-Instruct-v0.1\",\n",
    "    load_in_4bit=True,\n",
    "    torch_dtype=torch.float16,\n",
    "    device_map=\"auto\",\n",
    "    cache_dir=str(project_path / \"cache\"),\n",
    ")"
   ]
  },
  {
   "cell_type": "code",
   "execution_count": 25,
   "metadata": {},
   "outputs": [
    {
     "data": {
      "text/plain": [
       "MixtralForCausalLM(\n",
       "  (model): MixtralModel(\n",
       "    (embed_tokens): Embedding(32000, 4096)\n",
       "    (layers): ModuleList(\n",
       "      (0-31): 32 x MixtralDecoderLayer(\n",
       "        (self_attn): MixtralSdpaAttention(\n",
       "          (q_proj): Linear4bit(in_features=4096, out_features=4096, bias=False)\n",
       "          (k_proj): Linear4bit(in_features=4096, out_features=1024, bias=False)\n",
       "          (v_proj): Linear4bit(in_features=4096, out_features=1024, bias=False)\n",
       "          (o_proj): Linear4bit(in_features=4096, out_features=4096, bias=False)\n",
       "          (rotary_emb): MixtralRotaryEmbedding()\n",
       "        )\n",
       "        (block_sparse_moe): MixtralSparseMoeBlock(\n",
       "          (gate): Linear4bit(in_features=4096, out_features=8, bias=False)\n",
       "          (experts): ModuleList(\n",
       "            (0-7): 8 x MixtralBlockSparseTop2MLP(\n",
       "              (w1): Linear4bit(in_features=4096, out_features=14336, bias=False)\n",
       "              (w2): Linear4bit(in_features=14336, out_features=4096, bias=False)\n",
       "              (w3): Linear4bit(in_features=4096, out_features=14336, bias=False)\n",
       "              (act_fn): SiLU()\n",
       "            )\n",
       "          )\n",
       "        )\n",
       "        (input_layernorm): MixtralRMSNorm()\n",
       "        (post_attention_layernorm): MixtralRMSNorm()\n",
       "      )\n",
       "    )\n",
       "    (norm): MixtralRMSNorm()\n",
       "  )\n",
       "  (lm_head): Linear(in_features=4096, out_features=32000, bias=False)\n",
       ")"
      ]
     },
     "execution_count": 25,
     "metadata": {},
     "output_type": "execute_result"
    }
   ],
   "source": [
    "model"
   ]
  },
  {
   "cell_type": "code",
   "execution_count": 40,
   "metadata": {},
   "outputs": [],
   "source": [
    "# Inference \n",
    "encoded_text = tokenizer(baseline_example1, return_tensors=\"pt\", add_special_tokens=False)\n",
    "model_inputs = encoded_text.to(\"cuda\")\n",
    "# model_inputs \n",
    "\n"
   ]
  },
  {
   "cell_type": "code",
   "execution_count": 43,
   "metadata": {},
   "outputs": [
    {
     "name": "stderr",
     "output_type": "stream",
     "text": [
      "/root/miniconda3/envs/mlx-week7/lib/python3.11/site-packages/bitsandbytes/nn/modules.py:426: UserWarning: Input type into Linear4bit is torch.float16, but bnb_4bit_compute_dtype=torch.float32 (default). This will lead to slow inference or training speed.\n",
      "  warnings.warn(\n"
     ]
    }
   ],
   "source": [
    "output = model.generate(**model_inputs,\n",
    "                            max_length=4000,\n",
    "                            use_cache=True,\n",
    "                            early_stopping=True,\n",
    "                            bos_token_id=model.config.bos_token_id,\n",
    "                            eos_token_id=model.config.eos_token_id,\n",
    "                            pad_token_id=model.config.eos_token_id,\n",
    "                            temperature=0.1,\n",
    "                            do_sample=True)"
   ]
  },
  {
   "cell_type": "code",
   "execution_count": 47,
   "metadata": {},
   "outputs": [
    {
     "name": "stdout",
     "output_type": "stream",
     "text": [
      "<s>  [INST] \n",
      "You are an expert at annotating English natural language text I give you with tags per my instructions below. \n",
      "\n",
      "\n",
      "# Context\n",
      "I will give you some text from a Walking tour book referring to a specific route through the city of London. \n",
      "The task is to annotate parts of the text that describe specific navigation instructions.\n",
      "\n",
      "\n",
      "# Instructions:\n",
      "I want you to follow these instructions to do this:\n",
      "1. Place a start and end tag [NAV], [/NAV] delimiting the navigation instruction. lets call these `Nav Tags` for future reference.\n",
      "\n",
      "2.  Below are the Types of navigation tags that you need to use to annotate the text I provide.  The types are defined between the `----` delims for clarity:\n",
      "----\n",
      "\n",
      "T1. Navigation instructions always imply to walk one way or another with phrases.\n",
      "\n",
      "One example of T1\n",
      "```\n",
      "One of the more charming sections stands round the corner from Tooley Street, in St Thomas Street and Crucifix Lane.\n",
      "```\n",
      "Another example is:\n",
      "```\n",
      "Fitting, then, that at the time the neighbouring 191 Bermondsey Street was the rectory for St Mary Magdalen church, which stands a little down the road.\n",
      "```\n",
      "\n",
      "\n",
      "\n",
      "T2. Navigation instructions are of different lengths and range over several\n",
      "sentences. Make sure you capture the entirity of these sentence within the `Nav\n",
      "Tags`.\n",
      "\n",
      "\n",
      "T4. Often the instructions mix North, South East, West along with the other Types. These are valid and should be included in the `Nav Tags`. \n",
      "\n",
      "An example is:\n",
      "```\n",
      "From the south-western end of Shad Thames, go west along Tooley Street and cross Tower Bridge Road.\n",
      "```\n",
      "\n",
      "\n",
      "T5. Often the instructions include traveling across other streets, buildings or\n",
      "junctions. These should be included in the `Nav Tags`. An example is:\n",
      "```\n",
      "Leave the churchyard by the gate on Abbey Street, which runs perpendicular to Bermondsey Street.\n",
      "```\n",
      "\n",
      "\n",
      "\n",
      "T3. *If and ONLY if* you find a valid navigation in T1,2,4,5,6 above, you may have a visual markers or features specified with the navigation instructions that can help a user but are useless in of themselves. Include these in those `Nav Tags`.\n",
      "\n",
      "So an example of combination of T2 and T3:\n",
      "```\n",
      "The route to take, though, is the thoroughfare that intersects with Wheler\n",
      "Street.  This is Quaker Street.  On the north side is a row of gabled former\n",
      "railway warehouses dating from the late nineteenth century and now gutted and\n",
      "being converted into an economy hotel; on the south side is an early\n",
      "twentieth-century block of industrial dwellings, portions of the former Truman’s\n",
      "Brewery, and a large interwar public-housing block named Wheler House.\n",
      "```\n",
      "The `gabled former railway warehouses dating from the late nineteenth century and now gutted and\n",
      "being converted into an economy hotel` is the snippet that is a visual marker and should be included in the `Nav Tag`.\n",
      "\n",
      "\n",
      "----\n",
      "\n",
      "Lets call them `T1`, `T2`... `TN` for N navigation types - above we have N=5  -  I will use these to refer in the examples below.\n",
      "\n",
      "3. The types of navigation instructions are not mutually exclusive. You may find multiple Types(T1-T5) in a single navigation instruction.\n",
      "\n",
      "4. If the text only talks about a place but not how to get there or what to do there, it is not a navigation instruction and should not be annotated.\n",
      "\n",
      "5. There are likely several of `Nav Tags` in the text so try your best to find them all.\n",
      "\n",
      "6. Output the EXACT text that is between the `Nav Tags` including any punctuation, capitalization, and line breaks. DO NOT SUMMARIZE IT.\n",
      "\n",
      "7. You MUST include a reason for each `Nav Tag` in the response be one of the 5 types of navigation instructions and that the text between the `Nav Tags` satisfies that criteria.\n",
      "\n",
      "8. Make sure each NAV tag delimited text is followed by its individual REASON tag. So if you output, say, N [NAV]...[/NAV] pairs you should have N [REASON]...[/REASON] pairs as well.\n",
      "\n",
      "9. When you phrase the reason text don't mention T1, T2.. T5 instead just expand those reasons inline.\n",
      "\n",
      "Make sure 200% that you follow **all** the 9 instructions above to the letter. \n",
      "\n",
      "\n",
      " # Examples:\n",
      "    Here are two examples of the text I will provide and the expected output and some exaplanation. \n",
      "    Note that the below examples and the outpouts are surrounded by ``` delimiters and the rest is clarifications:\n",
      "===============START SECTION OF INPUT EXAMPLES AND EXPECTED OUTPUT====================\n",
      " \n",
      "    Example 1:\n",
      "    ```\n",
      "    From the south-western end of Shad Thames, go west along Tooley Street and cross\n",
      "    Tower Bridge Road. This portion of the walk takes us through the mercantile hub\n",
      "    of Victorian Bermondsey – from London Bridge station, via the warehouses of\n",
      "    Bermondsey Street district, to the centre of London’s leather industry. Our\n",
      "    first port of call is the doleful wastes of Potters Field Park, now a windswept\n",
      "    and unlovely public space including a somewhat trampled lawn and ‘amphitheatre’.\n",
      "\n",
      "    ```\n",
      "\n",
      "    Output 1:\n",
      "    ```\n",
      "    [NAV]From the south-western end of Shad Thames, go west along Tooley Street and cross\n",
      "    Tower Bridge Road.[/NAV]  \n",
      "    [REASON] The annotation was done  because it seems to have directions (N, S, E, W) and T5 as well where \"cross Tower Bridge\" follows the pattern of crossing a street. [/REASON]\n",
      "    [NAV] Our first port of call is the doleful wastes of Potters Field Park, [/NAV] \n",
      "    [REASON]  The  annotation was done because it has an implicit walk direction to follow and stop at Potters field. [/REASON]\n",
      "    ```\n",
      "    Note how the each NAV tag was followed by its REASON tag.\n",
      "    Note that the second sentence in the Example 1: above:\n",
      "        > This portion of the walk takes us through the mercantile hub\n",
      "        of Victorian Bermondsey – from London Bridge station, via the \n",
      "        warehouses of Bermondsey Street district, to the centre of London’s leather industry.\n",
      "\n",
      "    does not follow type T3 close enough and thus does not have the `Nav Tags`. \n",
      "    \n",
      "\n",
      "    Example 2:\n",
      "    ```\n",
      "    Walk south-west along More London Place, a geometrical and not unpleasing sliver\n",
      "    of a passage, which leads back to Tooley Street and the remains of a more\n",
      "    vigorous and muscular world. Tooley Street was a great mercantile thoroughfare\n",
      "    in the nineteenth century, lined with ware-houses, offices and railway\n",
      "    structures related to London Bridge station which sits, at high level,\n",
      "    immediately to its south.\n",
      "    ```\n",
      "    Output 2:\n",
      "    ```\n",
      "    [NAV]Walk south-west along More London Place, a geometrical and not unpleasing sliver\n",
      "    of a passage, which leads back to Tooley Street and the remains of a more\n",
      "    vigorous and muscular world.[/NAV]\n",
      "    [REASON] This was annotated because it asks you to walk south-west towards tooly steet and \n",
      "    there is also a visual feature: `unpleasing sliver of a passage`  to guide you there[/REASON]\n",
      "    ```\n",
      "    Note that sentence 2 in the Example text is not telling you how to get to Tooley Street but instead is descibing something about offices\n",
      "    and railway structures and the London Bridge station; Even though it says \"immediately to its south.\" its something to \n",
      "    be seen but not a navigation instruction.\n",
      "\n",
      "===============END SECTION OF INPUT EXAMPLES AND EXPECTED OUTPUT====================\n",
      "# Given the above annotated the following text\n",
      "Our route starts at the south side of Victoria Park, at Bonner Hall Bridge – best accessed by getting the Tube to Bethnal Green, a ten-minute walk away. The first portion of this route offers clues about the nature of east London before the arrival of the Regent’s Canal, taking in several buildings that predate the waterways, and whose fates were inexorably changed by its arrival. Before moving on, take a moment to reflect on Victoria Park. In the eighteenth century, this was all open pasture, interspersed with the odd brick kiln and market garden. The one notable feature was Bonner Hall, so called after the sixteenth-century bishop of London Edmund Bonner. All this was to change in the nineteenth century. As London expanded, calls for public parks grew; in 1840, Queen Victoria was presented with a petition signed by 30,000 residents. The Crown estate purchased 218 acres in the area and, over the next few years, converted it into Victoria Park. The park shares a family resemblance to Regent’s Park at the other end of the Regent’s Canal – no doubt down to the fact that its designer, James Pennethorne, was a protégé of none other than John Nash.6 The view south-east from Victoria Park’s Bonner Gate. When I first knew the park – many years ago – it was a fairly rough place. In particular the Pavilion Café, a few hundred metres to the east of Bonner Hall Bridge, was a grisly affair, best avoided unless one wanted to experience the stark reality of East End cuisine. Now, like many in east London, it has transformed into one of the best cafés mentioned in this book. It makes a splendid place to begin the walk if you’re in need of a bite to eat or drink. For those ready to plunge into Georgian industrial architecture, however, it is best to walk to the western end of the park and through the canal gate on to the towpath. Here, one can begin to imagine the feel of the canal in its early days: the canal side adjoining Victoria Park is used as moorings for barges, mostly residential, while across the waterway (which, as is usual, has a towpath – intended for the horses required to tow barges – generally on only one side) are\n",
      "\n",
      " [/INST] \n",
      "[NAV]Our route starts at the south side of Victoria Park, at Bonner Hall Bridge – best accessed by getting the Tube to Bethnal Green, a ten-minute walk away.[/NAV]  \n",
      "[REASON] The annotation was done because it seems to have directions (N, S, E, W) and T5 as well where \"getting the Tube to Bethnal Green\" follows the pattern of using public transportation to reach the starting point. [/REASON]\n",
      "\n",
      "[NAV]it is best to walk to the western end of the park and through the canal gate on to the towpath.[/NAV]  \n",
      "[REASON] The annotation was done because it asks you to walk to the western end of the park and through the canal gate, implying a direction to follow. [/REASON]\n",
      "\n",
      "The rest of the text does not contain navigation instructions, as it describes the history and features of Victoria Park, but does not instruct the reader on how to navigate through it.</s>\n"
     ]
    }
   ],
   "source": [
    "print(tokenizer.batch_decode(output)[0])\n"
   ]
  },
  {
   "cell_type": "code",
   "execution_count": 49,
   "metadata": {},
   "outputs": [
    {
     "name": "stdout",
     "output_type": "stream",
     "text": [
      "[NAV] Our route starts at the south side of Victoria Park, at Bonner Hall Bridge – best accessed by getting the Tube to Bethnal Green, a ten-minute walk away. [/NAV] [REASON] This was annotated because it provides specific instructions on where to start the route and how to get there, implying a direction to walk. [/REASON] [NAV] For those ready to plunge into Georgian industrial architecture, however, it is best to walk to the western end of the park and through the canal gate on to the towpath. [/NAV] [REASON] This was annotated because it provides specific instructions on where to walk next, indicating a direction to follow. [/REASON] \n"
     ]
    }
   ],
   "source": [
    "print(serialized_data_gpt_four[0]['navs'])"
   ]
  },
  {
   "cell_type": "markdown",
   "metadata": {},
   "source": [
    "## get the PEFT model"
   ]
  },
  {
   "cell_type": "code",
   "execution_count": null,
   "metadata": {},
   "outputs": [],
   "source": [
    "load_pretrained = False"
   ]
  },
  {
   "cell_type": "code",
   "execution_count": 26,
   "metadata": {},
   "outputs": [],
   "source": [
    "# Prepare model for k-bit training\n",
    "from peft import inject_adapter_in_model\n",
    "\n",
    "model = prepare_model_for_kbit_training(model)\n",
    "# model = prepare_model_for_kbit_training(model)\n",
    "LORA_R = 8\n",
    "LORA_ALPHA = 2 * LORA_R\n",
    "LORA_DROPOUT = 0.1\n",
    "config = LoraConfig(\n",
    "    r=LORA_R,\n",
    "    lora_alpha=LORA_ALPHA,\n",
    "    target_modules=[\"w1\", \"w2\", \"w3\"],\n",
    "    lora_dropout=LORA_DROPOUT,\n",
    "    bias=\"none\",\n",
    "    task_type=\"CAUSAL_LM\",\n",
    ")\n",
    "if not load_pretrained:\n",
    "    model = get_peft_model(model, config)\n",
    "else:\n",
    "    # Hmm a shame the in place thing did not work. The issue is that thought it modifies the model\n",
    "    # it does not change its type.\n",
    "    # inject_adapter_in_model(config, model, str(model_save_dir / \"best_saved_model\"))\n",
    "    model = get_peft_model(model, config)\n",
    "    inject_adapter_in_model(config, model, str(model_save_dir / \"best_saved_model\"))"
   ]
  },
  {
   "cell_type": "code",
   "execution_count": null,
   "metadata": {},
   "outputs": [],
   "source": []
  },
  {
   "cell_type": "markdown",
   "metadata": {},
   "source": [
    "# Start the training loop"
   ]
  },
  {
   "cell_type": "code",
   "execution_count": 33,
   "metadata": {},
   "outputs": [
    {
     "name": "stderr",
     "output_type": "stream",
     "text": [
      "Detected kernel version 5.4.0, which is below the recommended minimum of 5.5.0; this can cause the process to hang. It is recommended to upgrade the kernel to the minimum version or higher.\n"
     ]
    }
   ],
   "source": [
    "trainer = Trainer(\n",
    "    model=model,\n",
    "    train_dataset=walking_tour_dataset_tokens,\n",
    "    eval_dataset=walking_tour_dataset_tokens_test,\n",
    "    args=TrainingArguments(\n",
    "        per_device_train_batch_size=1,\n",
    "        gradient_accumulation_steps=4,\n",
    "        # To resume from training you need to increaswe the number of epochs.\n",
    "        # https://github.com/huggingface/transformers/blob/8c12690cecbb97e187861e386f7a0ac790e4236c/src/transformers/trainer.py#L2069\n",
    "        num_train_epochs=10,\n",
    "        learning_rate=1e-4,\n",
    "        logging_steps=2,\n",
    "        optim=\"adamw_torch\",\n",
    "        save_total_limit=5,\n",
    "        evaluation_strategy=\"epoch\",\n",
    "        save_strategy=\"epoch\",\n",
    "        overwrite_output_dir=True,\n",
    "        output_dir=str(model_save_dir),\n",
    "        load_best_model_at_end=True,\n",
    "    ),\n",
    "    data_collator=transformers.DataCollatorForLanguageModeling(tokenizer, mlm=False),\n",
    ")\n",
    "\n",
    "\n",
    "model.config.use_cache = False\n",
    "# trainer.train()"
   ]
  },
  {
   "cell_type": "code",
   "execution_count": 29,
   "metadata": {},
   "outputs": [
    {
     "data": {
      "text/plain": [
       "PosixPath('/workspace/mlx-week7/mixtral-moe-lora-instruct-walking-tour-london')"
      ]
     },
     "execution_count": 29,
     "metadata": {},
     "output_type": "execute_result"
    }
   ],
   "source": [
    "model_save_dir"
   ]
  },
  {
   "cell_type": "markdown",
   "metadata": {},
   "source": [
    "## Save a pretrained model\n",
    "See https://huggingface.co/docs/transformers/v4.40.0/en/main_classes/model#transformers.PreTrainedModel.save_pretrained\n"
   ]
  },
  {
   "cell_type": "code",
   "execution_count": 30,
   "metadata": {},
   "outputs": [
    {
     "data": {
      "application/vnd.jupyter.widget-view+json": {
       "model_id": "f97325ae52924af78078956a3d891af1",
       "version_major": 2,
       "version_minor": 0
      },
      "text/plain": [
       "config.json:   0%|          | 0.00/720 [00:00<?, ?B/s]"
      ]
     },
     "metadata": {},
     "output_type": "display_data"
    },
    {
     "name": "stderr",
     "output_type": "stream",
     "text": [
      "/root/miniconda3/envs/mlx-week7/lib/python3.11/site-packages/peft/utils/save_and_load.py:168: UserWarning: Setting `save_embedding_layers` to `True` as the embedding layer has been resized during finetuning.\n",
      "  warnings.warn(\n"
     ]
    }
   ],
   "source": [
    "trainer.save_model(model_save_dir / \"best_saved_model\")\n",
    "# model.save_model(model_save_dir)"
   ]
  },
  {
   "cell_type": "code",
   "execution_count": 31,
   "metadata": {},
   "outputs": [],
   "source": [
    "trainer.save_state()"
   ]
  },
  {
   "cell_type": "code",
   "execution_count": 87,
   "metadata": {},
   "outputs": [
    {
     "data": {
      "text/plain": [
       "'/root/mlx_week_7'"
      ]
     },
     "execution_count": 87,
     "metadata": {},
     "output_type": "execute_result"
    }
   ],
   "source": [
    "import os\n",
    "\n",
    "os.getcwd()"
   ]
  },
  {
   "cell_type": "markdown",
   "metadata": {},
   "source": [
    "# Load a model from a checkpoint"
   ]
  },
  {
   "cell_type": "code",
   "execution_count": 20,
   "metadata": {},
   "outputs": [
    {
     "data": {
      "text/plain": [
       "PosixPath('/workspace/mlx-week7')"
      ]
     },
     "execution_count": 20,
     "metadata": {},
     "output_type": "execute_result"
    }
   ],
   "source": [
    "project_path"
   ]
  },
  {
   "cell_type": "code",
   "execution_count": 28,
   "metadata": {},
   "outputs": [
    {
     "data": {
      "text/plain": [
       "PeftModelForCausalLM(\n",
       "  (base_model): LoraModel(\n",
       "    (model): MixtralForCausalLM(\n",
       "      (model): MixtralModel(\n",
       "        (embed_tokens): Embedding(32006, 4096)\n",
       "        (layers): ModuleList(\n",
       "          (0-31): 32 x MixtralDecoderLayer(\n",
       "            (self_attn): MixtralSdpaAttention(\n",
       "              (q_proj): Linear4bit(in_features=4096, out_features=4096, bias=False)\n",
       "              (k_proj): Linear4bit(in_features=4096, out_features=1024, bias=False)\n",
       "              (v_proj): Linear4bit(in_features=4096, out_features=1024, bias=False)\n",
       "              (o_proj): Linear4bit(in_features=4096, out_features=4096, bias=False)\n",
       "              (rotary_emb): MixtralRotaryEmbedding()\n",
       "            )\n",
       "            (block_sparse_moe): MixtralSparseMoeBlock(\n",
       "              (gate): Linear4bit(in_features=4096, out_features=8, bias=False)\n",
       "              (experts): ModuleList(\n",
       "                (0-7): 8 x MixtralBlockSparseTop2MLP(\n",
       "                  (w1): lora.Linear4bit(\n",
       "                    (base_layer): Linear4bit(in_features=4096, out_features=14336, bias=False)\n",
       "                    (lora_dropout): ModuleDict(\n",
       "                      (default): Dropout(p=0.1, inplace=False)\n",
       "                    )\n",
       "                    (lora_A): ModuleDict(\n",
       "                      (default): Linear(in_features=4096, out_features=8, bias=False)\n",
       "                    )\n",
       "                    (lora_B): ModuleDict(\n",
       "                      (default): Linear(in_features=8, out_features=14336, bias=False)\n",
       "                    )\n",
       "                    (lora_embedding_A): ParameterDict()\n",
       "                    (lora_embedding_B): ParameterDict()\n",
       "                  )\n",
       "                  (w2): lora.Linear4bit(\n",
       "                    (base_layer): Linear4bit(in_features=14336, out_features=4096, bias=False)\n",
       "                    (lora_dropout): ModuleDict(\n",
       "                      (default): Dropout(p=0.1, inplace=False)\n",
       "                    )\n",
       "                    (lora_A): ModuleDict(\n",
       "                      (default): Linear(in_features=14336, out_features=8, bias=False)\n",
       "                    )\n",
       "                    (lora_B): ModuleDict(\n",
       "                      (default): Linear(in_features=8, out_features=4096, bias=False)\n",
       "                    )\n",
       "                    (lora_embedding_A): ParameterDict()\n",
       "                    (lora_embedding_B): ParameterDict()\n",
       "                  )\n",
       "                  (w3): lora.Linear4bit(\n",
       "                    (base_layer): Linear4bit(in_features=4096, out_features=14336, bias=False)\n",
       "                    (lora_dropout): ModuleDict(\n",
       "                      (default): Dropout(p=0.1, inplace=False)\n",
       "                    )\n",
       "                    (lora_A): ModuleDict(\n",
       "                      (default): Linear(in_features=4096, out_features=8, bias=False)\n",
       "                    )\n",
       "                    (lora_B): ModuleDict(\n",
       "                      (default): Linear(in_features=8, out_features=14336, bias=False)\n",
       "                    )\n",
       "                    (lora_embedding_A): ParameterDict()\n",
       "                    (lora_embedding_B): ParameterDict()\n",
       "                  )\n",
       "                  (act_fn): SiLU()\n",
       "                )\n",
       "              )\n",
       "            )\n",
       "            (input_layernorm): MixtralRMSNorm()\n",
       "            (post_attention_layernorm): MixtralRMSNorm()\n",
       "          )\n",
       "        )\n",
       "        (norm): MixtralRMSNorm()\n",
       "      )\n",
       "      (lm_head): Linear(in_features=4096, out_features=32006, bias=False)\n",
       "    )\n",
       "  )\n",
       ")"
      ]
     },
     "execution_count": 28,
     "metadata": {},
     "output_type": "execute_result"
    }
   ],
   "source": [
    "model"
   ]
  },
  {
   "cell_type": "code",
   "execution_count": 28,
   "metadata": {},
   "outputs": [
    {
     "data": {
      "text/plain": [
       "PosixPath('/workspace/mlx-week7/mixtral-moe-lora-instruct-walking-tour-london')"
      ]
     },
     "execution_count": 28,
     "metadata": {},
     "output_type": "execute_result"
    }
   ],
   "source": [
    "model_save_dir"
   ]
  },
  {
   "cell_type": "code",
   "execution_count": 35,
   "metadata": {},
   "outputs": [
    {
     "name": "stderr",
     "output_type": "stream",
     "text": [
      "/root/miniconda3/envs/mlx-week7/lib/python3.11/site-packages/torch/utils/checkpoint.py:460: UserWarning: torch.utils.checkpoint: please pass in use_reentrant=True or use_reentrant=False explicitly. The default value of use_reentrant will be updated to be False in the future. To maintain current behavior, pass use_reentrant=True. It is recommended that you use use_reentrant=False. Refer to docs for more details on the differences between the two variants.\n",
      "  warnings.warn(\n"
     ]
    },
    {
     "data": {
      "text/html": [
       "\n",
       "    <div>\n",
       "      \n",
       "      <progress value='80' max='80' style='width:300px; height:20px; vertical-align: middle;'></progress>\n",
       "      [80/80 35:00, Epoch 9/10]\n",
       "    </div>\n",
       "    <table border=\"1\" class=\"dataframe\">\n",
       "  <thead>\n",
       " <tr style=\"text-align: left;\">\n",
       "      <th>Epoch</th>\n",
       "      <th>Training Loss</th>\n",
       "      <th>Validation Loss</th>\n",
       "    </tr>\n",
       "  </thead>\n",
       "  <tbody>\n",
       "    <tr>\n",
       "      <td>6</td>\n",
       "      <td>1.327800</td>\n",
       "      <td>2.309530</td>\n",
       "    </tr>\n",
       "    <tr>\n",
       "      <td>7</td>\n",
       "      <td>1.194000</td>\n",
       "      <td>2.374886</td>\n",
       "    </tr>\n",
       "    <tr>\n",
       "      <td>8</td>\n",
       "      <td>1.186000</td>\n",
       "      <td>2.352052</td>\n",
       "    </tr>\n",
       "    <tr>\n",
       "      <td>9</td>\n",
       "      <td>1.275600</td>\n",
       "      <td>2.360156</td>\n",
       "    </tr>\n",
       "  </tbody>\n",
       "</table><p>"
      ],
      "text/plain": [
       "<IPython.core.display.HTML object>"
      ]
     },
     "metadata": {},
     "output_type": "display_data"
    },
    {
     "name": "stderr",
     "output_type": "stream",
     "text": [
      "/root/miniconda3/envs/mlx-week7/lib/python3.11/site-packages/peft/utils/save_and_load.py:168: UserWarning: Setting `save_embedding_layers` to `True` as the embedding layer has been resized during finetuning.\n",
      "  warnings.warn(\n",
      "/root/miniconda3/envs/mlx-week7/lib/python3.11/site-packages/torch/utils/checkpoint.py:460: UserWarning: torch.utils.checkpoint: please pass in use_reentrant=True or use_reentrant=False explicitly. The default value of use_reentrant will be updated to be False in the future. To maintain current behavior, pass use_reentrant=True. It is recommended that you use use_reentrant=False. Refer to docs for more details on the differences between the two variants.\n",
      "  warnings.warn(\n",
      "/root/miniconda3/envs/mlx-week7/lib/python3.11/site-packages/peft/utils/save_and_load.py:168: UserWarning: Setting `save_embedding_layers` to `True` as the embedding layer has been resized during finetuning.\n",
      "  warnings.warn(\n",
      "/root/miniconda3/envs/mlx-week7/lib/python3.11/site-packages/torch/utils/checkpoint.py:460: UserWarning: torch.utils.checkpoint: please pass in use_reentrant=True or use_reentrant=False explicitly. The default value of use_reentrant will be updated to be False in the future. To maintain current behavior, pass use_reentrant=True. It is recommended that you use use_reentrant=False. Refer to docs for more details on the differences between the two variants.\n",
      "  warnings.warn(\n",
      "/root/miniconda3/envs/mlx-week7/lib/python3.11/site-packages/peft/utils/save_and_load.py:168: UserWarning: Setting `save_embedding_layers` to `True` as the embedding layer has been resized during finetuning.\n",
      "  warnings.warn(\n",
      "/root/miniconda3/envs/mlx-week7/lib/python3.11/site-packages/torch/utils/checkpoint.py:460: UserWarning: torch.utils.checkpoint: please pass in use_reentrant=True or use_reentrant=False explicitly. The default value of use_reentrant will be updated to be False in the future. To maintain current behavior, pass use_reentrant=True. It is recommended that you use use_reentrant=False. Refer to docs for more details on the differences between the two variants.\n",
      "  warnings.warn(\n",
      "/root/miniconda3/envs/mlx-week7/lib/python3.11/site-packages/peft/utils/save_and_load.py:168: UserWarning: Setting `save_embedding_layers` to `True` as the embedding layer has been resized during finetuning.\n",
      "  warnings.warn(\n"
     ]
    },
    {
     "data": {
      "text/plain": [
       "TrainOutput(global_step=80, training_loss=0.5246684074401855, metrics={'train_runtime': 2153.1202, 'train_samples_per_second': 0.163, 'train_steps_per_second': 0.037, 'total_flos': 1.8401815833870336e+17, 'train_loss': 0.5246684074401855, 'epoch': 9.657142857142857})"
      ]
     },
     "execution_count": 35,
     "metadata": {},
     "output_type": "execute_result"
    }
   ],
   "source": [
    "trainer.train(resume_from_checkpoint=str(model_save_dir / \"checkpoint-48\"))"
   ]
  },
  {
   "cell_type": "code",
   "execution_count": null,
   "metadata": {},
   "outputs": [],
   "source": [
    "trainer.train(resume_from_checkpoint=str(model_save_dir / \"checkpoint-48\"))"
   ]
  },
  {
   "cell_type": "code",
   "execution_count": 89,
   "metadata": {},
   "outputs": [
    {
     "name": "stderr",
     "output_type": "stream",
     "text": [
      "/root/miniconda3/lib/python3.12/site-packages/peft/utils/other.py:581: UserWarning: Unable to fetch remote file due to the following error 401 Client Error. (Request ID: Root=1-662149bd-78cbe2504d075580526bec89;1279c2fe-a605-45fa-890f-49c6117f29b9)\n",
      "\n",
      "Cannot access gated repo for url https://huggingface.co/mistralai/Mixtral-8x7B-Instruct-v0.1/resolve/main/config.json.\n",
      "Repo model mistralai/Mixtral-8x7B-Instruct-v0.1 is gated. You must be authenticated to access it. - silently ignoring the lookup for the file config.json in mistralai/Mixtral-8x7B-Instruct-v0.1.\n",
      "  warnings.warn(\n",
      "/root/miniconda3/lib/python3.12/site-packages/peft/utils/save_and_load.py:154: UserWarning: Could not find a config file in mistralai/Mixtral-8x7B-Instruct-v0.1 - will assume that the vocabulary was not modified.\n",
      "  warnings.warn(\n"
     ]
    }
   ],
   "source": [
    "trainer.save_model(\"mixtral-moe-lora-instruct-walking-tour-london\")"
   ]
  },
  {
   "cell_type": "code",
   "execution_count": 88,
   "metadata": {},
   "outputs": [],
   "source": []
  },
  {
   "cell_type": "markdown",
   "metadata": {},
   "source": [
    "# Inference"
   ]
  },
  {
   "cell_type": "code",
   "execution_count": 53,
   "metadata": {},
   "outputs": [],
   "source": [
    "import json\n",
    "\n",
    "test_dataset_chunks = json.load(open(\"./test_dataset.json\"))"
   ]
  },
  {
   "cell_type": "code",
   "execution_count": 54,
   "metadata": {},
   "outputs": [
    {
     "data": {
      "text/plain": [
       "{'chunk': ['This walk starts at one of the most famous landmarks in Britain: Tower\\nBridge. This bridge is a rare thing – a much-admired structure of great\\ncharacter, even though it was forged through endless committee meetings,\\ncompromise, contradiction, uncertainty and a fair degree of absurdity. It has a\\nstory worth considering at some length as you ascend from Tower Hill tube and\\nstroll south across the bridge. The tale starts in the mid 1870s, when it was\\nargued that a river crossing to the east of London Bridge would both improve\\ncommunications in the City and, by providing direct access to industry on the\\nsouth bank, increase the commercial potential of the docks on the north. There\\nwas, for practical reasons, only one site possible – a strip of land just east\\nof the Tower of London – and a competition to find a suitable design was held.\\nThis was supervised by the City of London Corporation, which grabbed the\\ninitiative to build the new bridge. There was one key stipulation. It was not to\\nblock the access of tall-masted cargo ships to the wharves at the Pool of\\nLondon, immediately to the west of the tower. To protect navigation the span of\\nthe proposed bridge had to be either incredibly high or it would have to open in\\nsome way to allow ships to pass through. Over fifty detailed designs were\\nsubmitted. Most were weird and wonderful, including a swing bridge, a ‘roller’\\nbridge incorporating steam-operated sections that rolled from pier to pier, and\\na high-level bridge. All offered more or less workable solutions – some more\\nexpensive and complex than others – but all would visually overpower the\\nhistoric tower and its setting. Many thought this far from desirable. Debate\\nraged and two distinct interest groups emerged, each of which believed it should\\nbe responsible for the design and construction of the new bridge. There was the\\nCity Corporation, which had organised the competition and believed the proposed\\nbridge was its responsibility. The City did, after all, begin just to the west\\nof the site, and it had the funds to see the works to completion. They were to\\ncome from the City’s Bridge House estate, a body established in the early',\n",
       "  'thirteenth century to collect tolls and rents from all using or residing on\\nLondon Bridge. The City had, over the centuries, used the resulting money to buy\\nand develop property, and build other bridges across the Thames – notably\\nBlackfriars Bridge in the 1760s. By the 1870s the money was there to build the\\nproposed bridge by the tower. On the other hand there was the Metropolitan Board\\nof Works (MBW), which had been established in 1855 to improve London’s roads and\\nsewers (see p. 336). The engineer responsible for these works was Joseph\\nBazalgette, and in the mid 1870s he produced a design for the MBW for a\\nhigh-level bridge adjoining the tower. When the MBW submitted this scheme as\\npart of a private Parliamentary bill, the battle lines were drawn. The City – in\\nthe person of its architect Horace Jones – objected to the proposed design and\\nin 1879 submitted its alternative scheme. Designed by Jones himself, it solved\\nthe problems of navigation by proposing that the bridge should have a roadway\\nwhich rose to allow ships to pass. This solution also offered the opportunity\\nfor the new crossing to be designed as a medieval-style drawbridge or city gate:\\na composition that, argued the City, would allow the new structure to sit in\\nhappy harmony with the adjoining medieval Tower of London. Competing visions of\\nTower Bridge: the designs submitted by Joseph Bazelgette for the MBW (Top) and\\nHorace Jones for the City Corporation (Above). The logic of this suggestion gave\\nthe City the edge in the debate and the project moved inexorably into its hands.\\nAfter ironing out some technical problems – the drawbridge was originally to be\\nraised by chains, which promised to be so slow that it would almost always be\\nneither up nor down – a final design was settled upon, with the help of the\\nengineer John Wolfe Barry. Jones and Barry were grilled by a House of Commons\\nSelect Committee which established that, from the technical and operational\\npoint of view at least, the City’s proposal was a goer. And then, when all\\nseemed settled, Queen Victoria spoke up. The queen had opposed the bridge for\\nsome time: she feared that a new bridge, on the eastern edge of the Tower of'],\n",
       " 'navs': ['', '']}"
      ]
     },
     "execution_count": 54,
     "metadata": {},
     "output_type": "execute_result"
    }
   ],
   "source": [
    "from datasets import Dataset\n",
    "\n",
    "test_dataset = Dataset.from_list(test_dataset_chunks)\n",
    "test_dataset[0:2]"
   ]
  },
  {
   "cell_type": "code",
   "execution_count": 14,
   "metadata": {},
   "outputs": [],
   "source": [
    "# test_prompt_gen = lambda text: \"<s> [INST]\" + sys_msg +\"\\n\"+ user_query[\"chunk\"] + \"[/INST]\" +  user_query[\"navs\"] + \"</s>"
   ]
  },
  {
   "cell_type": "markdown",
   "metadata": {},
   "source": [
    "## The prompt"
   ]
  },
  {
   "cell_type": "code",
   "execution_count": 209,
   "metadata": {},
   "outputs": [
    {
     "name": "stdout",
     "output_type": "stream",
     "text": [
      "<s> [INST] Given the text from a Walking tour book describing a specific route through the city of London, extract parts of the text that describe specific navigation instructions in it using  <NAV> and </NAV> tags as well as the reason tags: <REASON> </REASON>:\n",
      "This walk starts at one of the most famous landmarks in Britain: Tower\n",
      "Bridge. This bridge is a rare thing – a much-admired structure of great\n",
      "character, even though it was forged through endless committee meetings,\n",
      "compromise, contradiction, uncertainty and a fair degree of absurdity. It has a\n",
      "story worth considering at some length as you ascend from Tower Hill tube and\n",
      "stroll south across the bridge. The tale starts in the mid 1870s, when it was\n",
      "argued that a river crossing to the east of London Bridge would both improve\n",
      "communications in the City and, by providing direct access to industry on the\n",
      "south bank, increase the commercial potential of the docks on the north. There\n",
      "was, for practical reasons, only one site possible – a strip of land just east\n",
      "of the Tower of London – and a competition to find a suitable design was held.\n",
      "This was supervised by the City of London Corporation, which grabbed the\n",
      "initiative to build the new bridge. There was one key stipulation. It was not to\n",
      "block the access of tall-masted cargo ships to the wharves at the Pool of\n",
      "London, immediately to the west of the tower. To protect navigation the span of\n",
      "the proposed bridge had to be either incredibly high or it would have to open in\n",
      "some way to allow ships to pass through. Over fifty detailed designs were\n",
      "submitted. Most were weird and wonderful, including a swing bridge, a ‘roller’\n",
      "bridge incorporating steam-operated sections that rolled from pier to pier, and\n",
      "a high-level bridge. All offered more or less workable solutions – some more\n",
      "expensive and complex than others – but all would visually overpower the\n",
      "historic tower and its setting. Many thought this far from desirable. Debate\n",
      "raged and two distinct interest groups emerged, each of which believed it should\n",
      "be responsible for the design and construction of the new bridge. There was the\n",
      "City Corporation, which had organised the competition and believed the proposed\n",
      "bridge was its responsibility. The City did, after all, begin just to the west\n",
      "of the site, and it had the funds to see the works to completion. They were to\n",
      "come from the City’s Bridge House estate, a body established in the early [/INST] \n"
     ]
    }
   ],
   "source": [
    "test_prompt = generate_test_prompt(test_dataset_chunks[0])\n",
    "print(test_prompt)"
   ]
  },
  {
   "cell_type": "markdown",
   "metadata": {},
   "source": [
    "## Different tokenization strategies for inference\n"
   ]
  },
  {
   "cell_type": "markdown",
   "metadata": {},
   "source": [
    "###  Tokenize using encode method"
   ]
  },
  {
   "cell_type": "code",
   "execution_count": 132,
   "metadata": {},
   "outputs": [
    {
     "name": "stdout",
     "output_type": "stream",
     "text": [
      "[1, 259, 32000, 28705, 12628, 272, 2245, 477, 264, 9863, 288, 3884, 1820, 18063, 264, 2948, 7103, 1059, 272, 2990, 302, 4222, 28725, 9131, 5099, 302, 272, 2245, 369, 6685, 2948, 18132, 11382, 297, 378, 1413, 259, 32002, 28705, 304, 28705, 32003, 28705, 12944, 390, 1162, 390, 272, 2611, 12944, 28747, 28705, 32004, 259, 32005, 28705, 390, 4894, 297, 272, 9254, 369, 1372, 13, 3260, 2338, 8383, 438, 624, 302, 272, 1080, 8376, 2533, 17181, 297, 10174, 28747, 19895, 13, 28760, 9163, 28723, 851, 9850, 349, 264, 9964, 1970, 764, 264, 1188, 28733, 316, 28719, 1360, 4693, 302, 1598, 13]\n",
      "<s>  [INST]  Given the text from a Walking tour book describing a specific route through the city of London, extract parts of the text that describe specific navigation instructions in it using  <NAV>  and </NAV>  tags as well as the reason tags: <REASON>  </REASON>  as shown in the examples that follow\n",
      "This walk starts at one of the most famous landmarks in Britain: Tower\n",
      "Bridge. This bridge is a rare thing – a much-admired structure of great\n",
      "character, even though it was forged through endless committee meetings,\n",
      "compromise, contradiction, uncertainty and a fair degree of absurdity. It has a\n",
      "story worth considering at some length as you ascend from Tower Hill tube and\n",
      "stroll south across the bridge. The tale starts in the mid 1870s, when it was\n",
      "argued that a river crossing to the east of London Bridge would both improve\n",
      "communications in the City and, by providing direct access to industry on the\n",
      "south bank, increase the commercial potential of the docks on the north. There\n",
      "was, for practical reasons, only one site possible – a strip of land just east\n",
      "of the Tower of London – and a competition to find a suitable design was held.\n",
      "This was supervised by the City of London Corporation, which grabbed the\n",
      "initiative to build the new bridge. There was one key stipulation. It was not to\n",
      "block the access of tall-masted cargo ships to the wharves at the Pool of\n",
      "London, immediately to the west of the tower. To protect navigation the span of\n",
      "the proposed bridge had to be either incredibly high or it would have to open in\n",
      "some way to allow ships to pass through. Over fifty detailed designs were\n",
      "submitted. Most were weird and wonderful, including a swing bridge, a ‘roller’\n",
      "bridge incorporating steam-operated sections that rolled from pier to pier, and\n",
      "a high-level bridge. All offered more or less workable solutions – some more\n",
      "expensive and complex than others – but all would visually overpower the\n",
      "historic tower and its setting. Many thought this far from desirable. Debate\n",
      "raged and two distinct interest groups emerged, each of which believed it should\n",
      "be responsible for the design and construction of the new bridge. There was the\n",
      "City Corporation, which had organised the competition and believed the proposed\n",
      "bridge was its responsibility. The City did, after all, begin just to the west\n",
      "of the site, and it had the funds to see the works to completion. They were to\n",
      "come from the City’s Bridge House estate, a body established in the early [/INST]  \n"
     ]
    }
   ],
   "source": [
    "encoded = tokenizer.encode(test_prompt, add_special_tokens=False)\n",
    "print(encoded[0:100])\n",
    "print(tokenizer.decode(encoded))"
   ]
  },
  {
   "cell_type": "code",
   "execution_count": 92,
   "metadata": {},
   "outputs": [],
   "source": [
    "test_prompt = \"\"\"<s>  [INST]  Given the text from a Walking tour book describing a specific route through the city of London, extract parts of the text that describe specific navigation instructions in it using  <NAV>  and </NAV>  tags as well as the reason tags: <REASON>  </REASON>  as shown in the examples that follow\n",
    "This walk starts at one of the most famous landmarks in Britain: Tower\n",
    "Bridge.\"\"\""
   ]
  },
  {
   "cell_type": "code",
   "execution_count": 146,
   "metadata": {},
   "outputs": [
    {
     "data": {
      "text/plain": [
       "'<s> [INST] Given the text from a Walking tour book describing a specific route through the city of London, extract parts of the text that describe specific navigation instructions in it using  <NAV> and </NAV> tags as well as the reason tags: <REASON> </REASON> as shown in the examples that follow\\nThis walk starts at one of the most famous landmarks in Britain: Tower\\nBridge. This bridge is a rare thing – a much-admired structure of great\\ncharacter, even though it was forged through endless committee meetings,\\ncompromise, contradiction, uncertainty and a fair degree of absurdity. It has a\\nstory worth considering at some length as you ascend from Tower Hill tube and\\nstroll south across the bridge. The tale starts in the mid 1870s, when it was\\nargued that a river crossing to the east of London Bridge would both improve\\ncommunications in the City and, by providing direct access to industry on the\\nsouth bank, increase the commercial potential of the docks on the north. There\\nwas, for practical reasons, only one site possible – a strip of land just east\\nof the Tower of London – and a competition to find a suitable design was held.\\nThis was supervised by the City of London Corporation, which grabbed the\\ninitiative to build the new bridge. There was one key stipulation. It was not to\\nblock the access of tall-masted cargo ships to the wharves at the Pool of\\nLondon, immediately to the west of the tower. To protect navigation the span of\\nthe proposed bridge had to be either incredibly high or it would have to open in\\nsome way to allow ships to pass through. Over fifty detailed designs were\\nsubmitted. Most were weird and wonderful, including a swing bridge, a ‘roller’\\nbridge incorporating steam-operated sections that rolled from pier to pier, and\\na high-level bridge. All offered more or less workable solutions – some more\\nexpensive and complex than others – but all would visually overpower the\\nhistoric tower and its setting. Many thought this far from desirable. Debate\\nraged and two distinct interest groups emerged, each of which believed it should\\nbe responsible for the design and construction of the new bridge. There was the\\nCity Corporation, which had organised the competition and believed the proposed\\nbridge was its responsibility. The City did, after all, begin just to the west\\nof the site, and it had the funds to see the works to completion. They were to\\ncome from the City’s Bridge House estate, a body established in the early [/INST] '"
      ]
     },
     "execution_count": 146,
     "metadata": {},
     "output_type": "execute_result"
    }
   ],
   "source": [
    "test_prompt"
   ]
  },
  {
   "cell_type": "code",
   "execution_count": 147,
   "metadata": {},
   "outputs": [
    {
     "name": "stdout",
     "output_type": "stream",
     "text": [
      "2048\n",
      "2048 2048\n",
      "tensor([    1,   259, 32000, 28705, 12628,   272,  2245,   477,   264,  9863,\n",
      "          288,  3884,  1820, 18063,   264,  2948,  7103,  1059,   272,  2990,\n",
      "          302,  4222, 28725,  9131,  5099,   302,   272,  2245,   369,  6685,\n",
      "         2948, 18132, 11382,   297,   378,  1413,   259, 32002, 28705,   304,\n",
      "        28705, 32003, 28705, 12944,   390,  1162,   390,   272,  2611, 12944,\n",
      "        28747, 28705, 32004,   259, 32005, 28705,   390,  4894,   297,   272,\n",
      "         9254,   369,  1372,    13,  3260,  2338,  8383,   438,   624,   302,\n",
      "          272,  1080,  8376,  2533, 17181,   297, 10174, 28747, 19895,    13,\n",
      "        28760,  9163, 28723,   851,  9850,   349,   264,  9964,  1970,   764,\n",
      "          264,  1188, 28733,   316, 28719,  1360,  4693,   302,  1598,    13])\n",
      ".\n",
      "<s>  [INST]  Given the text from a Walking tour book describing a specific route through the city of London, extract parts of the text that describe specific navigation instructions in it using  <NAV>  and </NAV>  tags as well as the reason tags: <REASON>  </REASON>  as shown in the examples that follow\n",
      "This walk starts at one of the most famous landmarks in Britain: Tower\n",
      "Bridge. This bridge is a rare thing – a much-admired structure of great\n",
      "character, even though it was forged through endless committee meetings,\n",
      "compromise, contradiction, uncertainty and a fair degree of absurdity. It has a\n",
      "story worth considering at some length as you ascend from Tower Hill tube and\n",
      "stroll south across the bridge. The tale starts in the mid 1870s, when it was\n",
      "argued that a river crossing to the east of London Bridge would both improve\n",
      "communications in the City and, by providing direct access to industry on the\n",
      "south bank, increase the commercial potential of the docks on the north. There\n",
      "was, for practical reasons, only one site possible – a strip of land just east\n",
      "of the Tower of London – and a competition to find a suitable design was held.\n",
      "This was supervised by the City of London Corporation, which grabbed the\n",
      "initiative to build the new bridge. There was one key stipulation. It was not to\n",
      "block the access of tall-masted cargo ships to the wharves at the Pool of\n",
      "London, immediately to the west of the tower. To protect navigation the span of\n",
      "the proposed bridge had to be either incredibly high or it would have to open in\n",
      "some way to allow ships to pass through. Over fifty detailed designs were\n",
      "submitted. Most were weird and wonderful, including a swing bridge, a ‘roller’\n",
      "bridge incorporating steam-operated sections that rolled from pier to pier, and\n",
      "a high-level bridge. All offered more or less workable solutions – some more\n",
      "expensive and complex than others – but all would visually overpower the\n",
      "historic tower and its setting. Many thought this far from desirable. Debate\n",
      "raged and two distinct interest groups emerged, each of which believed it should\n",
      "be responsible for the design and construction of the new bridge. There was the\n",
      "City Corporation, which had organised the competition and believed the proposed\n",
      "bridge was its responsibility. The City did, after all, begin just to the west\n",
      "of the site, and it had the funds to see the works to completion. They were to\n",
      "come from the City’s Bridge House estate, a body established in the early [/INST]  \n"
     ]
    }
   ],
   "source": [
    "test_tokens = tokenize(test_prompt)\n",
    "print(len(test_tokens[\"input_ids\"]))\n",
    "test_input_ids = torch.tensor(test_tokens[\"input_ids\"])\n",
    "test_attn_mask = torch.tensor(test_tokens[\"attention_mask\"])\n",
    "print(len(test_input_ids), len(test_attn_mask))\n",
    "unmasked_text = torch.masked_select(test_input_ids, test_attn_mask.bool())\n",
    "print(unmasked_text[0:100])\n",
    "# Now lets decode the text\n",
    "print(\".\")\n",
    "print(tokenizer.decode(unmasked_text, add_special_tokens=False))"
   ]
  },
  {
   "cell_type": "code",
   "execution_count": 149,
   "metadata": {},
   "outputs": [],
   "source": [
    "test_tokens = tokenizer(\n",
    "    [test_prompt],\n",
    "    padding=\"max_length\",\n",
    "    max_length=200,\n",
    "    truncation=True,\n",
    "    return_tensors=\"pt\",\n",
    "    add_special_tokens=False,\n",
    ").to(\"cuda\")"
   ]
  },
  {
   "cell_type": "code",
   "execution_count": 161,
   "metadata": {},
   "outputs": [],
   "source": [
    "from tqdm import tqdm\n",
    "\n",
    "\n",
    "def generate_text(text, max_length=50):\n",
    "    # Start with initial encoded text\n",
    "    input_ids = tokenizer.encode(text, return_tensors=\"pt\")\n",
    "    # Generate text\n",
    "    for _ in tqdm(range(max_length)):\n",
    "        with torch.no_grad():\n",
    "            outputs = model(input_ids=input_ids)\n",
    "            next_token_logits = outputs.logits[:, -1, :]\n",
    "            next_token_id = torch.argmax(next_token_logits, dim=-1, keepdim=True)\n",
    "        # Append the newly generated token ID to the existing input_ids tensor\n",
    "        input_ids = torch.cat([input_ids, next_token_id], dim=-1)\n",
    "        # Print the updated text at each step\n",
    "        # print(\"Updated text:\", tokenizer.decode(input_ids.squeeze()))\n",
    "        # print(tokenizer.decode(next_token_id))\n",
    "        # # Optional: Stop on specific conditions, e.g., end of sentence\n",
    "        # 1f next_token_id in tokenizer.encode(l'.', '?'\n",
    "\n",
    "    # Return the final generated text\n",
    "    return tokenizer.decode(input_ids.squeeze(), skip_special_tokens=False)"
   ]
  },
  {
   "cell_type": "code",
   "execution_count": 151,
   "metadata": {},
   "outputs": [
    {
     "data": {
      "text/plain": [
       "'<s> [INST] Given the text from a Walking tour book describing a specific route through the city of London, extract parts of the text that describe specific navigation instructions in it using  <NAV> and </NAV> tags as well as the reason tags: <REASON> </REASON> as shown in the examples that follow\\nThis walk starts at one of the most famous landmarks in Britain: Tower\\nBridge. This bridge is a rare thing – a much-admired structure of great\\ncharacter, even though it was forged through endless committee meetings,\\ncompromise, contradiction, uncertainty and a fair degree of absurdity. It has a\\nstory worth considering at some length as you ascend from Tower Hill tube and\\nstroll south across the bridge. The tale starts in the mid 1870s, when it was\\nargued that a river crossing to the east of London Bridge would both improve\\ncommunications in the City and, by providing direct access to industry on the\\nsouth bank, increase the commercial potential of the docks on the north. There\\nwas, for practical reasons, only one site possible – a strip of land just east\\nof the Tower of London – and a competition to find a suitable design was held.\\nThis was supervised by the City of London Corporation, which grabbed the\\ninitiative to build the new bridge. There was one key stipulation. It was not to\\nblock the access of tall-masted cargo ships to the wharves at the Pool of\\nLondon, immediately to the west of the tower. To protect navigation the span of\\nthe proposed bridge had to be either incredibly high or it would have to open in\\nsome way to allow ships to pass through. Over fifty detailed designs were\\nsubmitted. Most were weird and wonderful, including a swing bridge, a ‘roller’\\nbridge incorporating steam-operated sections that rolled from pier to pier, and\\na high-level bridge. All offered more or less workable solutions – some more\\nexpensive and complex than others – but all would visually overpower the\\nhistoric tower and its setting. Many thought this far from desirable. Debate\\nraged and two distinct interest groups emerged, each of which believed it should\\nbe responsible for the design and construction of the new bridge. There was the\\nCity Corporation, which had organised the competition and believed the proposed\\nbridge was its responsibility. The City did, after all, begin just to the west\\nof the site, and it had the funds to see the works to completion. They were to\\ncome from the City’s Bridge House estate, a body established in the early [/INST] '"
      ]
     },
     "execution_count": 151,
     "metadata": {},
     "output_type": "execute_result"
    }
   ],
   "source": [
    "test_prompt"
   ]
  },
  {
   "cell_type": "code",
   "execution_count": null,
   "metadata": {},
   "outputs": [
    {
     "name": "stdout",
     "output_type": "stream",
     "text": [
      "no more than a strong and utilitarian steel-made structural frame – an honest\n",
      "expression of the means of construction and of its function. The basic design\n",
      "strategy is still apparent: the twin towers rise on piers that are connected to\n",
      "the land by carriageways, which are supported from above by wrought-iron members\n",
      "that curve down to lower towers on the banks on either side. Between the tall\n",
      "main towers are the drawbridge sections of carriageway. Jones’s original\n",
      "chain-drawn mechanism, ultimately rejected as too slow, was replaced by a\n",
      "‘bascule’ or see-saw system, around which the two centre towers were built. In\n",
      "the bascule system, each section of road is counterbalanced by a mighty weight,\n",
      "which descends into a huge chamber when the bridge is opened. At first this was\n",
      "all powered by a cutting-edge coal-fuelled hydraulic engine, which has long\n",
      "since replaced by electricity. But the whole mechanism means that, like a ship,\n",
      "Tower Bridge has always had a crew and a bridgemaster, an engine room, a\n",
      "bridge-like control cabin, and vast and cavernous spaces in the bowels of the\n",
      "piers, rather like the holds within a great vessel. This makes the bridge like\n",
      "no other in London, a moving – almost a living – thing. Of course, the fashion\n",
      "for the display of ruthlessly engineered construction had not quite arrived,\n",
      "certainly not in the City of London – although the idea of unornamented\n",
      "engineering being in itself a structure’s primary ornament was being pioneered\n",
      "at the same time, far to the north, with the construction of the Forth Railway\n",
      "Bridge, built between 1882 and 1890. Tower Bridge’s steel frame was quickly clad\n",
      "with a richly detailed veneer of granite and Portland stone. These finishes, it\n",
      "was believed, gave the bridge the cultural pedigree to raise it above mere\n",
      "functionality and, in theory, to sit comfortably with the neighbouring Tower of\n",
      "London. It didn’t quite work. After Jones died in 1887, his design was modified\n",
      "into an even more peculiar form by Barry. He decided to replace Jones’s High\n",
      "Medieval – or ‘Middle Pointed’ – details with those in the Tudor Gothic style.\n",
      "Jones’s architecture would not have particularly harmonised with the Romanesque\n"
     ]
    },
    {
     "ename": "",
     "evalue": "",
     "output_type": "error",
     "traceback": [
      "\u001b[1;31mnotebook controller is DISPOSED. \n",
      "\u001b[1;31mView Jupyter <a href='command:jupyter.viewOutput'>log</a> for further details."
     ]
    }
   ],
   "source": [
    "print(test_dataset_chunks[0][\"chunk\"])"
   ]
  },
  {
   "cell_type": "code",
   "execution_count": 162,
   "metadata": {},
   "outputs": [
    {
     "name": "stderr",
     "output_type": "stream",
     "text": [
      "  0%|          | 0/50 [00:00<?, ?it/s]"
     ]
    },
    {
     "name": "stderr",
     "output_type": "stream",
     "text": [
      "/root/miniconda3/envs/mlx_week7/lib/python3.11/site-packages/torch/utils/checkpoint.py:460: UserWarning: torch.utils.checkpoint: please pass in use_reentrant=True or use_reentrant=False explicitly. The default value of use_reentrant will be updated to be False in the future. To maintain current behavior, pass use_reentrant=True. It is recommended that you use use_reentrant=False. Refer to docs for more details on the differences between the two variants.\n",
      "  warnings.warn(\n",
      "/root/miniconda3/envs/mlx_week7/lib/python3.11/site-packages/torch/utils/checkpoint.py:90: UserWarning: None of the inputs have requires_grad=True. Gradients will be None\n",
      "  warnings.warn(\n",
      "100%|██████████| 50/50 [01:22<00:00,  1.64s/it]\n"
     ]
    }
   ],
   "source": [
    "op = generate_text(test_dataset_chunks[0][\"chunk\"])"
   ]
  },
  {
   "cell_type": "code",
   "execution_count": 164,
   "metadata": {},
   "outputs": [
    {
     "name": "stdout",
     "output_type": "stream",
     "text": [
      "<s> This walk starts at one of the most famous landmarks in Britain: Tower\n",
      "Bridge. This bridge is a rare thing – a much-admired structure of great\n",
      "character, even though it was forged through endless committee meetings,\n",
      "compromise, contradiction, uncertainty and a fair degree of absurdity. It has a\n",
      "story worth considering at some length as you ascend from Tower Hill tube and\n",
      "stroll south across the bridge. The tale starts in the mid 1870s, when it was\n",
      "argued that a river crossing to the east of London Bridge would both improve\n",
      "communications in the City and, by providing direct access to industry on the\n",
      "south bank, increase the commercial potential of the docks on the north. There\n",
      "was, for practical reasons, only one site possible – a strip of land just east\n",
      "of the Tower of London – and a competition to find a suitable design was held.\n",
      "This was supervised by the City of London Corporation, which grabbed the\n",
      "initiative to build the new bridge. There was one key stipulation. It was not to\n",
      "block the access of tall-masted cargo ships to the wharves at the Pool of\n",
      "London, immediately to the west of the tower. To protect navigation the span of\n",
      "the proposed bridge had to be either incredibly high or it would have to open in\n",
      "some way to allow ships to pass through. Over fifty detailed designs were\n",
      "submitted. Most were weird and wonderful, including a swing bridge, a ‘roller’\n",
      "bridge incorporating steam-operated sections that rolled from pier to pier, and\n",
      "a high-level bridge. All offered more or less workable solutions – some more\n",
      "expensive and complex than others – but all would visually overpower the\n",
      "historic tower and its setting. Many thought this far from desirable. Debate\n",
      "raged and two distinct interest groups emerged, each of which believed it should\n",
      "be responsible for the design and construction of the new bridge. There was the\n",
      "City Corporation, which had organised the competition and believed the proposed\n",
      "bridge was its responsibility. The City did, after all, begin just to the west\n",
      "of the site, and it had the funds to see the works to completion. They were to\n",
      "come from the City’s Bridge House estate, a body established in the early\n",
      "thirteenth century to maintain London Bridge. The second group was the\n",
      "Associated Chambers of Commerce of the City and the Port of London, which\n",
      "believed the bridge was a matter for the Port of London Authority (PLA\n"
     ]
    }
   ],
   "source": [
    "print(op)"
   ]
  },
  {
   "cell_type": "code",
   "execution_count": 130,
   "metadata": {},
   "outputs": [
    {
     "data": {
      "text/plain": [
       "tensor([[415]])"
      ]
     },
     "execution_count": 130,
     "metadata": {},
     "output_type": "execute_result"
    }
   ],
   "source": [
    "next_token_ids = output.logits[:, -1, :]\n",
    "torch.argmax(next_token_ids, dim=-1, keepdim=True)"
   ]
  },
  {
   "cell_type": "code",
   "execution_count": 216,
   "metadata": {},
   "outputs": [
    {
     "data": {
      "text/plain": [
       "'<s> [INST] Given the text from a Walking tour book describing a specific route through the city of London, extract parts of the text that describe specific navigation instructions in it using  <NAV> and </NAV> tags as well as the reason tags: <REASON> </REASON>:\\nThis walk starts at one of the most famous landmarks in Britain: Tower\\nBridge. This bridge is a rare thing – a much-admired structure of great\\ncharacter, even though it was forged through endless committee meetings,\\ncompromise, contradiction, uncertainty and a fair degree of absurdity. It has a\\nstory worth considering at some length as you ascend from Tower Hill tube and\\nstroll south across the bridge. The tale starts in the mid 1870s, when it was\\nargued that a river crossing to the east of London Bridge would both improve\\ncommunications in the City and, by providing direct access to industry on the\\nsouth bank, increase the commercial potential of the docks on the north. There\\nwas, for practical reasons, only one site possible – a strip of land just east\\nof the Tower of London – and a competition to find a suitable design was held.\\nThis was supervised by the City of London Corporation, which grabbed the\\ninitiative to build the new bridge. There was one key stipulation. It was not to\\nblock the access of tall-masted cargo ships to the wharves at the Pool of\\nLondon, immediately to the west of the tower. To protect navigation the span of\\nthe proposed bridge had to be either incredibly high or it would have to open in\\nsome way to allow ships to pass through. Over fifty detailed designs were\\nsubmitted. Most were weird and wonderful, including a swing bridge, a ‘roller’\\nbridge incorporating steam-operated sections that rolled from pier to pier, and\\na high-level bridge. All offered more or less workable solutions – some more\\nexpensive and complex than others – but all would visually overpower the\\nhistoric tower and its setting. Many thought this far from desirable. Debate\\nraged and two distinct interest groups emerged, each of which believed it should\\nbe responsible for the design and construction of the new bridge. There was the\\nCity Corporation, which had organised the competition and believed the proposed\\nbridge was its responsibility. The City did, after all, begin just to the west\\nof the site, and it had the funds to see the works to completion. They were to\\ncome from the City’s Bridge House estate, a body established in the early [/INST] '"
      ]
     },
     "execution_count": 216,
     "metadata": {},
     "output_type": "execute_result"
    }
   ],
   "source": [
    "test_prompt"
   ]
  },
  {
   "cell_type": "code",
   "execution_count": 214,
   "metadata": {},
   "outputs": [
    {
     "data": {
      "text/plain": [
       "device(type='cuda', index=0)"
      ]
     },
     "execution_count": 214,
     "metadata": {},
     "output_type": "execute_result"
    }
   ],
   "source": []
  },
  {
   "cell_type": "code",
   "execution_count": 219,
   "metadata": {},
   "outputs": [
    {
     "data": {
      "text/plain": [
       "[1,\n",
       " 259,\n",
       " 32000,\n",
       " 28705,\n",
       " 12628,\n",
       " 272,\n",
       " 2245,\n",
       " 477,\n",
       " 264,\n",
       " 9863,\n",
       " 288,\n",
       " 3884,\n",
       " 1820,\n",
       " 18063,\n",
       " 264,\n",
       " 2948,\n",
       " 7103,\n",
       " 1059,\n",
       " 272,\n",
       " 2990,\n",
       " 302,\n",
       " 4222,\n",
       " 28725,\n",
       " 9131,\n",
       " 5099,\n",
       " 302,\n",
       " 272,\n",
       " 2245,\n",
       " 369,\n",
       " 6685,\n",
       " 2948,\n",
       " 18132,\n",
       " 11382,\n",
       " 297,\n",
       " 378,\n",
       " 1413,\n",
       " 259,\n",
       " 32002,\n",
       " 28705,\n",
       " 304,\n",
       " 28705,\n",
       " 32003,\n",
       " 28705,\n",
       " 12944,\n",
       " 390,\n",
       " 1162,\n",
       " 390,\n",
       " 272,\n",
       " 2611,\n",
       " 12944,\n",
       " 28747,\n",
       " 28705,\n",
       " 32004,\n",
       " 259,\n",
       " 32005,\n",
       " 714,\n",
       " 13,\n",
       " 3260,\n",
       " 2338,\n",
       " 8383,\n",
       " 438,\n",
       " 624,\n",
       " 302,\n",
       " 272,\n",
       " 1080,\n",
       " 8376,\n",
       " 2533,\n",
       " 17181,\n",
       " 297,\n",
       " 10174,\n",
       " 28747,\n",
       " 19895,\n",
       " 13,\n",
       " 28760,\n",
       " 9163,\n",
       " 28723,\n",
       " 851,\n",
       " 9850,\n",
       " 349,\n",
       " 264,\n",
       " 9964,\n",
       " 1970,\n",
       " 764,\n",
       " 264,\n",
       " 1188,\n",
       " 28733,\n",
       " 316,\n",
       " 28719,\n",
       " 1360,\n",
       " 4693,\n",
       " 302,\n",
       " 1598,\n",
       " 13,\n",
       " 19933,\n",
       " 28725,\n",
       " 1019,\n",
       " 2070,\n",
       " 378,\n",
       " 403,\n",
       " 354,\n",
       " 2560,\n",
       " 1059,\n",
       " 18284,\n",
       " 13414,\n",
       " 13251,\n",
       " 28725,\n",
       " 13,\n",
       " 3086,\n",
       " 6187,\n",
       " 28725,\n",
       " 15235,\n",
       " 3033,\n",
       " 28725,\n",
       " 18110,\n",
       " 304,\n",
       " 264,\n",
       " 4968,\n",
       " 6153,\n",
       " 302,\n",
       " 22976,\n",
       " 472,\n",
       " 28723,\n",
       " 661,\n",
       " 659,\n",
       " 264,\n",
       " 13,\n",
       " 18387,\n",
       " 4407,\n",
       " 9868,\n",
       " 438,\n",
       " 741,\n",
       " 3575,\n",
       " 390,\n",
       " 368,\n",
       " 13294,\n",
       " 416,\n",
       " 477,\n",
       " 19895,\n",
       " 7442,\n",
       " 17735,\n",
       " 304,\n",
       " 13,\n",
       " 303,\n",
       " 1584,\n",
       " 6287,\n",
       " 2673,\n",
       " 272,\n",
       " 9850,\n",
       " 28723,\n",
       " 415,\n",
       " 15642,\n",
       " 8383,\n",
       " 297,\n",
       " 272,\n",
       " 4725,\n",
       " 28705,\n",
       " 28740,\n",
       " 28783,\n",
       " 28787,\n",
       " 28734,\n",
       " 28713,\n",
       " 28725,\n",
       " 739,\n",
       " 378,\n",
       " 403,\n",
       " 13,\n",
       " 926,\n",
       " 2465,\n",
       " 369,\n",
       " 264,\n",
       " 7782,\n",
       " 17076,\n",
       " 298,\n",
       " 272,\n",
       " 9005,\n",
       " 302,\n",
       " 4222,\n",
       " 15050,\n",
       " 682,\n",
       " 1560,\n",
       " 4916,\n",
       " 13,\n",
       " 15976,\n",
       " 10399,\n",
       " 297,\n",
       " 272,\n",
       " 3805,\n",
       " 304,\n",
       " 28725,\n",
       " 486,\n",
       " 7501,\n",
       " 1863,\n",
       " 2735,\n",
       " 298,\n",
       " 4779,\n",
       " 356,\n",
       " 272,\n",
       " 13,\n",
       " 28713,\n",
       " 1881,\n",
       " 5206,\n",
       " 28725,\n",
       " 5247,\n",
       " 272,\n",
       " 7380,\n",
       " 4628,\n",
       " 302,\n",
       " 272,\n",
       " 281,\n",
       " 7712,\n",
       " 356,\n",
       " 272,\n",
       " 6120,\n",
       " 28723,\n",
       " 1387,\n",
       " 13,\n",
       " 9380,\n",
       " 28725,\n",
       " 354,\n",
       " 11118,\n",
       " 6494,\n",
       " 28725,\n",
       " 865,\n",
       " 624,\n",
       " 3455,\n",
       " 2572,\n",
       " 764,\n",
       " 264,\n",
       " 15039,\n",
       " 302,\n",
       " 2533,\n",
       " 776,\n",
       " 9005,\n",
       " 13,\n",
       " 1009,\n",
       " 272,\n",
       " 19895,\n",
       " 302,\n",
       " 4222,\n",
       " 764,\n",
       " 304,\n",
       " 264,\n",
       " 8995,\n",
       " 298,\n",
       " 1300,\n",
       " 264,\n",
       " 11633,\n",
       " 2621,\n",
       " 403,\n",
       " 3336,\n",
       " 28723,\n",
       " 13,\n",
       " 3260,\n",
       " 403,\n",
       " 2195,\n",
       " 23313,\n",
       " 486,\n",
       " 272,\n",
       " 3805,\n",
       " 302,\n",
       " 4222,\n",
       " 12377,\n",
       " 28725,\n",
       " 690,\n",
       " 13300,\n",
       " 272,\n",
       " 13,\n",
       " 1783,\n",
       " 26938,\n",
       " 298,\n",
       " 1813,\n",
       " 272,\n",
       " 633,\n",
       " 9850,\n",
       " 28723,\n",
       " 1387,\n",
       " 403,\n",
       " 624,\n",
       " 1945,\n",
       " 341,\n",
       " 508,\n",
       " 2677,\n",
       " 28723,\n",
       " 661,\n",
       " 403,\n",
       " 459,\n",
       " 298,\n",
       " 13,\n",
       " 3356,\n",
       " 272,\n",
       " 2735,\n",
       " 302,\n",
       " 9369,\n",
       " 28733,\n",
       " 28719,\n",
       " 13072,\n",
       " 16666,\n",
       " 11296,\n",
       " 298,\n",
       " 272,\n",
       " 388,\n",
       " 283,\n",
       " 1855,\n",
       " 438,\n",
       " 272,\n",
       " 23702,\n",
       " 302,\n",
       " 13,\n",
       " 20491,\n",
       " 28725,\n",
       " 5347,\n",
       " 298,\n",
       " 272,\n",
       " 7635,\n",
       " 302,\n",
       " 272,\n",
       " 15894,\n",
       " 28723,\n",
       " 1791,\n",
       " 5321,\n",
       " 18132,\n",
       " 272,\n",
       " 12363,\n",
       " 302,\n",
       " 13,\n",
       " 1237,\n",
       " 8278,\n",
       " 9850,\n",
       " 553,\n",
       " 298,\n",
       " 347,\n",
       " 2477,\n",
       " 14638,\n",
       " 1486,\n",
       " 442,\n",
       " 378,\n",
       " 682,\n",
       " 506,\n",
       " 298,\n",
       " 1565,\n",
       " 297,\n",
       " 13,\n",
       " 11183,\n",
       " 1069,\n",
       " 298,\n",
       " 1914,\n",
       " 11296,\n",
       " 298,\n",
       " 1455,\n",
       " 1059,\n",
       " 28723,\n",
       " 5235,\n",
       " 12320,\n",
       " 10537,\n",
       " 13580,\n",
       " 654,\n",
       " 13,\n",
       " 1666,\n",
       " 10286,\n",
       " 28723,\n",
       " 4822,\n",
       " 654,\n",
       " 10481,\n",
       " 304,\n",
       " 8590,\n",
       " 28725,\n",
       " 2490,\n",
       " 264,\n",
       " 14088,\n",
       " 9850,\n",
       " 28725,\n",
       " 264,\n",
       " 3475,\n",
       " 3462,\n",
       " 28809,\n",
       " 13,\n",
       " 15401,\n",
       " 10219,\n",
       " 1077,\n",
       " 15291,\n",
       " 28733,\n",
       " 3015,\n",
       " 601,\n",
       " 12458,\n",
       " 369,\n",
       " 12183,\n",
       " 477,\n",
       " 10833,\n",
       " 298,\n",
       " 10833,\n",
       " 28725,\n",
       " 304,\n",
       " 13,\n",
       " 28708,\n",
       " 1486,\n",
       " 28733,\n",
       " 4404,\n",
       " 9850,\n",
       " 28723,\n",
       " 1682,\n",
       " 6373,\n",
       " 680,\n",
       " 442,\n",
       " 2108,\n",
       " 771,\n",
       " 522,\n",
       " 7151,\n",
       " 764,\n",
       " 741,\n",
       " 680,\n",
       " 13,\n",
       " 5128,\n",
       " 4097,\n",
       " 304,\n",
       " 4630,\n",
       " 821,\n",
       " 2663,\n",
       " 764,\n",
       " 562,\n",
       " 544,\n",
       " 682,\n",
       " 1717,\n",
       " 1323,\n",
       " 754,\n",
       " 6468,\n",
       " 272,\n",
       " 13,\n",
       " 6575,\n",
       " 16891,\n",
       " 15894,\n",
       " 304,\n",
       " 871,\n",
       " 5587,\n",
       " 28723,\n",
       " 6025,\n",
       " 1654,\n",
       " 456,\n",
       " 2082,\n",
       " 477,\n",
       " 634,\n",
       " 19821,\n",
       " 28723,\n",
       " 10562,\n",
       " 380,\n",
       " 13,\n",
       " 28712,\n",
       " 2569,\n",
       " 304,\n",
       " 989,\n",
       " 9494,\n",
       " 2145,\n",
       " 4938,\n",
       " 16188,\n",
       " 28725,\n",
       " 1430,\n",
       " 302,\n",
       " 690,\n",
       " 7761,\n",
       " 378,\n",
       " 1023,\n",
       " 13,\n",
       " 1105,\n",
       " 7332,\n",
       " 354,\n",
       " 272,\n",
       " 2621,\n",
       " 304,\n",
       " 6380,\n",
       " 302,\n",
       " 272,\n",
       " 633,\n",
       " 9850,\n",
       " 28723,\n",
       " 1387,\n",
       " 403,\n",
       " 272,\n",
       " 13,\n",
       " 22013,\n",
       " 12377,\n",
       " 28725,\n",
       " 690,\n",
       " 553,\n",
       " 2170,\n",
       " 2458,\n",
       " 272,\n",
       " 8995,\n",
       " 304,\n",
       " 7761,\n",
       " 272,\n",
       " 8278,\n",
       " 13,\n",
       " 15401,\n",
       " 403,\n",
       " 871,\n",
       " 9680,\n",
       " 28723,\n",
       " 415,\n",
       " 3805,\n",
       " 863,\n",
       " 28725,\n",
       " 1024,\n",
       " 544,\n",
       " 28725,\n",
       " 2839,\n",
       " 776,\n",
       " 298,\n",
       " 272,\n",
       " 7635,\n",
       " 13,\n",
       " 1009,\n",
       " 272,\n",
       " 3455,\n",
       " 28725,\n",
       " 304,\n",
       " 378,\n",
       " 553,\n",
       " 272,\n",
       " 10419,\n",
       " 298,\n",
       " 1032,\n",
       " 272,\n",
       " 3791,\n",
       " 298,\n",
       " 15151,\n",
       " 28723,\n",
       " 1306,\n",
       " 654,\n",
       " 298,\n",
       " 13,\n",
       " 4215,\n",
       " 477,\n",
       " 272,\n",
       " 3805,\n",
       " 28809,\n",
       " 28713,\n",
       " 15050,\n",
       " 4594,\n",
       " 9490,\n",
       " 28725,\n",
       " 264,\n",
       " 2187,\n",
       " 6740,\n",
       " 297,\n",
       " 272,\n",
       " 2935,\n",
       " 28705,\n",
       " 32001,\n",
       " 259,\n",
       " 32002]"
      ]
     },
     "execution_count": 219,
     "metadata": {},
     "output_type": "execute_result"
    }
   ],
   "source": [
    "input_with_no_padding = tokenizer(\n",
    "    test_prompt + f\"{NAV_START_TAG}\",\n",
    "    add_special_tokens=False,\n",
    ")\n",
    "input_with_no_padding[\"input_ids\"]"
   ]
  },
  {
   "cell_type": "code",
   "execution_count": 197,
   "metadata": {},
   "outputs": [
    {
     "data": {
      "text/plain": [
       "torch.Size([1, 17792])"
      ]
     },
     "execution_count": 197,
     "metadata": {},
     "output_type": "execute_result"
    }
   ],
   "source": []
  },
  {
   "cell_type": "code",
   "execution_count": 247,
   "metadata": {},
   "outputs": [],
   "source": [
    "input_ids = torch.tensor(input_with_no_padding[\"input_ids\"]).unsqueeze(0)"
   ]
  },
  {
   "cell_type": "code",
   "execution_count": 248,
   "metadata": {},
   "outputs": [
    {
     "name": "stderr",
     "output_type": "stream",
     "text": [
      "  0%|          | 0/200 [00:00<?, ?it/s]"
     ]
    },
    {
     "name": "stderr",
     "output_type": "stream",
     "text": [
      "100%|██████████| 200/200 [06:08<00:00,  1.84s/it]\n"
     ]
    }
   ],
   "source": [
    "# Generate text\n",
    "for _ in tqdm(range(200)):\n",
    "    with torch.no_grad():\n",
    "        input_ids = model.generate(\n",
    "            input_ids,\n",
    "            max_new_tokens=1,\n",
    "            do_sample=False,\n",
    "            temperature=0.1,\n",
    "            pad_token_id=tokenizer.pad_token_id,\n",
    "            num_return_sequences=1,\n",
    "        )\n",
    "        token = tokenizer.decode(input_ids[:, -1].item())\n",
    "        if token == NAV_END_TAG:\n",
    "            input_ids = torch.cat(\n",
    "                (\n",
    "                    input_ids,\n",
    "                    torch.tensor(\n",
    "                        [\n",
    "                            tokenizer.convert_tokens_to_ids(REASON_START_TAG),\n",
    "                        ]\n",
    "                    ).unsqueeze(0),\n",
    "                ),\n",
    "                dim=-1,\n",
    "            )\n",
    "        elif token == REASON_END_TAG:\n",
    "            input_ids = torch.cat(\n",
    "                (\n",
    "                    input_ids,\n",
    "                    torch.tensor(\n",
    "                        [\n",
    "                            tokenizer.convert_tokens_to_ids(NAV_START_TAG),\n",
    "                        ]\n",
    "                    ).unsqueeze(0),\n",
    "                ),\n",
    "                dim=-1,\n",
    "            )\n",
    "        elif token == EOS_TOKEN:\n",
    "            break\n",
    "        # next_token_logits = outputs.logits[:, -1, :]\n",
    "        # next_token_id = torch.argmax(next_token_logits, dim=-1, keepdim=True)\n",
    "    # Append the newly generated token ID to the existing input_ids tensor\n",
    "\n",
    "    # input_ids = torch.cat([input_ids, outputs], dim=-1)"
   ]
  },
  {
   "cell_type": "code",
   "execution_count": 250,
   "metadata": {},
   "outputs": [
    {
     "name": "stdout",
     "output_type": "stream",
     "text": [
      "<s>  [INST]  Given the text from a Walking tour book describing a specific route through the city of London, extract parts of the text that describe specific navigation instructions in it using  <NAV>  and </NAV>  tags as well as the reason tags: <REASON>  </REASON> :\n",
      "This walk starts at one of the most famous landmarks in Britain: Tower\n",
      "Bridge. This bridge is a rare thing – a much-admired structure of great\n",
      "character, even though it was forged through endless committee meetings,\n",
      "compromise, contradiction, uncertainty and a fair degree of absurdity. It has a\n",
      "story worth considering at some length as you ascend from Tower Hill tube and\n",
      "stroll south across the bridge. The tale starts in the mid 1870s, when it was\n",
      "argued that a river crossing to the east of London Bridge would both improve\n",
      "communications in the City and, by providing direct access to industry on the\n",
      "south bank, increase the commercial potential of the docks on the north. There\n",
      "was, for practical reasons, only one site possible – a strip of land just east\n",
      "of the Tower of London – and a competition to find a suitable design was held.\n",
      "This was supervised by the City of London Corporation, which grabbed the\n",
      "initiative to build the new bridge. There was one key stipulation. It was not to\n",
      "block the access of tall-masted cargo ships to the wharves at the Pool of\n",
      "London, immediately to the west of the tower. To protect navigation the span of\n",
      "the proposed bridge had to be either incredibly high or it would have to open in\n",
      "some way to allow ships to pass through. Over fifty detailed designs were\n",
      "submitted. Most were weird and wonderful, including a swing bridge, a ‘roller’\n",
      "bridge incorporating steam-operated sections that rolled from pier to pier, and\n",
      "a high-level bridge. All offered more or less workable solutions – some more\n",
      "expensive and complex than others – but all would visually overpower the\n",
      "historic tower and its setting. Many thought this far from desirable. Debate\n",
      "raged and two distinct interest groups emerged, each of which believed it should\n",
      "be responsible for the design and construction of the new bridge. There was the\n",
      "City Corporation, which had organised the competition and believed the proposed\n",
      "bridge was its responsibility. The City did, after all, begin just to the west\n",
      "of the site, and it had the funds to see the works to completion. They were to\n",
      "come from the City’s Bridge House estate, a body established in the early [/INST]  <NAV>{% block reason %}\n",
      "This is a navigation instruction because it provides a specific direction to start the walk at a well-known landmark, Tower Bridge, and guides the reader to ascend from Tower Hill tube and stroll south across the bridge.{% endblock %}\n",
      "\n",
      "\n",
      "{% block reason %}\n",
      "This is a navigation instruction because it provides a specific direction to start the walk at a well-known landmark, Tower Bridge, and guides the reader to ascend from Tower Hill tube and stroll south across the bridge.{% endblock %}\n",
      "\n",
      "{% block reason %}\n",
      "This is a navigation instruction because it provides a specific direction to start the walk at a well-known landmark, Tower Bridge, and guides the reader to ascend from Tower Hill tube and stroll south across the bridge.{% endblock %}\n",
      "\n",
      "{% block reason %}\n",
      "This is a navigation instruction because it provides a specific direction to\n"
     ]
    }
   ],
   "source": [
    "# Now lets do what daniel taught me\n",
    "print(tokenizer.decode(input_ids.squeeze()))"
   ]
  },
  {
   "cell_type": "code",
   "execution_count": 242,
   "metadata": {},
   "outputs": [
    {
     "data": {
      "text/plain": [
       "tensor([[32003]])"
      ]
     },
     "execution_count": 242,
     "metadata": {},
     "output_type": "execute_result"
    }
   ],
   "source": [
    "torch.tensor([tokenizer.convert_tokens_to_ids(NAV_END_TAG)]).unsqueeze(0)"
   ]
  },
  {
   "cell_type": "code",
   "execution_count": 244,
   "metadata": {},
   "outputs": [
    {
     "data": {
      "text/plain": [
       "tensor([[    1,   259, 32000, 28705, 12628,   272,  2245,   477,   264,  9863,\n",
       "           288,  3884,  1820, 18063,   264,  2948,  7103,  1059,   272,  2990,\n",
       "           302,  4222, 28725,  9131,  5099,   302,   272,  2245,   369,  6685,\n",
       "          2948, 18132, 11382,   297,   378,  1413,   259, 32002, 28705,   304,\n",
       "         28705, 32003, 28705, 12944,   390,  1162,   390,   272,  2611, 12944,\n",
       "         28747, 28705, 32004,   259, 32005,   714,    13,  3260,  2338,  8383,\n",
       "           438,   624,   302,   272,  1080,  8376,  2533, 17181,   297, 10174,\n",
       "         28747, 19895,    13, 28760,  9163, 28723,   851,  9850,   349,   264,\n",
       "          9964,  1970,   764,   264,  1188, 28733,   316, 28719,  1360,  4693,\n",
       "           302,  1598,    13, 19933, 28725,  1019,  2070,   378,   403,   354,\n",
       "          2560,  1059, 18284, 13414, 13251, 28725,    13,  3086,  6187, 28725,\n",
       "         15235,  3033, 28725, 18110,   304,   264,  4968,  6153,   302, 22976,\n",
       "           472, 28723,   661,   659,   264,    13, 18387,  4407,  9868,   438,\n",
       "           741,  3575,   390,   368, 13294,   416,   477, 19895,  7442, 17735,\n",
       "           304,    13,   303,  1584,  6287,  2673,   272,  9850, 28723,   415,\n",
       "         15642,  8383,   297,   272,  4725, 28705, 28740, 28783, 28787, 28734,\n",
       "         28713, 28725,   739,   378,   403,    13,   926,  2465,   369,   264,\n",
       "          7782, 17076,   298,   272,  9005,   302,  4222, 15050,   682,  1560,\n",
       "          4916,    13, 15976, 10399,   297,   272,  3805,   304, 28725,   486,\n",
       "          7501,  1863,  2735,   298,  4779,   356,   272,    13, 28713,  1881,\n",
       "          5206, 28725,  5247,   272,  7380,  4628,   302,   272,   281,  7712,\n",
       "           356,   272,  6120, 28723,  1387,    13,  9380, 28725,   354, 11118,\n",
       "          6494, 28725,   865,   624,  3455,  2572,   764,   264, 15039,   302,\n",
       "          2533,   776,  9005,    13,  1009,   272, 19895,   302,  4222,   764,\n",
       "           304,   264,  8995,   298,  1300,   264, 11633,  2621,   403,  3336,\n",
       "         28723,    13,  3260,   403,  2195, 23313,   486,   272,  3805,   302,\n",
       "          4222, 12377, 28725,   690, 13300,   272,    13,  1783, 26938,   298,\n",
       "          1813,   272,   633,  9850, 28723,  1387,   403,   624,  1945,   341,\n",
       "           508,  2677, 28723,   661,   403,   459,   298,    13,  3356,   272,\n",
       "          2735,   302,  9369, 28733, 28719, 13072, 16666, 11296,   298,   272,\n",
       "           388,   283,  1855,   438,   272, 23702,   302,    13, 20491, 28725,\n",
       "          5347,   298,   272,  7635,   302,   272, 15894, 28723,  1791,  5321,\n",
       "         18132,   272, 12363,   302,    13,  1237,  8278,  9850,   553,   298,\n",
       "           347,  2477, 14638,  1486,   442,   378,   682,   506,   298,  1565,\n",
       "           297,    13, 11183,  1069,   298,  1914, 11296,   298,  1455,  1059,\n",
       "         28723,  5235, 12320, 10537, 13580,   654,    13,  1666, 10286, 28723,\n",
       "          4822,   654, 10481,   304,  8590, 28725,  2490,   264, 14088,  9850,\n",
       "         28725,   264,  3475,  3462, 28809,    13, 15401, 10219,  1077, 15291,\n",
       "         28733,  3015,   601, 12458,   369, 12183,   477, 10833,   298, 10833,\n",
       "         28725,   304,    13, 28708,  1486, 28733,  4404,  9850, 28723,  1682,\n",
       "          6373,   680,   442,  2108,   771,   522,  7151,   764,   741,   680,\n",
       "            13,  5128,  4097,   304,  4630,   821,  2663,   764,   562,   544,\n",
       "           682,  1717,  1323,   754,  6468,   272,    13,  6575, 16891, 15894,\n",
       "           304,   871,  5587, 28723,  6025,  1654,   456,  2082,   477,   634,\n",
       "         19821, 28723, 10562,   380,    13, 28712,  2569,   304,   989,  9494,\n",
       "          2145,  4938, 16188, 28725,  1430,   302,   690,  7761,   378,  1023,\n",
       "            13,  1105,  7332,   354,   272,  2621,   304,  6380,   302,   272,\n",
       "           633,  9850, 28723,  1387,   403,   272,    13, 22013, 12377, 28725,\n",
       "           690,   553,  2170,  2458,   272,  8995,   304,  7761,   272,  8278,\n",
       "            13, 15401,   403,   871,  9680, 28723,   415,  3805,   863, 28725,\n",
       "          1024,   544, 28725,  2839,   776,   298,   272,  7635,    13,  1009,\n",
       "           272,  3455, 28725,   304,   378,   553,   272, 10419,   298,  1032,\n",
       "           272,  3791,   298, 15151, 28723,  1306,   654,   298,    13,  4215,\n",
       "           477,   272,  3805, 28809, 28713, 15050,  4594,  9490, 28725,   264,\n",
       "          2187,  6740,   297,   272,  2935, 28705, 32001,   259, 32002, 28751,\n",
       "         28823,  2724,  9237,  1774,  1239, 28752,    13, 28789, 28720, 28767,\n",
       "            13, 28789,  3007, 28767,    13, 28789, 28716, 28770, 28767, 17896,\n",
       "          3133,  3112, 11423, 28716, 28770, 28767,    13, 28789, 28720, 28767,\n",
       "            13,  4130,   438, 19895, 15050,   304,   341,  1584,  6287,  2673,\n",
       "           272,  9850, 28723,    13,   700, 28720, 28767,    13,   700,  3007,\n",
       "         28767,    13,   700, 28720, 28767,    13, 28751, 28823,   948,  3356,\n",
       "          1239, 28752,    13, 32003,   259,    13,  3260,  2338,  8383,   438,\n",
       "           624,   302,   272,  1080,  8376,  2533, 17181,   297, 10174, 28747,\n",
       "         19895,    13, 28760,  9163, 28723,   851,  9850,   349,   264,  9964,\n",
       "          1970,   764,   264,  1188, 28733,   316, 28719,  1360,  4693,   302,\n",
       "          1598,    13, 19933, 28725,  1019,  2070,   378,   403,   354,  2560,\n",
       "          1059, 18284, 13414, 13251, 28725,    13,  3086,  6187, 28725, 15235,\n",
       "          3033, 28725, 18110,   304,   264,  4968,  6153,   302, 22976,   472,\n",
       "         28723,   661,   659,   264,    13, 18387,  4407,  9868,   438,   741,\n",
       "          3575,   390,   368, 13294,   416,   477, 19895,  7442, 17735,   304,\n",
       "            13,   303,  1584,  6287,  2673,   272,  9850, 28723,   415, 15642,\n",
       "          8383,   297,   272,  4725, 28705, 28740, 28783, 28787, 28734, 28713,\n",
       "         28725,   739,   378,   403,    13,   926,  2465,   369,   264,  7782,\n",
       "         17076,   298,   272,  9005,   302,  4222, 15050,   682,  1560,  4916,\n",
       "            13, 15976, 10399,   297,   272,  3805,   304, 28725,   486, 32003,\n",
       "         32004]])"
      ]
     },
     "execution_count": 244,
     "metadata": {},
     "output_type": "execute_result"
    }
   ],
   "source": [
    "torch.cat(\n",
    "    (\n",
    "        input_ids,\n",
    "        torch.tensor(\n",
    "            [\n",
    "                tokenizer.convert_tokens_to_ids(NAV_END_TAG),\n",
    "                tokenizer.convert_tokens_to_ids(REASON_START_TAG),\n",
    "            ]\n",
    "        ).unsqueeze(0),\n",
    "    ),\n",
    "    dim=-1,\n",
    ")"
   ]
  },
  {
   "cell_type": "code",
   "execution_count": 232,
   "metadata": {},
   "outputs": [
    {
     "name": "stdout",
     "output_type": "stream",
     "text": [
      "by , and City the in ications commun \n",
      " improve both would Bridge London of east the to crossing river a that ued arg \n",
      " was it when , s 0 7 8 1  mid the in starts tale The . bridge the across south roll st \n",
      " and tube Hill Tower from end asc you as length some at considering worth story \n",
      " a has It . ity absurd of degree fair a and uncertainty , iction contrad , romise comp \n",
      " , meetings committee endless through ged for was it though even , character \n",
      " great of structure ired m ad - much a – thing rare a is bridge This . ridge B \n",
      " Tower : Britain in marks land famous most the of one at starts walk This \n",
      "   ..\n",
      "</NAV> \n",
      " } % block end % { \n",
      " > p </ \n",
      " > section </ \n",
      " > p </ \n",
      " . bridge the across south roll st and Bridge Tower at Start \n",
      " > p < \n",
      " > 3 h :</ ruction Inst Navigation > 3 h < \n",
      " > section < \n",
      " > p < \n",
      " } % action extr block % "
     ]
    }
   ],
   "source": [
    "for i in range(-1, -200, -1):\n",
    "    if tokenizer.decode(input_ids[:, i].item()) == NAV_END_TAG:\n",
    "        print(\"..\")\n",
    "    print(tokenizer.decode(input_ids[:, i].item()), end=\" \")"
   ]
  },
  {
   "cell_type": "code",
   "execution_count": 201,
   "metadata": {},
   "outputs": [
    {
     "data": {
      "text/plain": [
       "torch.Size([1, 565])"
      ]
     },
     "execution_count": 201,
     "metadata": {},
     "output_type": "execute_result"
    }
   ],
   "source": [
    "input_ids.shape"
   ]
  },
  {
   "cell_type": "code",
   "execution_count": null,
   "metadata": {},
   "outputs": [],
   "source": []
  }
 ],
 "metadata": {
  "kernelspec": {
   "display_name": "Python 3 (ipykernel)",
   "language": "python",
   "name": "python3"
  },
  "language_info": {
   "codemirror_mode": {
    "name": "ipython",
    "version": 3
   },
   "file_extension": ".py",
   "mimetype": "text/x-python",
   "name": "python",
   "nbconvert_exporter": "python",
   "pygments_lexer": "ipython3",
   "version": "3.11.9"
  }
 },
 "nbformat": 4,
 "nbformat_minor": 2
}
